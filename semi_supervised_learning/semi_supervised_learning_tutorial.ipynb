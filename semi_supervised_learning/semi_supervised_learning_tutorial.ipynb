{
 "cells": [
  {
   "cell_type": "markdown",
   "metadata": {},
   "source": [
    "# Semi-Supervised Learning\n",
    "\n",
    "## Contents\n",
    "\n",
    "The Datasets used for this tutorial can be found here:\n"
   ]
  },
  {
   "cell_type": "markdown",
   "metadata": {},
   "source": [
    "--------"
   ]
  },
  {
   "cell_type": "markdown",
   "metadata": {},
   "source": [
    "## Introduction\n",
    "\n",
    "<p align=\"center\">\n",
    "    <img src=\"semi_supervised_images/ssl1.png\" width=\"400\"/>\n",
    "</p>\n",
    "\n",
    "Semi Supervised Learning, 즉 준지도학습은 적은 양의 labeled 데이터와 많은 양의 unlabeled 데이터가 있다면 unlabeled 데이터 까지 활용하여 모델을 학습하는 방법론들의 집합이다.\n",
    "\n",
    "준지도학습에서는 데이터의 본질적인 특성이 모델링 된다면, 소량의 labeled 데이터를 약간의 가이드 형식으로만 활용하여 전체적인 일반화 성능을 끌어올릴 수 있다는 전제를 두고 있다. 그렇기에 대부분의 준지도학습 모델의 손실함수는 두개의 term 이 결합된 형태이다.\n",
    "\n",
    "$$\n",
    "L = L_{supervised} + L_{unsupervised}\n",
    "$$\n",
    "\n",
    "데이터의 본질적인 특성의 모델링을 통한 성능향상 방법론이기에, 먼저 데이터에 대한 몇가지 가정이 필요하다.\n",
    "\n",
    "1. Smoothness Assumption\n",
    "\n",
    "    만약 데이터스페이스 상에서 두 샘플 $x_1, x_2$ 가 가깝다면, 이에 대응하는 정답 label $y_1, y_2$ 또한 가깝다.\n",
    "\n",
    "2. Cluster Assumption\n",
    "\n",
    "    데이터스페이스에는 높은 density 를 가진 영역과 낮은 density 를 가진 영역이 존재한다. 높은 density 를 가진 영역에는 대게 같은 label 을 가진 샘플들이 군집되어있다.\n",
    "\n",
    "3. Low Density Assumption\n",
    "\n",
    "    두개의 클래스를 구분짓는 분류경계면은 낮은 density region 을 통과한다. SVM 에서 Margin 을 최대화 하는 분류경계면을 최적의 경계면으로 채택하는 개념과 일맥상통한다.\n",
    "\n",
    "4. Manifold Assumption\n",
    "\n",
    "    고차원의 데이터의 특성을 그대로 유지하는 저차원의 manifold 가 존재한다.\n",
    "\n",
    "**이 중에서 가장 중요한 가정을 고르자면 모든 가정을 관통하는 Smoothness Assumption 이다.**"
   ]
  },
  {
   "cell_type": "markdown",
   "metadata": {},
   "source": [
    "## Consistency Regularization Methods\n",
    "\n",
    "준지도학습의 taxonomy 를 확인해보면 GAN based 생성모델 기반 학습, Graph 기반 학습 등 다양한 갈래가 존재하지만, 해당 튜토리얼은 Consistency Regularization Methods 을 다루고자 한다.\n",
    "\n",
    "Consistency Regularization Methods 는 이미지 도메인에서 많이 쓰이는 준지도학습 방법론들이며, unlabeled 샘플에 작은 perturbation 을 주어도 모델 자체의 예측은 일관성이 있을 거라는 가정 하에 출발한다.\n",
    "\n",
    "그렇기에 labeled 샘플에 대해서는 일반적으로 잘 맞추도록 학습되며, unlabeled 샘플에 대해서는 약간의 perturbation 을 준 샘플과 차이가 크지 않도록 학습이 된다. 이때 labeled 샘플에 대해서는 cross entropy 와 같은 일반적인 지도학습 손실함수가 사용되며, unlabeled 샘플에 대해서는 MSE, KL Divergence, Jensen Shannon Divergence 등 minimizing term 손실함수가 사용된다."
   ]
  },
  {
   "cell_type": "markdown",
   "metadata": {},
   "source": [
    "### Pi-Model\n",
    "\n",
    "\n",
    "<p align=\"center\">\n",
    "    <img src=\"semi_supervised_images/piarchitecture.png\" width=\"400\"/>\n",
    "</p>\n",
    "\n",
    "Pi Model 은 2017년 ICLR 에서 소개된 방법론이며, Consistency Regularization 의 큰 개념을 설명하는데 가장 적합하다 판단하여 먼저 다루고자 한다.\n",
    "\n",
    "> 본 논문에서는 특이하게도 output 을 $z_i$ 라고 표기하며, 샘플 $x_i$ 에 대한 정답 label 을 $y_i$ 로 표기한다. Perturbation 이 가해진 객체는 $\\tilde{z}$ 로 표기한다.\n",
    "\n",
    "네트워크 구조는 위와 같으며, 인풋 샘플에 대해 주는 stochastic augmentation (perturbation) 이 핵심이다. 각 Batch 기준으로 모델이 학습되는 원리는 다음과 같다."
   ]
  },
  {
   "cell_type": "markdown",
   "metadata": {},
   "source": [
    "#### Training of the Pi-Model\n",
    "\n",
    "1. 하나의 샘플에 대해 아주 작은 perturbation 을 준 두개의 샘플을 생성한다.\n",
    "2. 두개의 샘플을 같은 네트워크에 통과시킨다. 이때, 네트워크는 하나이지만 (같은 parameter) 각 샘플이 통과될 때 다른 dropout 이 적용된다.\n",
    "3. 두개의 샘플에 대한 두개의 모델의 예측 pair $(x_i, z_i), (\\tilde{x_i}, \\tilde{z_i})$ 을 생성한다.\n",
    "4. 둘중 아무 쌍 $(x_i, z_i)$ 이나 이용해서 supervised loss 를 계산하고, 두 쌍의 output $(z_i, \\tilde{z_i})$ 을 통해 unsupervised loss 를 계산한 뒤, parameter 을 업데이트 한다. 이때 supervised loss 는 해당 batch 안에 있는 labeled 샘플에 대해서만 계산이 되며 ($B \\cap L$), unsupervised loss 는 batch 속 모든 샘플에 대해서 계산이 된다.\n",
    "\n",
    "<p align=\"center\">\n",
    "    <img src=\"semi_supervised_images/pialg.png\" width=\"400\"/>\n",
    "</p>\n",
    "\n",
    "이때 supervised loss 는 cross entropy 를 사용하며, unsupervised loss 는 MSE 를 사용한다.\n",
    "\n",
    "실제로 loss 가 계산되는 term 을 확인해보면 cross entropy 와 MSE 의 결합으로 계산되는데, unsupervised weigth ramp up function $w(t)$ 이라는 term 이 MSE를 scaling 하는 것을 확인 할 수 있다. 이 weight ramp up function 은 단조증가하는 임의의 함수이며, 학습 시작점에선 0에 근접한다.\n",
    "\n",
    "다른 dropout 과 perturbation (gaussian) 을 사용했기 때문에 두개의 output $(z_i, \\tilde{z_i})$ 은 다르지만, 실제론 굉장히 가깝기에 MSE 를 계산하는것이 일리가 있다."
   ]
  },
  {
   "cell_type": "markdown",
   "metadata": {},
   "source": [
    "#### Limitations of the Pi-Model\n",
    "\n",
    "Unsupervised loss 는 모델의 두 output $(z_i, \\tilde{z_i})$ 에 대해 계산된다. 하지만 해당 output 은 단 한번의 evaluation 을 통해 생성되기 때문에 (초기엔 더더욱) noisy 하다는 단점이 있다. 그렇기에 Pi-Model 의 저자들이 동 논문에서 단점들을 보완한 Temporal Ensembling 을 제안한다."
   ]
  },
  {
   "cell_type": "markdown",
   "metadata": {},
   "source": [
    "### Temporal Ensembling"
   ]
  },
  {
   "cell_type": "markdown",
   "metadata": {},
   "source": [
    "<p align=\"center\">\n",
    "    <img src=\"semi_supervised_images/tempensarchitecture.png\" width=\"400\"/>\n",
    "</p>\n",
    "\n",
    "\n",
    "Temporal Ensembling 과 Pi-Model 의 차이점은 unsupervised loss 를 계산하는 방법에서 확인 할 수 있다. Pi-Model 은 하나의 샘플에 대해 두번의 perturbation 을 주어 두개의 output $(z_i, \\tilde{z_i})$ 사이의 loss 를 계산하지만, **Temporal Ensembling 은 해당 단계의 output $z_i$ 를 이전 단계들에서 구한 $z_i$ 의 가중합 사이의 loss 를 계산한다.**\n",
    "\n",
    "즉, 특정 단계에서 MSE 를 구할 땐 해당 단계에서의 output $z_i$ 와, 이전 단계들에서 누적된 $Z$ 사이의 차이를 계산한다.\n",
    "\n",
    "이때, $Z$ 는 $Z \\leftarrow \\alpha Z + (1-\\alpha)z$ 로 누적되며, $\\alpha$ 는 momentum term 으로, 본 논문에선 $\\alpha=0.6$ 으로 설정된다.\n",
    "\n",
    "<p align=\"center\">\n",
    "    <img src=\"semi_supervised_images/tempensalg.png\" width=\"400\"/>\n",
    "</p>\n"
   ]
  },
  {
   "cell_type": "markdown",
   "metadata": {},
   "source": [
    "#### Temporal Ensembling: Code Implementation"
   ]
  },
  {
   "cell_type": "code",
   "execution_count": 130,
   "metadata": {},
   "outputs": [
    {
     "name": "stdout",
     "output_type": "stream",
     "text": [
      "Operating system: Darwin, Device: mps\n"
     ]
    }
   ],
   "source": [
    "import os\n",
    "import platform\n",
    "import torch\n",
    "import torch.nn as nn\n",
    "import numpy as np\n",
    "import matplotlib.pyplot as plt\n",
    "import torch\n",
    "import torch.nn as nn\n",
    "import torch.nn.functional as F\n",
    "import torchvision\n",
    "import scienceplots\n",
    "from torchvision import datasets\n",
    "from torchvision import transforms\n",
    "from torch.utils.data import DataLoader\n",
    "from tqdm.notebook import tqdm\n",
    "\n",
    "plt.style.use(['science', 'notebook', 'grid'])\n",
    "\n",
    "if platform.system() == 'Darwin':\n",
    "    device = 'mps' if torch.backends.mps.is_available() else 'cpu'\n",
    "else:\n",
    "    device = 'cuda' if torch.cuda.is_available() else 'cpu'\n",
    "print(f'Operating system: {platform.system()}, Device: {device}')"
   ]
  },
  {
   "cell_type": "code",
   "execution_count": 35,
   "metadata": {},
   "outputs": [
    {
     "name": "stdout",
     "output_type": "stream",
     "text": [
      "{'T-shirt/top': 0, 'Trouser': 1, 'Pullover': 2, 'Dress': 3, 'Coat': 4, 'Sandal': 5, 'Shirt': 6, 'Sneaker': 7, 'Bag': 8, 'Ankle boot': 9}\n"
     ]
    },
    {
     "data": {
      "image/png": "[encoded data removed]",
      "text/plain": [
       "<Figure size 200x200 with 1 Axes>"
      ]
     },
     "metadata": {},
     "output_type": "display_data"
    }
   ],
   "source": [
    "transform = transforms.Compose([\n",
    "    transforms.ToTensor(),\n",
    "    transforms.Normalize((0.1307,), (0.3081,))\n",
    "])\n",
    "\n",
    "train_data = datasets.FashionMNIST(\n",
    "    root='data',\n",
    "    train=True,\n",
    "    download=True,\n",
    "    transform=transform,\n",
    "    target_transform=None\n",
    ")\n",
    "\n",
    "test_data = datasets.FashionMNIST(\n",
    "    root='data',\n",
    "    train=False,\n",
    "    download=True,\n",
    "    transform=transform\n",
    ")\n",
    "\n",
    "sample_img = train_data[0][0]\n",
    "plt.figure(figsize=(2,2))\n",
    "plt.imshow(sample_img.permute(1,2,0), cmap='gray');\n",
    "\n",
    "class_names = train_data.classes\n",
    "class_dict = train_data.class_to_idx\n",
    "print(class_dict)"
   ]
  },
  {
   "cell_type": "markdown",
   "metadata": {},
   "source": [
    "사용한 데이터셋은 10개의 패션 아이템을 모아둔 FashionMNIST다."
   ]
  },
  {
   "cell_type": "code",
   "execution_count": 163,
   "metadata": {},
   "outputs": [],
   "source": [
    "n = len(train_data)  # 60000 for mnist\n",
    "rrng = np.random.RandomState(42)\n",
    "indices = torch.zeros(100)  # indices of keep labeled data\n",
    "others = torch.zeros(n - 100)  # indices of unlabeled data\n",
    "card = 100 // len(class_names)  # number of samples per class\n",
    "cpt = 0\n",
    "\n",
    "for i in range(len(class_names)):\n",
    "    class_items = (train_data.train_labels == i).nonzero()  # indices of samples with label i\n",
    "    n_class = len(class_items)  # number of samples with label i\n",
    "    rd = rrng.permutation(np.arange(n_class))  # shuffle them\n",
    "    indices[i * card: (i+1) * card] = torch.squeeze(class_items[rd[:card]])\n",
    "    others[cpt: cpt+n_class-card] = torch.squeeze(class_items[rd[card:]])\n",
    "    cpt += (n_class-card)\n",
    "\n",
    "# tensor as indices must be long, byte or bool\n",
    "others = others.long()\n",
    "train_data.train_labels[others] = -1\n",
    "\n",
    "train_loader = torch.utils.data.DataLoader(dataset=train_data,\n",
    "                                            batch_size=64,\n",
    "                                            num_workers=2,\n",
    "                                            shuffle=False)\n",
    "\n",
    "test_loader = torch.utils.data.DataLoader(dataset=test_data,\n",
    "                                            batch_size=64,\n",
    "                                            num_workers=4,\n",
    "                                            shuffle=False,\n",
    "                                            drop_last=True)"
   ]
  },
  {
   "cell_type": "code",
   "execution_count": 54,
   "metadata": {},
   "outputs": [
    {
     "name": "stdout",
     "output_type": "stream",
     "text": [
      "Number of unlabeled samples in train data: 59900\n",
      "Number of unlabeled samples in test data: 0\n"
     ]
    }
   ],
   "source": [
    "no_label_train = [i for i in train_data.targets if i == -1]\n",
    "no_label_test = [i for i in test_data.targets if i == -1]\n",
    "print(f'Number of unlabeled samples in train data: {len(no_label_train)}')\n",
    "print(f'Number of unlabeled samples in test data: {len(no_label_test)}')"
   ]
  },
  {
   "cell_type": "markdown",
   "metadata": {},
   "source": [
    "FashionMNIST 데이터는 60,000개의 학습 샘플과 10,000개의 테스트 샘플을 가지고 있다. 기본적으로 모든 샘플들에는 레이블이 존재하기 때문에, 임의로 학습 샘플 중 100개의 샘플만 남겨두고 나머지 59,900 개의 샘플들의 레이블을 `-1`, 즉 unlabeled 데이터로 변환하였다."
   ]
  },
  {
   "cell_type": "code",
   "execution_count": 73,
   "metadata": {},
   "outputs": [
    {
     "data": {
      "image/png": "[encoded data removed]",
      "text/plain": [
       "<Figure size 200x200 with 1 Axes>"
      ]
     },
     "metadata": {},
     "output_type": "display_data"
    }
   ],
   "source": [
    "class GaussianNoise(nn.Module):\n",
    "    def __init__(self, batch_size, input_shape, std):\n",
    "        super(GaussianNoise, self).__init__()\n",
    "        self.shape = (batch_size, ) + input_shape\n",
    "        self.std = std\n",
    "        self.noise = torch.zeros(self.shape)\n",
    "\n",
    "    def forward(self, x):\n",
    "        self.noise.normal_(mean=0, std=self.std)\n",
    "        return x + self.noise\n",
    "gn = GaussianNoise(1, (1, 28, 28), 0.1)\n",
    "sample_perturbed_img = gn(sample_img).squeeze()\n",
    "plt.figure(figsize=(2,2))\n",
    "plt.imshow(sample_perturbed_img, cmap='gray');"
   ]
  },
  {
   "cell_type": "markdown",
   "metadata": {},
   "source": [
    "각 input sample 에 가우시안 perturbation 을 줄 class 를 정의하였다."
   ]
  },
  {
   "cell_type": "code",
   "execution_count": 85,
   "metadata": {},
   "outputs": [],
   "source": [
    "def mse_loss(out1, out2):\n",
    "    quad_diff = torch.sum((F.softmax(out1, dim=1) - F.softmax(out2, dim=1)) ** 2)\n",
    "    return quad_diff / out1.data.nelement()\n",
    "\n",
    "def masked_crossentropy(out, labels):\n",
    "    cond = (labels >= 0)\n",
    "    nnz = torch.nonzero(cond)\n",
    "    nbsup = len(nnz)\n",
    "    if nbsup > 0:\n",
    "        masked_outputs = torch.index_select(out, 0, nnz.view(nbsup))\n",
    "        masked_labels = labels[cond]\n",
    "        loss = F.cross_entropy(masked_outputs, masked_labels)\n",
    "        return loss, nbsup\n",
    "    loss = torch.tensor([0.], requires_grad=False)\n",
    "    return loss, 0\n",
    "\n",
    "def temporal_losses(out1, out2, w, labels):\n",
    "    sup_loss, nbsup = masked_crossentropy(out1, labels)\n",
    "    unsup_loss = mse_loss(out1, out2)\n",
    "    total_loss = sup_loss + w * unsup_loss\n",
    "    return total_loss, sup_loss, unsup_loss, nbsup"
   ]
  },
  {
   "cell_type": "markdown",
   "metadata": {},
   "source": [
    "함수 `temporal_losses` 는 supervised loss 인 `masked_crossentropy` unsupervised loss 인 `mse_loss` 와  의 wrapper 함수이다.\n",
    "\n",
    "$$\n",
    "\\begin{aligned}\n",
    "& \\frac{1}{|B|} \\sum_{i \\in(B \\cap L)} \\log z_i\\left[y_i\\right] +w(t) \\frac{1}{C|B|} \\sum_{i \\in B}\\left\\|z_i-\\tilde{z}_i\\right\\|^2\n",
    "\\end{aligned}\n",
    "$$\n",
    "\n",
    "이때 `temporal_losses` 는 `w` 를 인자로 받는데, 이는 unsupervised weight ramp up function 이다."
   ]
  },
  {
   "cell_type": "code",
   "execution_count": 146,
   "metadata": {},
   "outputs": [
    {
     "data": {
      "image/png": "[encoded data removed]",
      "text/plain": [
       "<Figure size 700x500 with 1 Axes>"
      ]
     },
     "metadata": {},
     "output_type": "display_data"
    }
   ],
   "source": [
    "def weight_scheduler(epoch, max_epochs, max_val, mult, n_labeled, n_samples):\n",
    "    max_val = max_val * (float(n_labeled) / n_samples)\n",
    "    if epoch == 0:\n",
    "        return 0.\n",
    "    elif epoch >= max_epochs:\n",
    "        pass\n",
    "    return max_val * np.exp(-mult * (1. - float(epoch) / max_epochs) ** 2)\n",
    "    \n",
    "max_epochs = 100\n",
    "max_val = 1.\n",
    "mult = 5\n",
    "\n",
    "x = np.arange(0, 100)\n",
    "y = [weight_scheduler(i, max_epochs, max_val, mult, 100, 60000) for i in x]\n",
    "plt.figure(figsize=(7, 5))\n",
    "plt.plot(x, y)\n",
    "plt.xlabel('Epoch')\n",
    "plt.ylabel('Weight')\n",
    "plt.title('Weight scheduler');\n"
   ]
  },
  {
   "cell_type": "markdown",
   "metadata": {},
   "source": [
    "Weight ramp up function 은 시작을 0으로 Epoch 이 진행될수록 단조증가하는 함수이다. \n",
    "\n",
    "$\\exp(-(1 - \\frac{epoch}{maxepochs})^2)$"
   ]
  },
  {
   "cell_type": "code",
   "execution_count": 138,
   "metadata": {},
   "outputs": [],
   "source": [
    "class CNN(nn.Module):\n",
    "    def __init__(self, batch_size, std, input_shape=(1, 28, 28), p=0.5, fm1=16, fm2=32):\n",
    "        super(CNN, self).__init__()\n",
    "        self.std = std\n",
    "        self.p = p\n",
    "        self.fm1 = fm1\n",
    "        self.fm2 = fm2\n",
    "        self.input_shape = input_shape\n",
    "        self.conv_block1 = nn.Sequential(nn.Conv2d(1, self.fm1, 3, stride=1, padding=1),\n",
    "                                        nn.BatchNorm2d(self.fm1), \n",
    "                                        nn.ReLU(),\n",
    "                                        nn.MaxPool2d(3, stride=2, padding=1)\n",
    "                                      )\n",
    "        \n",
    "        self.conv_block2 = nn.Sequential(nn.Conv2d(self.fm1, self.fm2, 3, stride=1, padding=1),\n",
    "                                        nn.BatchNorm2d(self.fm2), \n",
    "                                        nn.ReLU(),\n",
    "                                        nn.MaxPool2d(3, stride=2, padding=1)\n",
    "                                      )\n",
    "        self.drop = nn.Dropout(self.p)\n",
    "        self.fc = nn.Linear(self.fm2 * 7 * 7, 10)\n",
    "\n",
    "    def forward(self, x):\n",
    "        if self.training:\n",
    "            b = x.size(0)\n",
    "            gn = GaussianNoise(b, self.input_shape, self.std)\n",
    "            x = gn(x)\n",
    "\n",
    "        x = self.conv_block1(x)\n",
    "        x = self.conv_block2(x)\n",
    "        x = x.view(-1, self.fm2 * 7 * 7)\n",
    "        x = self.fc(self.drop(x))\n",
    "        return x"
   ]
  },
  {
   "cell_type": "markdown",
   "metadata": {},
   "source": [
    "실제로 학습할 모델 구조는 이미지 데이터에 걸맞는 CNN 구조를 선택하였다. 각 샘플에 대해 이전에 정의한 `GaussianNoise` 클래스를 통해 perturbation 을 주입하기 위한 인자 `std` 와, 마지막 affine층에 dropout 확률을 조절할 수 있는 인자 `p` 를 정의하였다.\n",
    "\n",
    "모델 구조는 2개의 convolutional block 과 1개의 affine layer 로 구성되어 있으며, 각 convolutional block 은 2차원 convolution, batch normalization, ReLU 활성화, 그리고 2차원 max pooling 으로 구성하였다.\n",
    "\n",
    "학습 시에는 input 데이터에 대해 가우시안 perturbation을 진행 한 뒤, 순전파를 거친다."
   ]
  },
  {
   "cell_type": "code",
   "execution_count": 147,
   "metadata": {},
   "outputs": [],
   "source": [
    "def calc_metrics(model, loader):\n",
    "    correct = 0\n",
    "    total = 0\n",
    "    for i, (samples, labels) in enumerate(loader):\n",
    "        labels = labels.requires_grad_(False)\n",
    "        outputs = model(samples)\n",
    "        _, predicted = torch.max(outputs.detach(), 1)\n",
    "        total += labels.size(0)\n",
    "        correct += (predicted == labels.detach().view_as(predicted)).sum()\n",
    "    acc = 100 * float(correct) / total\n",
    "    return acc\n",
    "\n",
    "def train(model, train_loader, val_loader ,seed, k, alpha, lr, num_epochs, batch_size, ntrain,n_classes=10, max_epochs=80, max_val=1.):\n",
    "    optimizer = torch.optim.Adam(model.parameters(), lr=lr, betas=(0.9, 0.99))\n",
    "\n",
    "    Z = torch.zeros(ntrain, n_classes).float()\n",
    "    z = torch.zeros(ntrain, n_classes).float()\n",
    "    outputs = torch.zeros(ntrain, n_classes).float()\n",
    "\n",
    "    losses = []\n",
    "    suplosses = []\n",
    "    unsuplosses = []\n",
    "    best_loss = 30.0\n",
    "    for epoch in range(num_epochs):\n",
    "        \n",
    "        print(f'\\nEpoch: {epoch+1}')\n",
    "        model.train()\n",
    "        w = weight_scheduler(epoch, max_epochs, max_val, 5, k, 60000)\n",
    "\n",
    "        w = torch.tensor(w, requires_grad=False)\n",
    "        print('---------------------')\n",
    "\n",
    "        for i, (images, labels) in tqdm(enumerate(train_loader)):\n",
    "            batch_size = images.size(0)\n",
    "            images = images\n",
    "            labels = labels.requires_grad_(False)\n",
    "\n",
    "            optimizer.zero_grad()\n",
    "            out = model(images)\n",
    "            \n",
    "            zcomp = z[i * batch_size: (i+1) * batch_size]\n",
    "            zcomp.requires_grad_(False)\n",
    "            loss, suploss, unsuploss, nbsup = temporal_losses(out, zcomp, w, labels)\n",
    "\n",
    "            outputs[i * batch_size: (i+1) * batch_size] = out.clone().detach()\n",
    "            losses.append(loss.item())\n",
    "            suplosses.append(nbsup * suploss.item())\n",
    "            unsuplosses.append(unsuploss.item())\n",
    "\n",
    "            loss.backward()\n",
    "            optimizer.step()\n",
    "\n",
    "        loss_mean = np.mean(losses)\n",
    "        supl_mean = np.mean(suplosses)\n",
    "        unsupl_mean = np.mean(unsuplosses)\n",
    "\n",
    "        print(f'Epoch {epoch+1}/{num_epochs}, Loss: {loss_mean:.6f}, Supervised Loss: {supl_mean:.6f}, Unsupervised Loss: {unsupl_mean:.6f}')\n",
    "        Z = alpha * Z + (1. - alpha) * outputs\n",
    "        z = Z * (1. / (1. - alpha ** (epoch + 1)))\n",
    "\n",
    "        if loss_mean < best_loss:\n",
    "            best_loss = loss_mean\n",
    "            torch.save({'state_dict': model.state_dict()}, 'model_best.pth')\n",
    "\n",
    "        model.eval()\n",
    "        acc = calc_metrics(model, val_loader)\n",
    "        print(f'Acc : {acc}')"
   ]
  },
  {
   "cell_type": "markdown",
   "metadata": {},
   "source": [
    "Temporal Ensembling 의 학습을 위한 함수를 정의하였다.\n",
    "첫 epoch 에는 reference 할 $Z$ 가 없기 때문에 먼저 0으로 초기화를 해주었다.\n",
    "```\n",
    "Z = torch.zeros(ntrain, n_classes).float()\n",
    "z = torch.zeros(ntrain, n_classes).float()\n",
    "```\n",
    "이후 한 epoch 이 지난 후, $\\alpha Z + (1-\\alpha)z$ 로 $Z$ 를 업데이트 해준 뒤, 다음 epoch 에서 target 으로 사용할 $z$ 를 $Z/(1-\\alpha^t)$ 가중평균으로 업데이트 해주었다.\n",
    "\n",
    "```\n",
    "Z = alpha * Z + (1. - alpha) * outputs\n",
    "z = Z * (1. / (1. - alpha ** (epoch + 1)))\n",
    "```"
   ]
  },
  {
   "cell_type": "code",
   "execution_count": 142,
   "metadata": {},
   "outputs": [
    {
     "name": "stdout",
     "output_type": "stream",
     "text": [
      "\n",
      "Epoch: 1\n",
      "---------------------\n"
     ]
    },
    {
     "data": {
      "application/vnd.jupyter.widget-view+json": {
       "model_id": "12e8622939ce45a2b01b94392a64e1bb",
       "version_major": 2,
       "version_minor": 0
      },
      "text/plain": [
       "0it [00:00, ?it/s]"
      ]
     },
     "metadata": {},
     "output_type": "display_data"
    },
    {
     "name": "stdout",
     "output_type": "stream",
     "text": [
      "Epoch 1/50, Loss: 0.482498, Supervised Loss: 0.487168, Unsupervised Loss: 0.055183\n",
      "Acc : 50.54\n",
      "\n",
      "Epoch: 2\n",
      "---------------------\n"
     ]
    },
    {
     "data": {
      "application/vnd.jupyter.widget-view+json": {
       "model_id": "7b3034a3102d42858f6265b2971b9199",
       "version_major": 2,
       "version_minor": 0
      },
      "text/plain": [
       "0it [00:00, ?it/s]"
      ]
     },
     "metadata": {},
     "output_type": "display_data"
    },
    {
     "name": "stdout",
     "output_type": "stream",
     "text": [
      "Epoch 2/50, Loss: 0.355230, Supervised Loss: 0.358557, Unsupervised Loss: 0.054616\n",
      "Acc : 56.86\n",
      "\n",
      "Epoch: 3\n",
      "---------------------\n"
     ]
    },
    {
     "data": {
      "application/vnd.jupyter.widget-view+json": {
       "model_id": "93317eafddf34dd4b563c64e23f230ad",
       "version_major": 2,
       "version_minor": 0
      },
      "text/plain": [
       "0it [00:00, ?it/s]"
      ]
     },
     "metadata": {},
     "output_type": "display_data"
    },
    {
     "name": "stdout",
     "output_type": "stream",
     "text": [
      "Epoch 3/50, Loss: 0.281673, Supervised Loss: 0.284004, Unsupervised Loss: 0.048527\n",
      "Acc : 63.20\n",
      "\n",
      "Epoch: 4\n",
      "---------------------\n"
     ]
    },
    {
     "data": {
      "application/vnd.jupyter.widget-view+json": {
       "model_id": "88f1a20a20fc4cce960a7feb0e369a30",
       "version_major": 2,
       "version_minor": 0
      },
      "text/plain": [
       "0it [00:00, ?it/s]"
      ]
     },
     "metadata": {},
     "output_type": "display_data"
    },
    {
     "name": "stdout",
     "output_type": "stream",
     "text": [
      "Epoch 4/50, Loss: 0.240190, Supervised Loss: 0.242011, Unsupervised Loss: 0.042495\n",
      "Acc : 61.59\n",
      "\n",
      "Epoch: 5\n",
      "---------------------\n"
     ]
    },
    {
     "data": {
      "application/vnd.jupyter.widget-view+json": {
       "model_id": "34cdb52762be4255984e03835d0093b1",
       "version_major": 2,
       "version_minor": 0
      },
      "text/plain": [
       "0it [00:00, ?it/s]"
      ]
     },
     "metadata": {},
     "output_type": "display_data"
    },
    {
     "name": "stdout",
     "output_type": "stream",
     "text": [
      "Epoch 5/50, Loss: 0.211269, Supervised Loss: 0.212726, Unsupervised Loss: 0.038273\n",
      "Acc : 61.90\n",
      "\n",
      "Epoch: 6\n",
      "---------------------\n"
     ]
    },
    {
     "data": {
      "application/vnd.jupyter.widget-view+json": {
       "model_id": "2e9c98aac6fd409d9960523ea8d8c333",
       "version_major": 2,
       "version_minor": 0
      },
      "text/plain": [
       "0it [00:00, ?it/s]"
      ]
     },
     "metadata": {},
     "output_type": "display_data"
    },
    {
     "name": "stdout",
     "output_type": "stream",
     "text": [
      "Epoch 6/50, Loss: 0.189089, Supervised Loss: 0.190377, Unsupervised Loss: 0.035337\n",
      "Acc : 60.49\n",
      "\n",
      "Epoch: 7\n",
      "---------------------\n"
     ]
    },
    {
     "data": {
      "application/vnd.jupyter.widget-view+json": {
       "model_id": "4fc094389d2c4b93b37c3ce651aeb3eb",
       "version_major": 2,
       "version_minor": 0
      },
      "text/plain": [
       "0it [00:00, ?it/s]"
      ]
     },
     "metadata": {},
     "output_type": "display_data"
    },
    {
     "name": "stdout",
     "output_type": "stream",
     "text": [
      "Epoch 7/50, Loss: 0.171863, Supervised Loss: 0.172973, Unsupervised Loss: 0.032965\n",
      "Acc : 62.70\n",
      "\n",
      "Epoch: 8\n",
      "---------------------\n"
     ]
    },
    {
     "data": {
      "application/vnd.jupyter.widget-view+json": {
       "model_id": "84bbfa8c7ba54c00928627b5e1cacd27",
       "version_major": 2,
       "version_minor": 0
      },
      "text/plain": [
       "0it [00:00, ?it/s]"
      ]
     },
     "metadata": {},
     "output_type": "display_data"
    },
    {
     "name": "stdout",
     "output_type": "stream",
     "text": [
      "Epoch 8/50, Loss: 0.155320, Supervised Loss: 0.156492, Unsupervised Loss: 0.031299\n",
      "Acc : 66.48\n",
      "\n",
      "Epoch: 9\n",
      "---------------------\n"
     ]
    },
    {
     "data": {
      "application/vnd.jupyter.widget-view+json": {
       "model_id": "909848e9a23e48cdad7a26acd80b79f4",
       "version_major": 2,
       "version_minor": 0
      },
      "text/plain": [
       "0it [00:00, ?it/s]"
      ]
     },
     "metadata": {},
     "output_type": "display_data"
    },
    {
     "name": "stdout",
     "output_type": "stream",
     "text": [
      "Epoch 9/50, Loss: 0.143544, Supervised Loss: 0.144587, Unsupervised Loss: 0.030113\n",
      "Acc : 66.92\n",
      "\n",
      "Epoch: 10\n",
      "---------------------\n"
     ]
    },
    {
     "data": {
      "application/vnd.jupyter.widget-view+json": {
       "model_id": "5b5784d24560489e8db34b6f1445fed4",
       "version_major": 2,
       "version_minor": 0
      },
      "text/plain": [
       "0it [00:00, ?it/s]"
      ]
     },
     "metadata": {},
     "output_type": "display_data"
    },
    {
     "name": "stdout",
     "output_type": "stream",
     "text": [
      "Epoch 10/50, Loss: 0.134025, Supervised Loss: 0.134964, Unsupervised Loss: 0.029217\n",
      "Acc : 65.49\n",
      "\n",
      "Epoch: 11\n",
      "---------------------\n"
     ]
    },
    {
     "data": {
      "application/vnd.jupyter.widget-view+json": {
       "model_id": "a29375687bb043a1a33a47a4d81216e5",
       "version_major": 2,
       "version_minor": 0
      },
      "text/plain": [
       "0it [00:00, ?it/s]"
      ]
     },
     "metadata": {},
     "output_type": "display_data"
    },
    {
     "name": "stdout",
     "output_type": "stream",
     "text": [
      "Epoch 11/50, Loss: 0.127086, Supervised Loss: 0.127940, Unsupervised Loss: 0.028382\n",
      "Acc : 66.17\n",
      "\n",
      "Epoch: 12\n",
      "---------------------\n"
     ]
    },
    {
     "data": {
      "application/vnd.jupyter.widget-view+json": {
       "model_id": "962d875703294b3d9ae22f943635e3bc",
       "version_major": 2,
       "version_minor": 0
      },
      "text/plain": [
       "0it [00:00, ?it/s]"
      ]
     },
     "metadata": {},
     "output_type": "display_data"
    },
    {
     "name": "stdout",
     "output_type": "stream",
     "text": [
      "Epoch 12/50, Loss: 0.119365, Supervised Loss: 0.120147, Unsupervised Loss: 0.027469\n",
      "Acc : 64.47\n",
      "\n",
      "Epoch: 13\n",
      "---------------------\n"
     ]
    },
    {
     "data": {
      "application/vnd.jupyter.widget-view+json": {
       "model_id": "fb1dbaf65aa144f8a94a8e2124e86fa6",
       "version_major": 2,
       "version_minor": 0
      },
      "text/plain": [
       "0it [00:00, ?it/s]"
      ]
     },
     "metadata": {},
     "output_type": "display_data"
    },
    {
     "name": "stdout",
     "output_type": "stream",
     "text": [
      "Epoch 13/50, Loss: 0.112159, Supervised Loss: 0.112883, Unsupervised Loss: 0.027187\n",
      "Acc : 65.78\n",
      "\n",
      "Epoch: 14\n",
      "---------------------\n"
     ]
    },
    {
     "data": {
      "application/vnd.jupyter.widget-view+json": {
       "model_id": "6903258798c14839a08f356f0ebf724a",
       "version_major": 2,
       "version_minor": 0
      },
      "text/plain": [
       "0it [00:00, ?it/s]"
      ]
     },
     "metadata": {},
     "output_type": "display_data"
    },
    {
     "name": "stdout",
     "output_type": "stream",
     "text": [
      "Epoch 14/50, Loss: 0.106423, Supervised Loss: 0.107095, Unsupervised Loss: 0.026904\n",
      "Acc : 66.40\n",
      "\n",
      "Epoch: 15\n",
      "---------------------\n"
     ]
    },
    {
     "data": {
      "application/vnd.jupyter.widget-view+json": {
       "model_id": "8209043af1a446f8970e7cb3c4c9e10b",
       "version_major": 2,
       "version_minor": 0
      },
      "text/plain": [
       "0it [00:00, ?it/s]"
      ]
     },
     "metadata": {},
     "output_type": "display_data"
    },
    {
     "name": "stdout",
     "output_type": "stream",
     "text": [
      "Epoch 15/50, Loss: 0.100988, Supervised Loss: 0.101615, Unsupervised Loss: 0.026676\n",
      "Acc : 65.06\n",
      "\n",
      "Epoch: 16\n",
      "---------------------\n"
     ]
    },
    {
     "data": {
      "application/vnd.jupyter.widget-view+json": {
       "model_id": "a9f6b2d50b754aacb13cbb9d03a1e54e",
       "version_major": 2,
       "version_minor": 0
      },
      "text/plain": [
       "0it [00:00, ?it/s]"
      ]
     },
     "metadata": {},
     "output_type": "display_data"
    },
    {
     "name": "stdout",
     "output_type": "stream",
     "text": [
      "Epoch 16/50, Loss: 0.096885, Supervised Loss: 0.097473, Unsupervised Loss: 0.026318\n",
      "Acc : 63.29\n",
      "\n",
      "Epoch: 17\n",
      "---------------------\n"
     ]
    },
    {
     "data": {
      "application/vnd.jupyter.widget-view+json": {
       "model_id": "d7e7d297d5be47be8610b525106ab7b4",
       "version_major": 2,
       "version_minor": 0
      },
      "text/plain": [
       "0it [00:00, ?it/s]"
      ]
     },
     "metadata": {},
     "output_type": "display_data"
    },
    {
     "name": "stdout",
     "output_type": "stream",
     "text": [
      "Epoch 17/50, Loss: 0.092693, Supervised Loss: 0.093246, Unsupervised Loss: 0.025886\n",
      "Acc : 66.87\n",
      "\n",
      "Epoch: 18\n",
      "---------------------\n"
     ]
    },
    {
     "data": {
      "application/vnd.jupyter.widget-view+json": {
       "model_id": "abde535ce2924ab38dfe3ab7c1dbe5af",
       "version_major": 2,
       "version_minor": 0
      },
      "text/plain": [
       "0it [00:00, ?it/s]"
      ]
     },
     "metadata": {},
     "output_type": "display_data"
    },
    {
     "name": "stdout",
     "output_type": "stream",
     "text": [
      "Epoch 18/50, Loss: 0.088357, Supervised Loss: 0.088880, Unsupervised Loss: 0.025517\n",
      "Acc : 66.37\n",
      "\n",
      "Epoch: 19\n",
      "---------------------\n"
     ]
    },
    {
     "data": {
      "application/vnd.jupyter.widget-view+json": {
       "model_id": "6ef77199df12431388ef907ef7facb4a",
       "version_major": 2,
       "version_minor": 0
      },
      "text/plain": [
       "0it [00:00, ?it/s]"
      ]
     },
     "metadata": {},
     "output_type": "display_data"
    },
    {
     "name": "stdout",
     "output_type": "stream",
     "text": [
      "Epoch 19/50, Loss: 0.083829, Supervised Loss: 0.084325, Unsupervised Loss: 0.025255\n",
      "Acc : 68.22\n",
      "\n",
      "Epoch: 20\n",
      "---------------------\n"
     ]
    },
    {
     "data": {
      "application/vnd.jupyter.widget-view+json": {
       "model_id": "0de43d43ddf44b3ea07998559db69f07",
       "version_major": 2,
       "version_minor": 0
      },
      "text/plain": [
       "0it [00:00, ?it/s]"
      ]
     },
     "metadata": {},
     "output_type": "display_data"
    },
    {
     "name": "stdout",
     "output_type": "stream",
     "text": [
      "Epoch 20/50, Loss: 0.080189, Supervised Loss: 0.080661, Unsupervised Loss: 0.024940\n",
      "Acc : 67.99\n",
      "\n",
      "Epoch: 21\n",
      "---------------------\n"
     ]
    },
    {
     "data": {
      "application/vnd.jupyter.widget-view+json": {
       "model_id": "573d6cb7180d4c8f831c4d49a5cd83d1",
       "version_major": 2,
       "version_minor": 0
      },
      "text/plain": [
       "0it [00:00, ?it/s]"
      ]
     },
     "metadata": {},
     "output_type": "display_data"
    },
    {
     "name": "stdout",
     "output_type": "stream",
     "text": [
      "Epoch 21/50, Loss: 0.077457, Supervised Loss: 0.077909, Unsupervised Loss: 0.024711\n",
      "Acc : 67.05\n",
      "\n",
      "Epoch: 22\n",
      "---------------------\n"
     ]
    },
    {
     "data": {
      "application/vnd.jupyter.widget-view+json": {
       "model_id": "7f26a8167a53482da65a72b068685c7f",
       "version_major": 2,
       "version_minor": 0
      },
      "text/plain": [
       "0it [00:00, ?it/s]"
      ]
     },
     "metadata": {},
     "output_type": "display_data"
    },
    {
     "name": "stdout",
     "output_type": "stream",
     "text": [
      "Epoch 22/50, Loss: 0.074355, Supervised Loss: 0.074786, Unsupervised Loss: 0.024612\n",
      "Acc : 69.16\n",
      "\n",
      "Epoch: 23\n",
      "---------------------\n"
     ]
    },
    {
     "data": {
      "application/vnd.jupyter.widget-view+json": {
       "model_id": "85ef29dd7a774c628b00c99236aad6aa",
       "version_major": 2,
       "version_minor": 0
      },
      "text/plain": [
       "0it [00:00, ?it/s]"
      ]
     },
     "metadata": {},
     "output_type": "display_data"
    },
    {
     "name": "stdout",
     "output_type": "stream",
     "text": [
      "Epoch 23/50, Loss: 0.071668, Supervised Loss: 0.072080, Unsupervised Loss: 0.024432\n",
      "Acc : 67.70\n",
      "\n",
      "Epoch: 24\n",
      "---------------------\n"
     ]
    },
    {
     "data": {
      "application/vnd.jupyter.widget-view+json": {
       "model_id": "951cd0b755cf4b659f52a411078290e4",
       "version_major": 2,
       "version_minor": 0
      },
      "text/plain": [
       "0it [00:00, ?it/s]"
      ]
     },
     "metadata": {},
     "output_type": "display_data"
    },
    {
     "name": "stdout",
     "output_type": "stream",
     "text": [
      "Epoch 24/50, Loss: 0.069339, Supervised Loss: 0.069734, Unsupervised Loss: 0.024344\n",
      "Acc : 68.31\n",
      "\n",
      "Epoch: 25\n",
      "---------------------\n"
     ]
    },
    {
     "data": {
      "application/vnd.jupyter.widget-view+json": {
       "model_id": "01e5205c3d2c4777849241ce5378dd8b",
       "version_major": 2,
       "version_minor": 0
      },
      "text/plain": [
       "0it [00:00, ?it/s]"
      ]
     },
     "metadata": {},
     "output_type": "display_data"
    },
    {
     "name": "stdout",
     "output_type": "stream",
     "text": [
      "Epoch 25/50, Loss: 0.067561, Supervised Loss: 0.067940, Unsupervised Loss: 0.024132\n",
      "Acc : 67.22\n",
      "\n",
      "Epoch: 26\n",
      "---------------------\n"
     ]
    },
    {
     "data": {
      "application/vnd.jupyter.widget-view+json": {
       "model_id": "9ea48c2767cf4ba096d3d828b90b11d9",
       "version_major": 2,
       "version_minor": 0
      },
      "text/plain": [
       "0it [00:00, ?it/s]"
      ]
     },
     "metadata": {},
     "output_type": "display_data"
    },
    {
     "name": "stdout",
     "output_type": "stream",
     "text": [
      "Epoch 26/50, Loss: 0.065487, Supervised Loss: 0.065851, Unsupervised Loss: 0.024006\n",
      "Acc : 68.34\n",
      "\n",
      "Epoch: 27\n",
      "---------------------\n"
     ]
    },
    {
     "data": {
      "application/vnd.jupyter.widget-view+json": {
       "model_id": "36c4af23cc464af4937216955923f329",
       "version_major": 2,
       "version_minor": 0
      },
      "text/plain": [
       "0it [00:00, ?it/s]"
      ]
     },
     "metadata": {},
     "output_type": "display_data"
    },
    {
     "name": "stdout",
     "output_type": "stream",
     "text": [
      "Epoch 27/50, Loss: 0.063323, Supervised Loss: 0.063674, Unsupervised Loss: 0.023786\n",
      "Acc : 70.16\n",
      "\n",
      "Epoch: 28\n",
      "---------------------\n"
     ]
    },
    {
     "data": {
      "application/vnd.jupyter.widget-view+json": {
       "model_id": "f66fd22400174909b418ae610b07e8d9",
       "version_major": 2,
       "version_minor": 0
      },
      "text/plain": [
       "0it [00:00, ?it/s]"
      ]
     },
     "metadata": {},
     "output_type": "display_data"
    },
    {
     "name": "stdout",
     "output_type": "stream",
     "text": [
      "Epoch 28/50, Loss: 0.061311, Supervised Loss: 0.061649, Unsupervised Loss: 0.023599\n",
      "Acc : 69.48\n",
      "\n",
      "Epoch: 29\n",
      "---------------------\n"
     ]
    },
    {
     "data": {
      "application/vnd.jupyter.widget-view+json": {
       "model_id": "14f5b26b67854bfb9c430904254a91c5",
       "version_major": 2,
       "version_minor": 0
      },
      "text/plain": [
       "0it [00:00, ?it/s]"
      ]
     },
     "metadata": {},
     "output_type": "display_data"
    },
    {
     "name": "stdout",
     "output_type": "stream",
     "text": [
      "Epoch 29/50, Loss: 0.059209, Supervised Loss: 0.059535, Unsupervised Loss: 0.023399\n",
      "Acc : 68.41\n",
      "\n",
      "Epoch: 30\n",
      "---------------------\n"
     ]
    },
    {
     "data": {
      "application/vnd.jupyter.widget-view+json": {
       "model_id": "2e5bf1f6758a4a1fb0b40d56d4dae207",
       "version_major": 2,
       "version_minor": 0
      },
      "text/plain": [
       "0it [00:00, ?it/s]"
      ]
     },
     "metadata": {},
     "output_type": "display_data"
    },
    {
     "name": "stdout",
     "output_type": "stream",
     "text": [
      "Epoch 30/50, Loss: 0.057282, Supervised Loss: 0.057597, Unsupervised Loss: 0.023254\n",
      "Acc : 68.89\n",
      "\n",
      "Epoch: 31\n",
      "---------------------\n"
     ]
    },
    {
     "data": {
      "application/vnd.jupyter.widget-view+json": {
       "model_id": "ecf277d6f75843aea10295ef8f167023",
       "version_major": 2,
       "version_minor": 0
      },
      "text/plain": [
       "0it [00:00, ?it/s]"
      ]
     },
     "metadata": {},
     "output_type": "display_data"
    },
    {
     "name": "stdout",
     "output_type": "stream",
     "text": [
      "Epoch 31/50, Loss: 0.056423, Supervised Loss: 0.056728, Unsupervised Loss: 0.023162\n",
      "Acc : 68.52\n",
      "\n",
      "Epoch: 32\n",
      "---------------------\n"
     ]
    },
    {
     "data": {
      "application/vnd.jupyter.widget-view+json": {
       "model_id": "a1adcd918bf740fa9e26e478d3e7c4bb",
       "version_major": 2,
       "version_minor": 0
      },
      "text/plain": [
       "0it [00:00, ?it/s]"
      ]
     },
     "metadata": {},
     "output_type": "display_data"
    },
    {
     "name": "stdout",
     "output_type": "stream",
     "text": [
      "Epoch 32/50, Loss: 0.054668, Supervised Loss: 0.054963, Unsupervised Loss: 0.023067\n",
      "Acc : 68.54\n",
      "\n",
      "Epoch: 33\n",
      "---------------------\n"
     ]
    },
    {
     "data": {
      "application/vnd.jupyter.widget-view+json": {
       "model_id": "ebced484d1c847eb99293eb74e218189",
       "version_major": 2,
       "version_minor": 0
      },
      "text/plain": [
       "0it [00:00, ?it/s]"
      ]
     },
     "metadata": {},
     "output_type": "display_data"
    },
    {
     "name": "stdout",
     "output_type": "stream",
     "text": [
      "Epoch 33/50, Loss: 0.053294, Supervised Loss: 0.053581, Unsupervised Loss: 0.023001\n",
      "Acc : 68.85\n",
      "\n",
      "Epoch: 34\n",
      "---------------------\n"
     ]
    },
    {
     "data": {
      "application/vnd.jupyter.widget-view+json": {
       "model_id": "55f207c9bd6b441499babe5891648bec",
       "version_major": 2,
       "version_minor": 0
      },
      "text/plain": [
       "0it [00:00, ?it/s]"
      ]
     },
     "metadata": {},
     "output_type": "display_data"
    },
    {
     "name": "stdout",
     "output_type": "stream",
     "text": [
      "Epoch 34/50, Loss: 0.051733, Supervised Loss: 0.052011, Unsupervised Loss: 0.022857\n",
      "Acc : 68.89\n",
      "\n",
      "Epoch: 35\n",
      "---------------------\n"
     ]
    },
    {
     "data": {
      "application/vnd.jupyter.widget-view+json": {
       "model_id": "a46a49bb1fff4f26bdd17f8a4f567c7b",
       "version_major": 2,
       "version_minor": 0
      },
      "text/plain": [
       "0it [00:00, ?it/s]"
      ]
     },
     "metadata": {},
     "output_type": "display_data"
    },
    {
     "name": "stdout",
     "output_type": "stream",
     "text": [
      "Epoch 35/50, Loss: 0.051040, Supervised Loss: 0.051310, Unsupervised Loss: 0.022779\n",
      "Acc : 68.74\n",
      "\n",
      "Epoch: 36\n",
      "---------------------\n"
     ]
    },
    {
     "data": {
      "application/vnd.jupyter.widget-view+json": {
       "model_id": "e7594c9acd8f480db0385a01dd0435ad",
       "version_major": 2,
       "version_minor": 0
      },
      "text/plain": [
       "0it [00:00, ?it/s]"
      ]
     },
     "metadata": {},
     "output_type": "display_data"
    },
    {
     "name": "stdout",
     "output_type": "stream",
     "text": [
      "Epoch 36/50, Loss: 0.050279, Supervised Loss: 0.050541, Unsupervised Loss: 0.022702\n",
      "Acc : 69.27\n",
      "\n",
      "Epoch: 37\n",
      "---------------------\n"
     ]
    },
    {
     "data": {
      "application/vnd.jupyter.widget-view+json": {
       "model_id": "8348d4fef156450989c7ab7d69b7f7bd",
       "version_major": 2,
       "version_minor": 0
      },
      "text/plain": [
       "0it [00:00, ?it/s]"
      ]
     },
     "metadata": {},
     "output_type": "display_data"
    },
    {
     "name": "stdout",
     "output_type": "stream",
     "text": [
      "Epoch 37/50, Loss: 0.049077, Supervised Loss: 0.049331, Unsupervised Loss: 0.022558\n",
      "Acc : 69.55\n",
      "\n",
      "Epoch: 38\n",
      "---------------------\n"
     ]
    },
    {
     "data": {
      "application/vnd.jupyter.widget-view+json": {
       "model_id": "d7905c902b7a46a2af6b6d6c38a010aa",
       "version_major": 2,
       "version_minor": 0
      },
      "text/plain": [
       "0it [00:00, ?it/s]"
      ]
     },
     "metadata": {},
     "output_type": "display_data"
    },
    {
     "name": "stdout",
     "output_type": "stream",
     "text": [
      "Epoch 38/50, Loss: 0.047787, Supervised Loss: 0.048035, Unsupervised Loss: 0.022379\n",
      "Acc : 69.00\n",
      "\n",
      "Epoch: 39\n",
      "---------------------\n"
     ]
    },
    {
     "data": {
      "application/vnd.jupyter.widget-view+json": {
       "model_id": "0ace47aac00147fea4a6b3ace3653ee3",
       "version_major": 2,
       "version_minor": 0
      },
      "text/plain": [
       "0it [00:00, ?it/s]"
      ]
     },
     "metadata": {},
     "output_type": "display_data"
    },
    {
     "name": "stdout",
     "output_type": "stream",
     "text": [
      "Epoch 39/50, Loss: 0.046564, Supervised Loss: 0.046805, Unsupervised Loss: 0.022230\n",
      "Acc : 69.36\n",
      "\n",
      "Epoch: 40\n",
      "---------------------\n"
     ]
    },
    {
     "data": {
      "application/vnd.jupyter.widget-view+json": {
       "model_id": "5b41b2e8369f4012818ce45bf68f18ff",
       "version_major": 2,
       "version_minor": 0
      },
      "text/plain": [
       "0it [00:00, ?it/s]"
      ]
     },
     "metadata": {},
     "output_type": "display_data"
    },
    {
     "name": "stdout",
     "output_type": "stream",
     "text": [
      "Epoch 40/50, Loss: 0.045401, Supervised Loss: 0.045636, Unsupervised Loss: 0.022060\n",
      "Acc : 68.84\n",
      "\n",
      "Epoch: 41\n",
      "---------------------\n"
     ]
    },
    {
     "data": {
      "application/vnd.jupyter.widget-view+json": {
       "model_id": "a2359922b0d24a248935093d2db33043",
       "version_major": 2,
       "version_minor": 0
      },
      "text/plain": [
       "0it [00:00, ?it/s]"
      ]
     },
     "metadata": {},
     "output_type": "display_data"
    },
    {
     "name": "stdout",
     "output_type": "stream",
     "text": [
      "Epoch 41/50, Loss: 0.045661, Supervised Loss: 0.045890, Unsupervised Loss: 0.021963\n",
      "Acc : 69.80\n",
      "\n",
      "Epoch: 42\n",
      "---------------------\n"
     ]
    },
    {
     "data": {
      "application/vnd.jupyter.widget-view+json": {
       "model_id": "0f7416cc5db1401b8615a4e5c37e47c8",
       "version_major": 2,
       "version_minor": 0
      },
      "text/plain": [
       "0it [00:00, ?it/s]"
      ]
     },
     "metadata": {},
     "output_type": "display_data"
    },
    {
     "name": "stdout",
     "output_type": "stream",
     "text": [
      "Epoch 42/50, Loss: 0.045076, Supervised Loss: 0.045299, Unsupervised Loss: 0.021853\n",
      "Acc : 69.58\n",
      "\n",
      "Epoch: 43\n",
      "---------------------\n"
     ]
    },
    {
     "data": {
      "application/vnd.jupyter.widget-view+json": {
       "model_id": "71c2283ba7a349ada7934065d49c5ee0",
       "version_major": 2,
       "version_minor": 0
      },
      "text/plain": [
       "0it [00:00, ?it/s]"
      ]
     },
     "metadata": {},
     "output_type": "display_data"
    },
    {
     "name": "stdout",
     "output_type": "stream",
     "text": [
      "Epoch 43/50, Loss: 0.044570, Supervised Loss: 0.044788, Unsupervised Loss: 0.021755\n",
      "Acc : 68.92\n",
      "\n",
      "Epoch: 44\n",
      "---------------------\n"
     ]
    },
    {
     "data": {
      "application/vnd.jupyter.widget-view+json": {
       "model_id": "3e7176f2239f479da26449cd8fe1e26e",
       "version_major": 2,
       "version_minor": 0
      },
      "text/plain": [
       "0it [00:00, ?it/s]"
      ]
     },
     "metadata": {},
     "output_type": "display_data"
    },
    {
     "name": "stdout",
     "output_type": "stream",
     "text": [
      "Epoch 44/50, Loss: 0.044082, Supervised Loss: 0.044295, Unsupervised Loss: 0.021668\n",
      "Acc : 69.65\n",
      "\n",
      "Epoch: 45\n",
      "---------------------\n"
     ]
    },
    {
     "data": {
      "application/vnd.jupyter.widget-view+json": {
       "model_id": "18af3208d57e476dbf6ba6037dc2b18b",
       "version_major": 2,
       "version_minor": 0
      },
      "text/plain": [
       "0it [00:00, ?it/s]"
      ]
     },
     "metadata": {},
     "output_type": "display_data"
    },
    {
     "name": "stdout",
     "output_type": "stream",
     "text": [
      "Epoch 45/50, Loss: 0.044167, Supervised Loss: 0.044375, Unsupervised Loss: 0.021607\n",
      "Acc : 69.75\n",
      "\n",
      "Epoch: 46\n",
      "---------------------\n"
     ]
    },
    {
     "data": {
      "application/vnd.jupyter.widget-view+json": {
       "model_id": "bca7e4ed59054e42ad857dd2a86fbd27",
       "version_major": 2,
       "version_minor": 0
      },
      "text/plain": [
       "0it [00:00, ?it/s]"
      ]
     },
     "metadata": {},
     "output_type": "display_data"
    },
    {
     "name": "stdout",
     "output_type": "stream",
     "text": [
      "Epoch 46/50, Loss: 0.043499, Supervised Loss: 0.043701, Unsupervised Loss: 0.021524\n",
      "Acc : 69.55\n",
      "\n",
      "Epoch: 47\n",
      "---------------------\n"
     ]
    },
    {
     "data": {
      "application/vnd.jupyter.widget-view+json": {
       "model_id": "2d3fafed9e864f15bc288a698ae6bcd7",
       "version_major": 2,
       "version_minor": 0
      },
      "text/plain": [
       "0it [00:00, ?it/s]"
      ]
     },
     "metadata": {},
     "output_type": "display_data"
    },
    {
     "name": "stdout",
     "output_type": "stream",
     "text": [
      "Epoch 47/50, Loss: 0.043408, Supervised Loss: 0.043607, Unsupervised Loss: 0.021410\n",
      "Acc : 69.73\n",
      "\n",
      "Epoch: 48\n",
      "---------------------\n"
     ]
    },
    {
     "data": {
      "application/vnd.jupyter.widget-view+json": {
       "model_id": "eff3e2326a1a4aff8740af0b62a887e8",
       "version_major": 2,
       "version_minor": 0
      },
      "text/plain": [
       "0it [00:00, ?it/s]"
      ]
     },
     "metadata": {},
     "output_type": "display_data"
    },
    {
     "name": "stdout",
     "output_type": "stream",
     "text": [
      "Epoch 48/50, Loss: 0.042939, Supervised Loss: 0.043133, Unsupervised Loss: 0.021320\n",
      "Acc : 69.56\n",
      "\n",
      "Epoch: 49\n",
      "---------------------\n"
     ]
    },
    {
     "data": {
      "application/vnd.jupyter.widget-view+json": {
       "model_id": "0468ae9657424892b4dba3f500f17058",
       "version_major": 2,
       "version_minor": 0
      },
      "text/plain": [
       "0it [00:00, ?it/s]"
      ]
     },
     "metadata": {},
     "output_type": "display_data"
    },
    {
     "name": "stdout",
     "output_type": "stream",
     "text": [
      "Epoch 49/50, Loss: 0.042734, Supervised Loss: 0.042924, Unsupervised Loss: 0.021248\n",
      "Acc : 69.19\n",
      "\n",
      "Epoch: 50\n",
      "---------------------\n"
     ]
    },
    {
     "data": {
      "application/vnd.jupyter.widget-view+json": {
       "model_id": "772769f471bf48ddb560955d2595c354",
       "version_major": 2,
       "version_minor": 0
      },
      "text/plain": [
       "0it [00:00, ?it/s]"
      ]
     },
     "metadata": {},
     "output_type": "display_data"
    },
    {
     "name": "stdout",
     "output_type": "stream",
     "text": [
      "Epoch 50/50, Loss: 0.041942, Supervised Loss: 0.042128, Unsupervised Loss: 0.021125\n",
      "Acc : 68.77\n"
     ]
    }
   ],
   "source": [
    "model = CNN(batch_size=64, std=0.1)\n",
    "train(model, train_loader, test_loader,\n",
    "        seed=0, k=100, alpha=0.6, lr=0.002,\n",
    "        num_epochs=50, batch_size=64, ntrain=(len(train_data)))"
   ]
  },
  {
   "cell_type": "markdown",
   "metadata": {},
   "source": [
    "$z$ 의 가중평균 momentum $\\alpha = 0.6$, learning rate 0.002, batch size 64 로 총 50 epoch 동안 학습을 진행하였다.\n",
    "\n",
    "`model.device` 를 따로 할당하지 않고 일반 cpu 에서 학습 한 결과 약 20분이 걸렸으며, 최종적인 Accuracy 는 약 68.77 였다."
   ]
  },
  {
   "cell_type": "code",
   "execution_count": 187,
   "metadata": {},
   "outputs": [
    {
     "name": "stdout",
     "output_type": "stream",
     "text": [
      "Testing Accuracy: 68.8\n"
     ]
    }
   ],
   "source": [
    "def evaluation(model, loader):\n",
    "    checkpoint = torch.load('model_best.pth')\n",
    "    model.load_state_dict(checkpoint['state_dict'])\n",
    "    model.eval()\n",
    "    correct = 0\n",
    "    total = 0\n",
    "    pred_probs = []\n",
    "    true_labels = []\n",
    "    with torch.inference_mode():\n",
    "        for i, (samples, labels) in enumerate(loader):\n",
    "            labels = labels.requires_grad_(False)\n",
    "            outputs = model(samples)\n",
    "            _, predicted = torch.max(outputs.detach(), 1)\n",
    "            total += labels.size(0)\n",
    "            correct += (predicted == labels.detach().view_as(predicted)).sum()\n",
    "            pred_probs.append(predicted)\n",
    "            true_labels.append(labels)\n",
    "        acc = 100 * float(correct) / total\n",
    "        print(f'Testing Accuracy: {acc:.1f}')\n",
    "        pred_probs = torch.cat(pred_probs)\n",
    "        labels = torch.cat(true_labels)\n",
    "    return pred_probs, labels\n",
    "\n",
    "pred_probs, labels = evaluation(model, test_loader)"
   ]
  },
  {
   "cell_type": "code",
   "execution_count": 186,
   "metadata": {},
   "outputs": [
    {
     "data": {
      "image/png": "[encoded data removed]",
      "text/plain": [
       "<Figure size 900x900 with 9 Axes>"
      ]
     },
     "metadata": {},
     "output_type": "display_data"
    }
   ],
   "source": [
    "plt.figure(figsize=(9, 9))\n",
    "nrows = 3\n",
    "ncols = 3\n",
    "for i, sample in enumerate(test_data):\n",
    "    plt.subplot(nrows, ncols, i+1)\n",
    "    plt.imshow(sample[0].squeeze(), cmap=\"gray\")\n",
    "    pred_label = class_names[pred_probs[i]]\n",
    "    truth_label = class_names[labels[i]] \n",
    "    title_text = f\"Pred: {pred_label} | Truth: {truth_label}\"\n",
    "    if pred_label == truth_label:\n",
    "        plt.title(title_text, fontsize=10, c=\"g\")\n",
    "        plt.axis(False);\n",
    "    else:\n",
    "        plt.title(title_text, fontsize=10, c=\"r\")\n",
    "        plt.axis(False);\n",
    "    if i==8:\n",
    "        break"
   ]
  },
  {
   "cell_type": "markdown",
   "metadata": {},
   "source": [
    "Test 데이터에 대한 Accuracy 는 약 68.8로, 일반적인 classification task 였으면 sub-par 한 성능이였겠지만, **총 60,000개의 학습 샘플 중 100개만 label 이 있다는 것을 감안 한다면 꽤나 준수한 성능을 보인 것을 알 수 있다.**"
   ]
  },
  {
   "cell_type": "code",
   "execution_count": null,
   "metadata": {},
   "outputs": [],
   "source": []
  },
  {
   "cell_type": "code",
   "execution_count": null,
   "metadata": {},
   "outputs": [],
   "source": []
  },
  {
   "cell_type": "code",
   "execution_count": null,
   "metadata": {},
   "outputs": [],
   "source": []
  },
  {
   "cell_type": "code",
   "execution_count": null,
   "metadata": {},
   "outputs": [],
   "source": []
  },
  {
   "cell_type": "code",
   "execution_count": null,
   "metadata": {},
   "outputs": [],
   "source": []
  },
  {
   "cell_type": "code",
   "execution_count": null,
   "metadata": {},
   "outputs": [],
   "source": []
  },
  {
   "cell_type": "code",
   "execution_count": null,
   "metadata": {},
   "outputs": [],
   "source": []
  }
 ],
 "metadata": {
  "kernelspec": {
   "display_name": "Python 3.10.8 ('pythonic')",
   "language": "python",
   "name": "python3"
  },
  "language_info": {
   "codemirror_mode": {
    "name": "ipython",
    "version": 3
   },
   "file_extension": ".py",
   "mimetype": "text/x-python",
   "name": "python",
   "nbconvert_exporter": "python",
   "pygments_lexer": "ipython3",
   "version": "3.10.8"
  },
  "orig_nbformat": 4,
  "vscode": {
   "interpreter": {
    "hash": "d9dfe8649efdebf637683ec0ff4ad50ece43b2e2443eff7ae8d3cefb2bef952f"
   }
  }
 },
 "nbformat": 4,
 "nbformat_minor": 2
}
