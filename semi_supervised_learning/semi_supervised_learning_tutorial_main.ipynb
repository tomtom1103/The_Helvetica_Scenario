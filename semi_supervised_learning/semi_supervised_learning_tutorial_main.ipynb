{
 "cells": [
  {
   "cell_type": "markdown",
   "metadata": {},
   "source": [
    "# Semi-Supervised Learning\n",
    "\n",
    "## Contents\n",
    "\n",
    "The Datasets used for this tutorial can be found here:\n"
   ]
  },
  {
   "cell_type": "markdown",
   "metadata": {},
   "source": [
    "--------"
   ]
  },
  {
   "cell_type": "markdown",
   "metadata": {},
   "source": [
    "## Introduction\n",
    "\n",
    "<p align=\"center\">\n",
    "    <img src=\"semi_supervised_images/ssl1.png\" width=\"400\"/>\n",
    "</p>\n",
    "\n",
    "Semi Supervised Learning, 즉 준지도학습은 적은 양의 labeled 데이터와 많은 양의 unlabeled 데이터가 있다면 unlabeled 데이터 까지 활용하여 모델을 학습하는 방법론들의 집합이다.\n",
    "\n",
    "준지도학습에서는 데이터의 본질적인 특성이 모델링 된다면, 소량의 labeled 데이터를 약간의 가이드 형식으로만 활용하여 전체적인 일반화 성능을 끌어올릴 수 있다는 전제를 두고 있다. 그렇기에 대부분의 준지도학습 모델의 손실함수는 두개의 term 이 결합된 형태이다.\n",
    "\n",
    "$$\n",
    "L = L_{supervised} + L_{unsupervised}\n",
    "$$\n",
    "\n",
    "데이터의 본질적인 특성의 모델링을 통한 성능향상 방법론이기에, 먼저 데이터에 대한 몇가지 가정이 필요하다.\n",
    "\n",
    "1. Smoothness Assumption\n",
    "\n",
    "    만약 데이터스페이스 상에서 두 샘플 $x_1, x_2$ 가 가깝다면, 이에 대응하는 정답 label $y_1, y_2$ 또한 가깝다.\n",
    "\n",
    "2. Cluster Assumption\n",
    "\n",
    "    데이터스페이스에는 높은 density 를 가진 영역과 낮은 density 를 가진 영역이 존재한다. 높은 density 를 가진 영역에는 대게 같은 label 을 가진 샘플들이 군집되어있다.\n",
    "\n",
    "3. Low Density Assumption\n",
    "\n",
    "    두개의 클래스를 구분짓는 분류경계면은 낮은 density region 을 통과한다. SVM 에서 Margin 을 최대화 하는 분류경계면을 최적의 경계면으로 채택하는 개념과 일맥상통한다.\n",
    "\n",
    "4. Manifold Assumption\n",
    "\n",
    "    고차원의 데이터의 특성을 그대로 유지하는 저차원의 manifold 가 존재한다.\n",
    "\n",
    "**이 중에서 가장 중요한 가정을 고르자면 모든 가정을 관통하는 Smoothness Assumption 이다.**"
   ]
  },
  {
   "cell_type": "markdown",
   "metadata": {},
   "source": [
    "## Consistency Regularization Methods\n",
    "\n",
    "준지도학습의 taxonomy 를 확인해보면 GAN based 생성모델 기반 학습, Graph 기반 학습 등 다양한 갈래가 존재하지만, 해당 튜토리얼은 Consistency Regularization Methods 을 다루고자 한다.\n",
    "\n",
    "Consistency Regularization Methods 는 이미지 도메인에서 많이 쓰이는 준지도학습 방법론들이며, unlabeled 샘플에 작은 perturbation 을 주어도 모델 자체의 예측은 일관성이 있을 거라는 가정 하에 출발한다.\n",
    "\n",
    "그렇기에 labeled 샘플에 대해서는 일반적으로 잘 맞추도록 학습되며, unlabeled 샘플에 대해서는 약간의 perturbation 을 준 샘플과 차이가 크지 않도록 학습이 된다. 이때 labeled 샘플에 대해서는 cross entropy 와 같은 일반적인 지도학습 손실함수가 사용되며, unlabeled 샘플에 대해서는 MSE, KL Divergence, Jensen Shannon Divergence 등 minimizing term 손실함수가 사용된다."
   ]
  },
  {
   "cell_type": "markdown",
   "metadata": {},
   "source": [
    "### Pi-Model\n",
    "\n",
    "\n",
    "<p align=\"center\">\n",
    "    <img src=\"semi_supervised_images/piarchitecture.png\" width=\"400\"/>\n",
    "</p>\n",
    "\n",
    "Pi Model 은 2017년 ICLR 에서 소개된 방법론이며, Consistency Regularization 의 큰 개념을 설명하는데 가장 적합하다 판단하여 먼저 다루고자 한다.\n",
    "\n",
    "> 본 논문에서는 특이하게도 output 을 $z_i$ 라고 표기하며, 샘플 $x_i$ 에 대한 정답 label 을 $y_i$ 로 표기한다. Perturbation 이 가해진 객체는 $\\tilde{z}$ 로 표기한다.\n",
    "\n",
    "네트워크 구조는 위와 같으며, 인풋 샘플에 대해 주는 stochastic augmentation (perturbation) 이 핵심이다. 각 Batch 기준으로 모델이 학습되는 원리는 다음과 같다."
   ]
  },
  {
   "cell_type": "markdown",
   "metadata": {},
   "source": [
    "#### Training of the Pi-Model\n",
    "\n",
    "1. 하나의 샘플에 대해 아주 작은 perturbation 을 준 두개의 샘플을 생성한다.\n",
    "2. 두개의 샘플을 같은 네트워크에 통과시킨다. 이때, 네트워크는 하나이지만 (같은 parameter) 각 샘플이 통과될 때 다른 dropout 이 적용된다.\n",
    "3. 두개의 샘플에 대한 두개의 모델의 예측 pair $(x_i, z_i), (\\tilde{x_i}, \\tilde{z_i})$ 을 생성한다.\n",
    "4. 둘중 아무 쌍 $(x_i, z_i)$ 이나 이용해서 supervised loss 를 계산하고, 두 쌍의 output $(z_i, \\tilde{z_i})$ 을 통해 unsupervised loss 를 계산한 뒤, parameter 을 업데이트 한다. 이때 supervised loss 는 해당 batch 안에 있는 labeled 샘플에 대해서만 계산이 되며 ($B \\cap L$), unsupervised loss 는 batch 속 모든 샘플에 대해서 계산이 된다.\n",
    "\n",
    "<p align=\"center\">\n",
    "    <img src=\"semi_supervised_images/pialg.png\" width=\"400\"/>\n",
    "</p>\n",
    "\n",
    "이때 supervised loss 는 cross entropy 를 사용하며, unsupervised loss 는 MSE 를 사용한다.\n",
    "\n",
    "실제로 loss 가 계산되는 term 을 확인해보면 cross entropy 와 MSE 의 결합으로 계산되는데, unsupervised weigth ramp up function $w(t)$ 이라는 term 이 MSE를 scaling 하는 것을 확인 할 수 있다. 이 weight ramp up function 은 단조증가하는 임의의 함수이며, 학습 시작점에선 0에 근접한다.\n",
    "\n",
    "다른 dropout 과 perturbation (gaussian) 을 사용했기 때문에 두개의 output $(z_i, \\tilde{z_i})$ 은 다르지만, 실제론 굉장히 가깝기에 MSE 를 계산하는것이 일리가 있다."
   ]
  },
  {
   "cell_type": "markdown",
   "metadata": {},
   "source": [
    "#### Pi-Model: Code Implementation"
   ]
  },
  {
   "cell_type": "code",
   "execution_count": 34,
   "metadata": {},
   "outputs": [
    {
     "name": "stdout",
     "output_type": "stream",
     "text": [
      "Operating system: Darwin, Device: mps\n"
     ]
    }
   ],
   "source": [
    "import os\n",
    "import platform\n",
    "import torch\n",
    "import torch.nn as nn\n",
    "import numpy as np\n",
    "import matplotlib.pyplot as plt\n",
    "import torch\n",
    "import torch.nn as nn\n",
    "import torch.nn.functional as F\n",
    "import torchvision\n",
    "import scienceplots\n",
    "from torchvision import datasets\n",
    "from torchvision import transforms\n",
    "from torch.utils.data import DataLoader\n",
    "from tqdm.notebook import tqdm\n",
    "\n",
    "plt.style.use(['science', 'notebook', 'grid'])\n",
    "\n",
    "if platform.system() == 'Darwin':\n",
    "    device = 'mps' if torch.backends.mps.is_available() else 'cpu'\n",
    "else:\n",
    "    device = 'cuda' if torch.cuda.is_available() else 'cpu'\n",
    "print(f'Operating system: {platform.system()}, Device: {device}')"
   ]
  },
  {
   "cell_type": "code",
   "execution_count": 21,
   "metadata": {},
   "outputs": [
    {
     "name": "stdout",
     "output_type": "stream",
     "text": [
      "{'T-shirt/top': 0, 'Trouser': 1, 'Pullover': 2, 'Dress': 3, 'Coat': 4, 'Sandal': 5, 'Shirt': 6, 'Sneaker': 7, 'Bag': 8, 'Ankle boot': 9}\n"
     ]
    },
    {
     "data": {
      "image/png": "[encoded data removed]",
      "text/plain": [
       "<Figure size 200x200 with 1 Axes>"
      ]
     },
     "metadata": {},
     "output_type": "display_data"
    }
   ],
   "source": [
    "transform = transforms.Compose([\n",
    "    transforms.ToTensor(),\n",
    "    transforms.Normalize((0.1307,), (0.3081,))\n",
    "])\n",
    "\n",
    "train_data = datasets.FashionMNIST(\n",
    "    root='data',\n",
    "    train=True,\n",
    "    download=True,\n",
    "    transform=transform,\n",
    "    target_transform=None\n",
    ")\n",
    "\n",
    "test_data = datasets.FashionMNIST(\n",
    "    root='data',\n",
    "    train=False,\n",
    "    download=True,\n",
    "    transform=transform\n",
    ")\n",
    "\n",
    "sample_img = train_data[0][0]\n",
    "plt.figure(figsize=(2,2))\n",
    "plt.imshow(sample_img.permute(1,2,0), cmap='gray');\n",
    "\n",
    "class_names = train_data.classes\n",
    "class_dict = train_data.class_to_idx\n",
    "print(class_dict)"
   ]
  },
  {
   "cell_type": "markdown",
   "metadata": {},
   "source": [
    "사용한 데이터셋은 10개의 패션 아이템을 모아둔 FashionMNIST다. MNIST 와 동일하게 60,000개의 train 샘플, 10,000개의 test sample 로 이루어져 있으며 이미지는 동일하게 28 by 28 차원이다."
   ]
  },
  {
   "cell_type": "code",
   "execution_count": 35,
   "metadata": {},
   "outputs": [
    {
     "name": "stderr",
     "output_type": "stream",
     "text": [
      "/Users/jonghyunlee/miniforge3/envs/pythonic/lib/python3.10/site-packages/torchvision/datasets/mnist.py:65: UserWarning: train_labels has been renamed targets\n",
      "  warnings.warn(\"train_labels has been renamed targets\")\n"
     ]
    }
   ],
   "source": [
    "n = len(train_data)\n",
    "rrng = np.random.RandomState(42)\n",
    "indices = torch.zeros(100)\n",
    "others = torch.zeros(n - 100)\n",
    "card = 100 // len(class_names)\n",
    "cpt = 0\n",
    "\n",
    "for i in range(len(class_names)):\n",
    "    class_items = (train_data.train_labels == i).nonzero()\n",
    "    n_class = len(class_items)\n",
    "    rd = rrng.permutation(np.arange(n_class))\n",
    "    indices[i * card: (i+1) * card] = torch.squeeze(class_items[rd[:card]])\n",
    "    others[cpt: cpt+n_class-card] = torch.squeeze(class_items[rd[card:]])\n",
    "    cpt += (n_class-card)\n",
    "\n",
    "others = others.long()\n",
    "train_data.train_labels[others] = -1\n",
    "\n",
    "train_loader = torch.utils.data.DataLoader(dataset=train_data,\n",
    "                                            batch_size=64,\n",
    "                                            num_workers=0,\n",
    "                                            shuffle=False)\n",
    "\n",
    "test_loader = torch.utils.data.DataLoader(dataset=test_data,\n",
    "                                            batch_size=64,\n",
    "                                            num_workers=0,\n",
    "                                            shuffle=False,\n",
    "                                            drop_last=True)"
   ]
  },
  {
   "cell_type": "code",
   "execution_count": 36,
   "metadata": {},
   "outputs": [
    {
     "name": "stdout",
     "output_type": "stream",
     "text": [
      "Number of unlabeled samples in train data: 59900\n",
      "Number of unlabeled samples in test data: 0\n"
     ]
    }
   ],
   "source": [
    "no_label_train = [i for i in train_data.targets if i == -1]\n",
    "no_label_test = [i for i in test_data.targets if i == -1]\n",
    "print(f'Number of unlabeled samples in train data: {len(no_label_train)}')\n",
    "print(f'Number of unlabeled samples in test data: {len(no_label_test)}')"
   ]
  },
  {
   "cell_type": "markdown",
   "metadata": {},
   "source": [
    "FashionMNIST 데이터는 60,000개의 학습 샘플과 10,000개의 테스트 샘플을 가지고 있다. 기본적으로 모든 샘플들에는 레이블이 존재하기 때문에, 임의로 학습 샘플 중 100개의 샘플만 남겨두고 나머지 59,900 개의 샘플들의 레이블을 `-1`, 즉 unlabeled 데이터로 변환하였다."
   ]
  },
  {
   "cell_type": "code",
   "execution_count": 37,
   "metadata": {},
   "outputs": [
    {
     "data": {
      "image/png": "[encoded data removed]",
      "text/plain": [
       "<Figure size 200x200 with 1 Axes>"
      ]
     },
     "metadata": {},
     "output_type": "display_data"
    }
   ],
   "source": [
    "class GaussianNoise(nn.Module):\n",
    "    def __init__(self, batch_size, input_shape, std):\n",
    "        super(GaussianNoise, self).__init__()\n",
    "        self.shape = (batch_size, ) + input_shape\n",
    "        self.std = std\n",
    "        self.noise = torch.zeros(self.shape)\n",
    "\n",
    "    def forward(self, x):\n",
    "        self.noise.normal_(mean=0, std=self.std)\n",
    "        return x + self.noise\n",
    "gn = GaussianNoise(1, (1, 28, 28), 0.1)\n",
    "sample_perturbed_img = gn(sample_img).squeeze()\n",
    "plt.figure(figsize=(2,2))\n",
    "plt.imshow(sample_perturbed_img, cmap='gray');"
   ]
  },
  {
   "cell_type": "markdown",
   "metadata": {},
   "source": [
    "각 input sample 에 가우시안 perturbation 을 줄 class 를 정의하였다."
   ]
  },
  {
   "cell_type": "code",
   "execution_count": 38,
   "metadata": {},
   "outputs": [],
   "source": [
    "def mse_loss(out1, out2):\n",
    "    quad_diff = torch.sum((F.softmax(out1, dim=1) - F.softmax(out2, dim=1)) ** 2)\n",
    "    return quad_diff / out1.data.nelement()\n",
    "\n",
    "def masked_crossentropy(out, labels):\n",
    "    cond = (labels >= 0)\n",
    "    nnz = torch.nonzero(cond)\n",
    "    nbsup = len(nnz)\n",
    "    if nbsup > 0:\n",
    "        masked_outputs = torch.index_select(out, 0, nnz.view(nbsup))\n",
    "        masked_labels = labels[cond]\n",
    "        loss = F.cross_entropy(masked_outputs, masked_labels)\n",
    "        return loss, nbsup\n",
    "    loss = torch.tensor([0.], requires_grad=False)\n",
    "    return loss, 0\n",
    "\n",
    "def temporal_losses(out1, out2, w, labels):\n",
    "    sup_loss, nbsup = masked_crossentropy(out1, labels)\n",
    "    unsup_loss = mse_loss(out1, out2)\n",
    "    total_loss = sup_loss + w * unsup_loss\n",
    "    return total_loss, sup_loss, unsup_loss, nbsup"
   ]
  },
  {
   "cell_type": "markdown",
   "metadata": {},
   "source": [
    "함수 `temporal_losses` 는 supervised loss 인 `masked_crossentropy` unsupervised loss 인 `mse_loss` 와  의 wrapper 함수이다.\n",
    "\n",
    "$$\n",
    "\\begin{aligned}\n",
    "& \\frac{1}{|B|} \\sum_{i \\in(B \\cap L)} \\log z_i\\left[y_i\\right] +w(t) \\frac{1}{C|B|} \\sum_{i \\in B}\\left\\|z_i-\\tilde{z}_i\\right\\|^2\n",
    "\\end{aligned}\n",
    "$$\n",
    "\n",
    "이때 `temporal_losses` 는 `w` 를 인자로 받는데, 이는 unsupervised weight ramp up function 이다."
   ]
  },
  {
   "cell_type": "code",
   "execution_count": 39,
   "metadata": {},
   "outputs": [
    {
     "data": {
      "image/png": "[encoded data removed]",
      "text/plain": [
       "<Figure size 700x500 with 1 Axes>"
      ]
     },
     "metadata": {},
     "output_type": "display_data"
    }
   ],
   "source": [
    "def weight_scheduler(epoch, max_epochs, max_val, mult, n_labeled, n_samples):\n",
    "    max_val = max_val * (float(n_labeled) / n_samples)\n",
    "    if epoch == 0:\n",
    "        return 0.\n",
    "    elif epoch >= max_epochs:\n",
    "        pass\n",
    "    return max_val * np.exp(-mult * (1. - float(epoch) / max_epochs) ** 2)\n",
    "    \n",
    "max_epochs = 100\n",
    "max_val = 1.\n",
    "mult = 5\n",
    "\n",
    "x = np.arange(0, 100)\n",
    "y = [weight_scheduler(i, max_epochs, max_val, mult, 100, 60000) for i in x]\n",
    "plt.figure(figsize=(7, 5))\n",
    "plt.plot(x, y)\n",
    "plt.xlabel('Epoch')\n",
    "plt.ylabel('Weight')\n",
    "plt.title('Weight scheduler');"
   ]
  },
  {
   "cell_type": "markdown",
   "metadata": {},
   "source": [
    "Weight ramp up function 은 시작을 0으로 Epoch 이 진행될수록 단조증가하는 함수이다. \n",
    "\n",
    "$\\exp(-(1 - \\frac{epoch}{maxepochs})^2)$"
   ]
  },
  {
   "cell_type": "code",
   "execution_count": 50,
   "metadata": {},
   "outputs": [],
   "source": [
    "class CNN_pi(nn.Module):\n",
    "    def __init__(self, batch_size, std, input_shape=(1, 28, 28), p=0.5, fm1=16, fm2=32):\n",
    "        super(CNN_pi, self).__init__()\n",
    "        self.std = std\n",
    "        self.p = p\n",
    "        self.fm1 = fm1\n",
    "        self.fm2 = fm2\n",
    "        self.input_shape = input_shape\n",
    "        self.conv_block1 = nn.Sequential(nn.Conv2d(1, self.fm1, 3, stride=1, padding=1),\n",
    "                                        nn.BatchNorm2d(self.fm1), \n",
    "                                        nn.ReLU(),\n",
    "                                        nn.MaxPool2d(3, stride=2, padding=1)\n",
    "                                      )\n",
    "        \n",
    "        self.conv_block2 = nn.Sequential(nn.Conv2d(self.fm1, self.fm2, 3, stride=1, padding=1),\n",
    "                                        nn.BatchNorm2d(self.fm2), \n",
    "                                        nn.ReLU(),\n",
    "                                        nn.MaxPool2d(3, stride=2, padding=1)\n",
    "                                      )\n",
    "        self.drop = nn.Dropout(self.p)\n",
    "        self.fc = nn.Linear(self.fm2 * 7 * 7, 10)\n",
    "\n",
    "    def forward(self, x):\n",
    "        if self.training:\n",
    "            b = x.size(0)\n",
    "            gn = GaussianNoise(b, self.input_shape, self.std)\n",
    "            x_2 = x.clone()\n",
    "            x = gn(x)\n",
    "            x_2 = gn(x_2)\n",
    "\n",
    "        else:\n",
    "            x_2 = x.clone()\n",
    "\n",
    "        x = self.conv_block1(x)\n",
    "        x = self.conv_block2(x)\n",
    "        x = x.reshape(-1, self.fm2 * 7 * 7)\n",
    "        x = self.fc(self.drop(x))\n",
    "        x_2 = self.conv_block1(x_2)\n",
    "        x_2 = self.conv_block2(x_2)\n",
    "        x_2 = x_2.reshape(-1, self.fm2 * 7 * 7)\n",
    "        x_2 = self.fc(self.drop(x_2))\n",
    "        return x, x_2"
   ]
  },
  {
   "cell_type": "markdown",
   "metadata": {},
   "source": [
    "실제로 학습할 모델 구조는 이미지 데이터에 걸맞는 CNN 구조를 선택하였다. 각 샘플에 대해 이전에 정의한 `GaussianNoise` 클래스를 통해 perturbation 을 주입하기 위한 인자 `std` 와, 마지막 affine층에 dropout 확률을 조절할 수 있는 인자 `p` 를 정의하였다.\n",
    "\n",
    "모델 구조는 2개의 convolutional block 과 1개의 affine layer 로 구성되어 있으며, 각 convolutional block 은 2차원 convolution, batch normalization, ReLU 활성화, 그리고 2차원 max pooling 으로 구성하였다.\n",
    "\n",
    "학습 시에는 input 데이터를 복제 한 뒤, 각각 가우시안 perturbation 을 준 뒤, 순전파를 거친다."
   ]
  },
  {
   "cell_type": "code",
   "execution_count": 51,
   "metadata": {},
   "outputs": [
    {
     "name": "stdout",
     "output_type": "stream",
     "text": [
      "Cosine similarity: tensor([0.7791], grad_fn=<SumBackward1>)\n"
     ]
    }
   ],
   "source": [
    "sample_model = CNN_pi(64, 0.1)\n",
    "sample_out, sample_out_2 = sample_model(sample_img)\n",
    "cos_sim = F.cosine_similarity(sample_out, sample_out_2, dim=1)\n",
    "print(f'Cosine similarity: {cos_sim}')"
   ]
  },
  {
   "cell_type": "markdown",
   "metadata": {},
   "source": [
    "실제로 sample image 를 순전파 하여 $z_i, \\tilde{z_i}$ 가 초기에 얼마나 다른지 코사인 유사도로 확인 해 본 결과, 서로 꽤나 다른 perturbation 이 가해진 것을 볼 수 있다."
   ]
  },
  {
   "cell_type": "code",
   "execution_count": 52,
   "metadata": {},
   "outputs": [],
   "source": [
    "model = CNN_pi(batch_size=64, std=0.1)\n",
    "k = 100\n",
    "lr = 0.002\n",
    "num_epochs = 50\n",
    "batch_size = 64\n",
    "n_classes = 10\n",
    "max_epochs = 80\n",
    "max_val = 1.\n",
    "optimizer = torch.optim.Adam(model.parameters(), lr=lr, betas=(0.9, 0.99))"
   ]
  },
  {
   "cell_type": "markdown",
   "metadata": {},
   "source": [
    "학습을 위한 모델 파라미터는 위와 같이 설정하였다. 본 논문에서 사용 한 것 처럼 ADAM 을 optimizer 로 사용하였으며, 50 epoch 을 학습 기간으로 설정하였다."
   ]
  },
  {
   "cell_type": "code",
   "execution_count": 53,
   "metadata": {},
   "outputs": [
    {
     "name": "stdout",
     "output_type": "stream",
     "text": [
      "\n",
      "Epoch: 1\n",
      "---------------------\n"
     ]
    },
    {
     "data": {
      "application/vnd.jupyter.widget-view+json": {
       "model_id": "4d013955b1f14231830bdebef4206d64",
       "version_major": 2,
       "version_minor": 0
      },
      "text/plain": [
       "0it [00:00, ?it/s]"
      ]
     },
     "metadata": {},
     "output_type": "display_data"
    },
    {
     "name": "stdout",
     "output_type": "stream",
     "text": [
      "Epoch 1/50, Loss: 0.424577, Supervised Loss: 0.424577, Unsupervised Loss: 0.015299\n",
      "Acc : 50.59094551282051\n",
      "\n",
      "Epoch: 2\n",
      "---------------------\n"
     ]
    },
    {
     "data": {
      "application/vnd.jupyter.widget-view+json": {
       "model_id": "2a45e91c389640db8015c05a5856fda0",
       "version_major": 2,
       "version_minor": 0
      },
      "text/plain": [
       "0it [00:00, ?it/s]"
      ]
     },
     "metadata": {},
     "output_type": "display_data"
    },
    {
     "name": "stdout",
     "output_type": "stream",
     "text": [
      "Epoch 2/50, Loss: 0.329587, Supervised Loss: 0.329586, Unsupervised Loss: 0.016265\n",
      "Acc : 59.55528846153846\n",
      "\n",
      "Epoch: 3\n",
      "---------------------\n"
     ]
    },
    {
     "data": {
      "application/vnd.jupyter.widget-view+json": {
       "model_id": "c908af60be4942aebbc59067d792bddf",
       "version_major": 2,
       "version_minor": 0
      },
      "text/plain": [
       "0it [00:00, ?it/s]"
      ]
     },
     "metadata": {},
     "output_type": "display_data"
    },
    {
     "name": "stdout",
     "output_type": "stream",
     "text": [
      "Epoch 3/50, Loss: 0.268073, Supervised Loss: 0.268073, Unsupervised Loss: 0.016472\n",
      "Acc : 57.552083333333336\n",
      "\n",
      "Epoch: 4\n",
      "---------------------\n"
     ]
    },
    {
     "data": {
      "application/vnd.jupyter.widget-view+json": {
       "model_id": "7efe2b304ded48ee84f8d5654c91272d",
       "version_major": 2,
       "version_minor": 0
      },
      "text/plain": [
       "0it [00:00, ?it/s]"
      ]
     },
     "metadata": {},
     "output_type": "display_data"
    },
    {
     "name": "stdout",
     "output_type": "stream",
     "text": [
      "Epoch 4/50, Loss: 0.230998, Supervised Loss: 0.230998, Unsupervised Loss: 0.016132\n",
      "Acc : 57.58213141025641\n",
      "\n",
      "Epoch: 5\n",
      "---------------------\n"
     ]
    },
    {
     "data": {
      "application/vnd.jupyter.widget-view+json": {
       "model_id": "ee7364bb65374f6e89a9360f2af37d00",
       "version_major": 2,
       "version_minor": 0
      },
      "text/plain": [
       "0it [00:00, ?it/s]"
      ]
     },
     "metadata": {},
     "output_type": "display_data"
    },
    {
     "name": "stdout",
     "output_type": "stream",
     "text": [
      "Epoch 5/50, Loss: 0.203512, Supervised Loss: 0.203512, Unsupervised Loss: 0.016008\n",
      "Acc : 59.31490384615385\n",
      "\n",
      "Epoch: 6\n",
      "---------------------\n"
     ]
    },
    {
     "data": {
      "application/vnd.jupyter.widget-view+json": {
       "model_id": "0cb916cc39d547c1870e17cc350f1be4",
       "version_major": 2,
       "version_minor": 0
      },
      "text/plain": [
       "0it [00:00, ?it/s]"
      ]
     },
     "metadata": {},
     "output_type": "display_data"
    },
    {
     "name": "stdout",
     "output_type": "stream",
     "text": [
      "Epoch 6/50, Loss: 0.178653, Supervised Loss: 0.178653, Unsupervised Loss: 0.016159\n",
      "Acc : 61.71875\n",
      "\n",
      "Epoch: 7\n",
      "---------------------\n"
     ]
    },
    {
     "data": {
      "application/vnd.jupyter.widget-view+json": {
       "model_id": "3e4aa264760f488fb8a022f6d0116dff",
       "version_major": 2,
       "version_minor": 0
      },
      "text/plain": [
       "0it [00:00, ?it/s]"
      ]
     },
     "metadata": {},
     "output_type": "display_data"
    },
    {
     "name": "stdout",
     "output_type": "stream",
     "text": [
      "Epoch 7/50, Loss: 0.165641, Supervised Loss: 0.165640, Unsupervised Loss: 0.016273\n",
      "Acc : 62.009214743589745\n",
      "\n",
      "Epoch: 8\n",
      "---------------------\n"
     ]
    },
    {
     "data": {
      "application/vnd.jupyter.widget-view+json": {
       "model_id": "5370f6909f094c19a293dc1b04ddfa58",
       "version_major": 2,
       "version_minor": 0
      },
      "text/plain": [
       "0it [00:00, ?it/s]"
      ]
     },
     "metadata": {},
     "output_type": "display_data"
    },
    {
     "name": "stdout",
     "output_type": "stream",
     "text": [
      "Epoch 8/50, Loss: 0.151252, Supervised Loss: 0.151252, Unsupervised Loss: 0.016355\n",
      "Acc : 60.84735576923077\n",
      "\n",
      "Epoch: 9\n",
      "---------------------\n"
     ]
    },
    {
     "data": {
      "application/vnd.jupyter.widget-view+json": {
       "model_id": "6488a87cadca4d5b8b06521036264a90",
       "version_major": 2,
       "version_minor": 0
      },
      "text/plain": [
       "0it [00:00, ?it/s]"
      ]
     },
     "metadata": {},
     "output_type": "display_data"
    },
    {
     "name": "stdout",
     "output_type": "stream",
     "text": [
      "Epoch 9/50, Loss: 0.139805, Supervised Loss: 0.139805, Unsupervised Loss: 0.016423\n",
      "Acc : 58.68389423076923\n",
      "\n",
      "Epoch: 10\n",
      "---------------------\n"
     ]
    },
    {
     "data": {
      "application/vnd.jupyter.widget-view+json": {
       "model_id": "97c656fc8c1340adbfbcf6ac82d23fa7",
       "version_major": 2,
       "version_minor": 0
      },
      "text/plain": [
       "0it [00:00, ?it/s]"
      ]
     },
     "metadata": {},
     "output_type": "display_data"
    },
    {
     "name": "stdout",
     "output_type": "stream",
     "text": [
      "Epoch 10/50, Loss: 0.128940, Supervised Loss: 0.128940, Unsupervised Loss: 0.016670\n",
      "Acc : 62.369791666666664\n",
      "\n",
      "Epoch: 11\n",
      "---------------------\n"
     ]
    },
    {
     "data": {
      "application/vnd.jupyter.widget-view+json": {
       "model_id": "8c02e8eb92144959b0944b44ec9b8375",
       "version_major": 2,
       "version_minor": 0
      },
      "text/plain": [
       "0it [00:00, ?it/s]"
      ]
     },
     "metadata": {},
     "output_type": "display_data"
    },
    {
     "name": "stdout",
     "output_type": "stream",
     "text": [
      "Epoch 11/50, Loss: 0.120008, Supervised Loss: 0.120007, Unsupervised Loss: 0.016959\n",
      "Acc : 63.52163461538461\n",
      "\n",
      "Epoch: 12\n",
      "---------------------\n"
     ]
    },
    {
     "data": {
      "application/vnd.jupyter.widget-view+json": {
       "model_id": "46d9805669354a1b818fad63d3a35e4a",
       "version_major": 2,
       "version_minor": 0
      },
      "text/plain": [
       "0it [00:00, ?it/s]"
      ]
     },
     "metadata": {},
     "output_type": "display_data"
    },
    {
     "name": "stdout",
     "output_type": "stream",
     "text": [
      "Epoch 12/50, Loss: 0.114047, Supervised Loss: 0.114047, Unsupervised Loss: 0.017177\n",
      "Acc : 64.13261217948718\n",
      "\n",
      "Epoch: 13\n",
      "---------------------\n"
     ]
    },
    {
     "data": {
      "application/vnd.jupyter.widget-view+json": {
       "model_id": "c6e97243a70143e29d5baf0a3ae4c102",
       "version_major": 2,
       "version_minor": 0
      },
      "text/plain": [
       "0it [00:00, ?it/s]"
      ]
     },
     "metadata": {},
     "output_type": "display_data"
    },
    {
     "name": "stdout",
     "output_type": "stream",
     "text": [
      "Epoch 13/50, Loss: 0.107968, Supervised Loss: 0.107967, Unsupervised Loss: 0.017481\n",
      "Acc : 64.4931891025641\n",
      "\n",
      "Epoch: 14\n",
      "---------------------\n"
     ]
    },
    {
     "data": {
      "application/vnd.jupyter.widget-view+json": {
       "model_id": "25bd3903d39447669ca9e91648100f1f",
       "version_major": 2,
       "version_minor": 0
      },
      "text/plain": [
       "0it [00:00, ?it/s]"
      ]
     },
     "metadata": {},
     "output_type": "display_data"
    },
    {
     "name": "stdout",
     "output_type": "stream",
     "text": [
      "Epoch 14/50, Loss: 0.103560, Supervised Loss: 0.103559, Unsupervised Loss: 0.017611\n",
      "Acc : 66.14583333333333\n",
      "\n",
      "Epoch: 15\n",
      "---------------------\n"
     ]
    },
    {
     "data": {
      "application/vnd.jupyter.widget-view+json": {
       "model_id": "032ed9afe91544cabf0fee00da07de3a",
       "version_major": 2,
       "version_minor": 0
      },
      "text/plain": [
       "0it [00:00, ?it/s]"
      ]
     },
     "metadata": {},
     "output_type": "display_data"
    },
    {
     "name": "stdout",
     "output_type": "stream",
     "text": [
      "Epoch 15/50, Loss: 0.097296, Supervised Loss: 0.097296, Unsupervised Loss: 0.017819\n",
      "Acc : 63.49158653846154\n",
      "\n",
      "Epoch: 16\n",
      "---------------------\n"
     ]
    },
    {
     "data": {
      "application/vnd.jupyter.widget-view+json": {
       "model_id": "ac315e6b397b409eaee31f83d1393676",
       "version_major": 2,
       "version_minor": 0
      },
      "text/plain": [
       "0it [00:00, ?it/s]"
      ]
     },
     "metadata": {},
     "output_type": "display_data"
    },
    {
     "name": "stdout",
     "output_type": "stream",
     "text": [
      "Epoch 16/50, Loss: 0.093129, Supervised Loss: 0.093129, Unsupervised Loss: 0.018018\n",
      "Acc : 65.77524038461539\n",
      "\n",
      "Epoch: 17\n",
      "---------------------\n"
     ]
    },
    {
     "data": {
      "application/vnd.jupyter.widget-view+json": {
       "model_id": "ae7efe98d96240cfa719b7fbb3667de3",
       "version_major": 2,
       "version_minor": 0
      },
      "text/plain": [
       "0it [00:00, ?it/s]"
      ]
     },
     "metadata": {},
     "output_type": "display_data"
    },
    {
     "name": "stdout",
     "output_type": "stream",
     "text": [
      "Epoch 17/50, Loss: 0.089459, Supervised Loss: 0.089459, Unsupervised Loss: 0.018245\n",
      "Acc : 63.3213141025641\n",
      "\n",
      "Epoch: 18\n",
      "---------------------\n"
     ]
    },
    {
     "data": {
      "application/vnd.jupyter.widget-view+json": {
       "model_id": "6f5f037332a24e15bcb453019103bc7e",
       "version_major": 2,
       "version_minor": 0
      },
      "text/plain": [
       "0it [00:00, ?it/s]"
      ]
     },
     "metadata": {},
     "output_type": "display_data"
    },
    {
     "name": "stdout",
     "output_type": "stream",
     "text": [
      "Epoch 18/50, Loss: 0.086470, Supervised Loss: 0.086469, Unsupervised Loss: 0.018442\n",
      "Acc : 67.578125\n",
      "\n",
      "Epoch: 19\n",
      "---------------------\n"
     ]
    },
    {
     "data": {
      "application/vnd.jupyter.widget-view+json": {
       "model_id": "7bbeff18c0c04af29a1eafa9610c37c4",
       "version_major": 2,
       "version_minor": 0
      },
      "text/plain": [
       "0it [00:00, ?it/s]"
      ]
     },
     "metadata": {},
     "output_type": "display_data"
    },
    {
     "name": "stdout",
     "output_type": "stream",
     "text": [
      "Epoch 19/50, Loss: 0.083091, Supervised Loss: 0.083091, Unsupervised Loss: 0.018632\n",
      "Acc : 64.40304487179488\n",
      "\n",
      "Epoch: 20\n",
      "---------------------\n"
     ]
    },
    {
     "data": {
      "application/vnd.jupyter.widget-view+json": {
       "model_id": "e1a69de22c534dbc85fb7e4d9e7c1136",
       "version_major": 2,
       "version_minor": 0
      },
      "text/plain": [
       "0it [00:00, ?it/s]"
      ]
     },
     "metadata": {},
     "output_type": "display_data"
    },
    {
     "name": "stdout",
     "output_type": "stream",
     "text": [
      "Epoch 20/50, Loss: 0.079929, Supervised Loss: 0.079928, Unsupervised Loss: 0.018820\n",
      "Acc : 67.62820512820512\n",
      "\n",
      "Epoch: 21\n",
      "---------------------\n"
     ]
    },
    {
     "data": {
      "application/vnd.jupyter.widget-view+json": {
       "model_id": "3115d25c0e86434ca1e5f7f61ddf3e44",
       "version_major": 2,
       "version_minor": 0
      },
      "text/plain": [
       "0it [00:00, ?it/s]"
      ]
     },
     "metadata": {},
     "output_type": "display_data"
    },
    {
     "name": "stdout",
     "output_type": "stream",
     "text": [
      "Epoch 21/50, Loss: 0.076437, Supervised Loss: 0.076436, Unsupervised Loss: 0.019027\n",
      "Acc : 67.25761217948718\n",
      "\n",
      "Epoch: 22\n",
      "---------------------\n"
     ]
    },
    {
     "data": {
      "application/vnd.jupyter.widget-view+json": {
       "model_id": "48e5d7bc66b04998ab11c064d2caa4a6",
       "version_major": 2,
       "version_minor": 0
      },
      "text/plain": [
       "0it [00:00, ?it/s]"
      ]
     },
     "metadata": {},
     "output_type": "display_data"
    },
    {
     "name": "stdout",
     "output_type": "stream",
     "text": [
      "Epoch 22/50, Loss: 0.074849, Supervised Loss: 0.074848, Unsupervised Loss: 0.019197\n",
      "Acc : 66.17588141025641\n",
      "\n",
      "Epoch: 23\n",
      "---------------------\n"
     ]
    },
    {
     "data": {
      "application/vnd.jupyter.widget-view+json": {
       "model_id": "394020e5080d4efeb1dfd12fb9d2a95b",
       "version_major": 2,
       "version_minor": 0
      },
      "text/plain": [
       "0it [00:00, ?it/s]"
      ]
     },
     "metadata": {},
     "output_type": "display_data"
    },
    {
     "name": "stdout",
     "output_type": "stream",
     "text": [
      "Epoch 23/50, Loss: 0.072810, Supervised Loss: 0.072808, Unsupervised Loss: 0.019377\n",
      "Acc : 67.51802884615384\n",
      "\n",
      "Epoch: 24\n",
      "---------------------\n"
     ]
    },
    {
     "data": {
      "application/vnd.jupyter.widget-view+json": {
       "model_id": "4d20010a9c39450ebbf540d40e52b019",
       "version_major": 2,
       "version_minor": 0
      },
      "text/plain": [
       "0it [00:00, ?it/s]"
      ]
     },
     "metadata": {},
     "output_type": "display_data"
    },
    {
     "name": "stdout",
     "output_type": "stream",
     "text": [
      "Epoch 24/50, Loss: 0.070423, Supervised Loss: 0.070422, Unsupervised Loss: 0.019483\n",
      "Acc : 67.81850961538461\n",
      "\n",
      "Epoch: 25\n",
      "---------------------\n"
     ]
    },
    {
     "data": {
      "application/vnd.jupyter.widget-view+json": {
       "model_id": "8b2ec75f221c4ebaa7a7eac720bf3715",
       "version_major": 2,
       "version_minor": 0
      },
      "text/plain": [
       "0it [00:00, ?it/s]"
      ]
     },
     "metadata": {},
     "output_type": "display_data"
    },
    {
     "name": "stdout",
     "output_type": "stream",
     "text": [
      "Epoch 25/50, Loss: 0.068169, Supervised Loss: 0.068168, Unsupervised Loss: 0.019652\n",
      "Acc : 66.24599358974359\n",
      "\n",
      "Epoch: 26\n",
      "---------------------\n"
     ]
    },
    {
     "data": {
      "application/vnd.jupyter.widget-view+json": {
       "model_id": "3983db91946b49f0b17d454ce532d741",
       "version_major": 2,
       "version_minor": 0
      },
      "text/plain": [
       "0it [00:00, ?it/s]"
      ]
     },
     "metadata": {},
     "output_type": "display_data"
    },
    {
     "ename": "KeyboardInterrupt",
     "evalue": "",
     "output_type": "error",
     "traceback": [
      "\u001b[0;31m---------------------------------------------------------------------------\u001b[0m",
      "\u001b[0;31mKeyboardInterrupt\u001b[0m                         Traceback (most recent call last)",
      "Cell \u001b[0;32mIn[53], line 35\u001b[0m\n\u001b[1;32m     32\u001b[0m     suplosses\u001b[39m.\u001b[39mappend(sup_loss\u001b[39m.\u001b[39mitem())\n\u001b[1;32m     33\u001b[0m     unsuplosses\u001b[39m.\u001b[39mappend(unsup_loss\u001b[39m.\u001b[39mitem())\n\u001b[0;32m---> 35\u001b[0m     loss\u001b[39m.\u001b[39;49mbackward()\n\u001b[1;32m     36\u001b[0m     optimizer\u001b[39m.\u001b[39mstep()\n\u001b[1;32m     38\u001b[0m loss_mean \u001b[39m=\u001b[39m np\u001b[39m.\u001b[39mmean(losses)\n",
      "File \u001b[0;32m~/miniforge3/envs/pythonic/lib/python3.10/site-packages/torch/_tensor.py:487\u001b[0m, in \u001b[0;36mTensor.backward\u001b[0;34m(self, gradient, retain_graph, create_graph, inputs)\u001b[0m\n\u001b[1;32m    477\u001b[0m \u001b[39mif\u001b[39;00m has_torch_function_unary(\u001b[39mself\u001b[39m):\n\u001b[1;32m    478\u001b[0m     \u001b[39mreturn\u001b[39;00m handle_torch_function(\n\u001b[1;32m    479\u001b[0m         Tensor\u001b[39m.\u001b[39mbackward,\n\u001b[1;32m    480\u001b[0m         (\u001b[39mself\u001b[39m,),\n\u001b[0;32m   (...)\u001b[0m\n\u001b[1;32m    485\u001b[0m         inputs\u001b[39m=\u001b[39minputs,\n\u001b[1;32m    486\u001b[0m     )\n\u001b[0;32m--> 487\u001b[0m torch\u001b[39m.\u001b[39;49mautograd\u001b[39m.\u001b[39;49mbackward(\n\u001b[1;32m    488\u001b[0m     \u001b[39mself\u001b[39;49m, gradient, retain_graph, create_graph, inputs\u001b[39m=\u001b[39;49minputs\n\u001b[1;32m    489\u001b[0m )\n",
      "File \u001b[0;32m~/miniforge3/envs/pythonic/lib/python3.10/site-packages/torch/autograd/__init__.py:197\u001b[0m, in \u001b[0;36mbackward\u001b[0;34m(tensors, grad_tensors, retain_graph, create_graph, grad_variables, inputs)\u001b[0m\n\u001b[1;32m    192\u001b[0m     retain_graph \u001b[39m=\u001b[39m create_graph\n\u001b[1;32m    194\u001b[0m \u001b[39m# The reason we repeat same the comment below is that\u001b[39;00m\n\u001b[1;32m    195\u001b[0m \u001b[39m# some Python versions print out the first line of a multi-line function\u001b[39;00m\n\u001b[1;32m    196\u001b[0m \u001b[39m# calls in the traceback and some print out the last line\u001b[39;00m\n\u001b[0;32m--> 197\u001b[0m Variable\u001b[39m.\u001b[39;49m_execution_engine\u001b[39m.\u001b[39;49mrun_backward(  \u001b[39m# Calls into the C++ engine to run the backward pass\u001b[39;49;00m\n\u001b[1;32m    198\u001b[0m     tensors, grad_tensors_, retain_graph, create_graph, inputs,\n\u001b[1;32m    199\u001b[0m     allow_unreachable\u001b[39m=\u001b[39;49m\u001b[39mTrue\u001b[39;49;00m, accumulate_grad\u001b[39m=\u001b[39;49m\u001b[39mTrue\u001b[39;49;00m)\n",
      "\u001b[0;31mKeyboardInterrupt\u001b[0m: "
     ]
    }
   ],
   "source": [
    "def calc_metrics_pi(model, loader):\n",
    "    correct = 0\n",
    "    total = 0\n",
    "    for i, (samples, labels) in enumerate(loader):\n",
    "        labels = labels.requires_grad_(False)\n",
    "        _, outputs = model(samples)\n",
    "        _, predicted = torch.max(outputs.detach(), 1)\n",
    "        total += labels.size(0)\n",
    "        correct += (predicted == labels.detach().view_as(predicted)).sum()\n",
    "    acc = 100 * float(correct) / total\n",
    "    return acc\n",
    "\n",
    "losses = []\n",
    "suplosses = []\n",
    "unsuplosses = []\n",
    "\n",
    "for epoch in range(num_epochs):\n",
    "    print(f'\\nEpoch: {epoch+1}')\n",
    "    model.train()\n",
    "    w = weight_scheduler(epoch, max_epochs, max_val, 5, k, 60000)\n",
    "    w = torch.tensor(w, requires_grad=False)\n",
    "\n",
    "    print('---------------------')\n",
    "    for i, (images, labels) in tqdm(enumerate(train_loader)):\n",
    "        batch_size = images.size(0)\n",
    "        labels = labels.requires_grad_(False)\n",
    "        optimizer.zero_grad()\n",
    "        outputs, outputs_2 = model(images)\n",
    "        loss, sup_loss, unsup_loss, nbsup = temporal_losses(outputs, outputs_2, w, labels)\n",
    "\n",
    "        losses.append(loss.item())\n",
    "        suplosses.append(sup_loss.item())\n",
    "        unsuplosses.append(unsup_loss.item())\n",
    "\n",
    "        loss.backward()\n",
    "        optimizer.step()\n",
    "\n",
    "    loss_mean = np.mean(losses)\n",
    "    supl_mean = np.mean(suplosses)\n",
    "    unsupl_mean = np.mean(unsuplosses)\n",
    "    print(f'Epoch {epoch+1}/{num_epochs}, Loss: {loss_mean:.6f}, Supervised Loss: {supl_mean:.6f}, Unsupervised Loss: {unsupl_mean:.6f}')\n",
    "    if loss_mean < best_loss:\n",
    "        best_loss = loss_mean\n",
    "        torch.save({'state_dict': model.state_dict()}, 'model_best_pi.pth')\n",
    "\n",
    "    model.eval()\n",
    "    acc = calc_metrics_pi(model, test_loader)\n",
    "    print(f'Acc : {acc}')"
   ]
  },
  {
   "cell_type": "code",
   "execution_count": null,
   "metadata": {},
   "outputs": [],
   "source": []
  },
  {
   "cell_type": "code",
   "execution_count": null,
   "metadata": {},
   "outputs": [],
   "source": []
  },
  {
   "cell_type": "code",
   "execution_count": null,
   "metadata": {},
   "outputs": [],
   "source": []
  },
  {
   "cell_type": "code",
   "execution_count": null,
   "metadata": {},
   "outputs": [],
   "source": []
  },
  {
   "cell_type": "code",
   "execution_count": null,
   "metadata": {},
   "outputs": [],
   "source": []
  },
  {
   "cell_type": "markdown",
   "metadata": {},
   "source": [
    "#### Limitations of the Pi-Model\n",
    "\n",
    "Unsupervised loss 는 모델의 두 output $(z_i, \\tilde{z_i})$ 에 대해 계산된다. 하지만 해당 output 은 단 한번의 evaluation 을 통해 생성되기 때문에 (초기엔 더더욱) noisy 하다는 단점이 있다. 그렇기에 Pi-Model 의 저자들이 동 논문에서 단점들을 보완한 Temporal Ensembling 을 제안한다."
   ]
  },
  {
   "cell_type": "markdown",
   "metadata": {},
   "source": [
    "### Temporal Ensembling"
   ]
  },
  {
   "cell_type": "markdown",
   "metadata": {},
   "source": [
    "<p align=\"center\">\n",
    "    <img src=\"semi_supervised_images/tempensarchitecture.png\" width=\"400\"/>\n",
    "</p>\n",
    "\n",
    "\n",
    "Temporal Ensembling 과 Pi-Model 의 차이점은 unsupervised loss 를 계산하는 방법에서 확인 할 수 있다. Pi-Model 은 하나의 샘플에 대해 두번의 perturbation 을 주어 두개의 output $(z_i, \\tilde{z_i})$ 사이의 loss 를 계산하지만, **Temporal Ensembling 은 해당 단계의 output $z_i$ 를 이전 단계들에서 구한 $z_i$ 의 가중합 사이의 loss 를 계산한다.**\n",
    "\n",
    "즉, 특정 단계에서 MSE 를 구할 땐 해당 단계에서의 output $z_i$ 와, 이전 단계들에서 누적된 $Z$ 사이의 차이를 계산한다.\n",
    "\n",
    "이때, $Z$ 는 $Z \\leftarrow \\alpha Z + (1-\\alpha)z$ 로 누적되며, $\\alpha$ 는 momentum term 으로, 본 논문에선 $\\alpha=0.6$ 으로 설정된다.\n",
    "\n",
    "<p align=\"center\">\n",
    "    <img src=\"semi_supervised_images/tempensalg.png\" width=\"400\"/>\n",
    "</p>\n"
   ]
  },
  {
   "cell_type": "markdown",
   "metadata": {},
   "source": [
    "#### Temporal Ensembling: Code Implementation"
   ]
  },
  {
   "cell_type": "markdown",
   "metadata": {},
   "source": [
    "Pi-Model 과의 성능 비교를 위해 Pi-Model 을 학습하는데 사용한 FashionMNIST 데이터로더를 사용하였다."
   ]
  },
  {
   "cell_type": "code",
   "execution_count": 9,
   "metadata": {},
   "outputs": [],
   "source": [
    "class CNN_Temporal(nn.Module):\n",
    "    def __init__(self, batch_size, std, input_shape=(1, 28, 28), p=0.5, fm1=16, fm2=32):\n",
    "        super(CNN_Temporal, self).__init__()\n",
    "        self.std = std\n",
    "        self.p = p\n",
    "        self.fm1 = fm1\n",
    "        self.fm2 = fm2\n",
    "        self.input_shape = input_shape\n",
    "        self.conv_block1 = nn.Sequential(nn.Conv2d(1, self.fm1, 3, stride=1, padding=1),\n",
    "                                        nn.BatchNorm2d(self.fm1), \n",
    "                                        nn.ReLU(),\n",
    "                                        nn.MaxPool2d(3, stride=2, padding=1)\n",
    "                                      )\n",
    "        \n",
    "        self.conv_block2 = nn.Sequential(nn.Conv2d(self.fm1, self.fm2, 3, stride=1, padding=1),\n",
    "                                        nn.BatchNorm2d(self.fm2), \n",
    "                                        nn.ReLU(),\n",
    "                                        nn.MaxPool2d(3, stride=2, padding=1)\n",
    "                                      )\n",
    "        self.drop = nn.Dropout(self.p)\n",
    "        self.fc = nn.Linear(self.fm2 * 7 * 7, 10)\n",
    "\n",
    "    def forward(self, x):\n",
    "        if self.training:\n",
    "            b = x.size(0)\n",
    "            gn = GaussianNoise(b, self.input_shape, self.std)\n",
    "            x = gn(x)\n",
    "\n",
    "        x = self.conv_block1(x)\n",
    "        x = self.conv_block2(x)\n",
    "        x = x.view(-1, self.fm2 * 7 * 7)\n",
    "        x = self.fc(self.drop(x))\n",
    "        return x"
   ]
  },
  {
   "cell_type": "markdown",
   "metadata": {},
   "source": [
    "모델 구조는 Pi-Model 과 크게 다르진 않지만, 두개의 output 이 필요 없다는 점에서 단 하나의 output 에 perturbation 을 가해준 뒤, 동일한 구조에 데이터를 통과시켜 순전파를 거친다."
   ]
  },
  {
   "cell_type": "code",
   "execution_count": 11,
   "metadata": {},
   "outputs": [
    {
     "name": "stdout",
     "output_type": "stream",
     "text": [
      "\n",
      "Epoch: 1\n",
      "---------------------\n"
     ]
    },
    {
     "data": {
      "application/vnd.jupyter.widget-view+json": {
       "model_id": "50a7f73a6a304957909684ed61ae9063",
       "version_major": 2,
       "version_minor": 0
      },
      "text/plain": [
       "0it [00:00, ?it/s]"
      ]
     },
     "metadata": {},
     "output_type": "display_data"
    },
    {
     "name": "stdout",
     "output_type": "stream",
     "text": [
      "Epoch 1/50, Loss: 0.452133, Supervised Loss: 0.456244, Unsupervised Loss: 0.057957\n",
      "Acc : 44.12059294871795\n",
      "\n",
      "Epoch: 2\n",
      "---------------------\n"
     ]
    },
    {
     "data": {
      "application/vnd.jupyter.widget-view+json": {
       "model_id": "1f095b7b6856482c91739a86f4c24670",
       "version_major": 2,
       "version_minor": 0
      },
      "text/plain": [
       "0it [00:00, ?it/s]"
      ]
     },
     "metadata": {},
     "output_type": "display_data"
    },
    {
     "name": "stdout",
     "output_type": "stream",
     "text": [
      "Epoch 2/50, Loss: 0.349849, Supervised Loss: 0.351986, Unsupervised Loss: 0.055743\n",
      "Acc : 48.327323717948715\n",
      "\n",
      "Epoch: 3\n",
      "---------------------\n"
     ]
    },
    {
     "data": {
      "application/vnd.jupyter.widget-view+json": {
       "model_id": "03f59103ac6c4875aff2a488e1363ec5",
       "version_major": 2,
       "version_minor": 0
      },
      "text/plain": [
       "0it [00:00, ?it/s]"
      ]
     },
     "metadata": {},
     "output_type": "display_data"
    },
    {
     "name": "stdout",
     "output_type": "stream",
     "text": [
      "Epoch 3/50, Loss: 0.289586, Supervised Loss: 0.291034, Unsupervised Loss: 0.049054\n",
      "Acc : 59.70552884615385\n",
      "\n",
      "Epoch: 4\n",
      "---------------------\n"
     ]
    },
    {
     "data": {
      "application/vnd.jupyter.widget-view+json": {
       "model_id": "ca7cad17d5624d09a979b9c998fe5fc0",
       "version_major": 2,
       "version_minor": 0
      },
      "text/plain": [
       "0it [00:00, ?it/s]"
      ]
     },
     "metadata": {},
     "output_type": "display_data"
    },
    {
     "name": "stdout",
     "output_type": "stream",
     "text": [
      "Epoch 4/50, Loss: 0.244397, Supervised Loss: 0.245548, Unsupervised Loss: 0.044416\n",
      "Acc : 62.04927884615385\n",
      "\n",
      "Epoch: 5\n",
      "---------------------\n"
     ]
    },
    {
     "data": {
      "application/vnd.jupyter.widget-view+json": {
       "model_id": "d4491646285247dda4e9ea198fdad9b0",
       "version_major": 2,
       "version_minor": 0
      },
      "text/plain": [
       "0it [00:00, ?it/s]"
      ]
     },
     "metadata": {},
     "output_type": "display_data"
    },
    {
     "name": "stdout",
     "output_type": "stream",
     "text": [
      "Epoch 5/50, Loss: 0.213428, Supervised Loss: 0.214440, Unsupervised Loss: 0.039945\n",
      "Acc : 62.91065705128205\n",
      "\n",
      "Epoch: 6\n",
      "---------------------\n"
     ]
    },
    {
     "data": {
      "application/vnd.jupyter.widget-view+json": {
       "model_id": "e277a024a95c490cacca90d05eac1b71",
       "version_major": 2,
       "version_minor": 0
      },
      "text/plain": [
       "0it [00:00, ?it/s]"
      ]
     },
     "metadata": {},
     "output_type": "display_data"
    },
    {
     "name": "stdout",
     "output_type": "stream",
     "text": [
      "Epoch 6/50, Loss: 0.193599, Supervised Loss: 0.194446, Unsupervised Loss: 0.036322\n",
      "Acc : 63.411458333333336\n",
      "\n",
      "Epoch: 7\n",
      "---------------------\n"
     ]
    },
    {
     "data": {
      "application/vnd.jupyter.widget-view+json": {
       "model_id": "23cee6f599884f288c8f23524fbdb49b",
       "version_major": 2,
       "version_minor": 0
      },
      "text/plain": [
       "0it [00:00, ?it/s]"
      ]
     },
     "metadata": {},
     "output_type": "display_data"
    },
    {
     "name": "stdout",
     "output_type": "stream",
     "text": [
      "Epoch 7/50, Loss: 0.174232, Supervised Loss: 0.174997, Unsupervised Loss: 0.033472\n",
      "Acc : 64.86378205128206\n",
      "\n",
      "Epoch: 8\n",
      "---------------------\n"
     ]
    },
    {
     "data": {
      "application/vnd.jupyter.widget-view+json": {
       "model_id": "18720e6405d24e8badb5c7425fa2c483",
       "version_major": 2,
       "version_minor": 0
      },
      "text/plain": [
       "0it [00:00, ?it/s]"
      ]
     },
     "metadata": {},
     "output_type": "display_data"
    },
    {
     "name": "stdout",
     "output_type": "stream",
     "text": [
      "Epoch 8/50, Loss: 0.158681, Supervised Loss: 0.159353, Unsupervised Loss: 0.031451\n",
      "Acc : 66.37620192307692\n",
      "\n",
      "Epoch: 9\n",
      "---------------------\n"
     ]
    },
    {
     "data": {
      "application/vnd.jupyter.widget-view+json": {
       "model_id": "35c909edd9eb44aa81ceb27cb23a6c50",
       "version_major": 2,
       "version_minor": 0
      },
      "text/plain": [
       "0it [00:00, ?it/s]"
      ]
     },
     "metadata": {},
     "output_type": "display_data"
    },
    {
     "name": "stdout",
     "output_type": "stream",
     "text": [
      "Epoch 9/50, Loss: 0.145854, Supervised Loss: 0.146453, Unsupervised Loss: 0.030142\n",
      "Acc : 67.59815705128206\n",
      "\n",
      "Epoch: 10\n",
      "---------------------\n"
     ]
    },
    {
     "data": {
      "application/vnd.jupyter.widget-view+json": {
       "model_id": "c59b80710f7d4d78a504b3b0703f3c18",
       "version_major": 2,
       "version_minor": 0
      },
      "text/plain": [
       "0it [00:00, ?it/s]"
      ]
     },
     "metadata": {},
     "output_type": "display_data"
    },
    {
     "name": "stdout",
     "output_type": "stream",
     "text": [
      "Epoch 10/50, Loss: 0.134180, Supervised Loss: 0.134719, Unsupervised Loss: 0.028955\n",
      "Acc : 66.93709935897436\n",
      "\n",
      "Epoch: 11\n",
      "---------------------\n"
     ]
    },
    {
     "data": {
      "application/vnd.jupyter.widget-view+json": {
       "model_id": "9cfec705b12b419696def207bbaca0fa",
       "version_major": 2,
       "version_minor": 0
      },
      "text/plain": [
       "0it [00:00, ?it/s]"
      ]
     },
     "metadata": {},
     "output_type": "display_data"
    },
    {
     "name": "stdout",
     "output_type": "stream",
     "text": [
      "Epoch 11/50, Loss: 0.124989, Supervised Loss: 0.125480, Unsupervised Loss: 0.028039\n",
      "Acc : 67.21754807692308\n",
      "\n",
      "Epoch: 12\n",
      "---------------------\n"
     ]
    },
    {
     "data": {
      "application/vnd.jupyter.widget-view+json": {
       "model_id": "7058dfce5e024c3f83596db4e491c6c3",
       "version_major": 2,
       "version_minor": 0
      },
      "text/plain": [
       "0it [00:00, ?it/s]"
      ]
     },
     "metadata": {},
     "output_type": "display_data"
    },
    {
     "name": "stdout",
     "output_type": "stream",
     "text": [
      "Epoch 12/50, Loss: 0.116967, Supervised Loss: 0.117418, Unsupervised Loss: 0.027442\n",
      "Acc : 66.8369391025641\n",
      "\n",
      "Epoch: 13\n",
      "---------------------\n"
     ]
    },
    {
     "data": {
      "application/vnd.jupyter.widget-view+json": {
       "model_id": "4e9fd50fe3dc4b1cb2355f0b7c8398d2",
       "version_major": 2,
       "version_minor": 0
      },
      "text/plain": [
       "0it [00:00, ?it/s]"
      ]
     },
     "metadata": {},
     "output_type": "display_data"
    },
    {
     "name": "stdout",
     "output_type": "stream",
     "text": [
      "Epoch 13/50, Loss: 0.109956, Supervised Loss: 0.110376, Unsupervised Loss: 0.026923\n",
      "Acc : 67.28766025641026\n",
      "\n",
      "Epoch: 14\n",
      "---------------------\n"
     ]
    },
    {
     "data": {
      "application/vnd.jupyter.widget-view+json": {
       "model_id": "10c1de8f7f3f451bb39860f178416e81",
       "version_major": 2,
       "version_minor": 0
      },
      "text/plain": [
       "0it [00:00, ?it/s]"
      ]
     },
     "metadata": {},
     "output_type": "display_data"
    },
    {
     "name": "stdout",
     "output_type": "stream",
     "text": [
      "Epoch 14/50, Loss: 0.104003, Supervised Loss: 0.104393, Unsupervised Loss: 0.026400\n",
      "Acc : 67.08733974358974\n",
      "\n",
      "Epoch: 15\n",
      "---------------------\n"
     ]
    },
    {
     "data": {
      "application/vnd.jupyter.widget-view+json": {
       "model_id": "29a87275411444cb930a6c24fcc6bf86",
       "version_major": 2,
       "version_minor": 0
      },
      "text/plain": [
       "0it [00:00, ?it/s]"
      ]
     },
     "metadata": {},
     "output_type": "display_data"
    },
    {
     "name": "stdout",
     "output_type": "stream",
     "text": [
      "Epoch 15/50, Loss: 0.099241, Supervised Loss: 0.099605, Unsupervised Loss: 0.026000\n",
      "Acc : 67.4579326923077\n",
      "\n",
      "Epoch: 16\n",
      "---------------------\n"
     ]
    },
    {
     "data": {
      "application/vnd.jupyter.widget-view+json": {
       "model_id": "92485ec32f2540a8b0e31a73d379804f",
       "version_major": 2,
       "version_minor": 0
      },
      "text/plain": [
       "0it [00:00, ?it/s]"
      ]
     },
     "metadata": {},
     "output_type": "display_data"
    },
    {
     "name": "stdout",
     "output_type": "stream",
     "text": [
      "Epoch 16/50, Loss: 0.094443, Supervised Loss: 0.094784, Unsupervised Loss: 0.025875\n",
      "Acc : 67.09735576923077\n",
      "\n",
      "Epoch: 17\n",
      "---------------------\n"
     ]
    },
    {
     "data": {
      "application/vnd.jupyter.widget-view+json": {
       "model_id": "d45350891c0e4528aa2db15e17d1d3e7",
       "version_major": 2,
       "version_minor": 0
      },
      "text/plain": [
       "0it [00:00, ?it/s]"
      ]
     },
     "metadata": {},
     "output_type": "display_data"
    },
    {
     "name": "stdout",
     "output_type": "stream",
     "text": [
      "Epoch 17/50, Loss: 0.090026, Supervised Loss: 0.090349, Unsupervised Loss: 0.025686\n",
      "Acc : 67.72836538461539\n",
      "\n",
      "Epoch: 18\n",
      "---------------------\n"
     ]
    },
    {
     "data": {
      "application/vnd.jupyter.widget-view+json": {
       "model_id": "1314b9e860f54de28bcc301b204c586b",
       "version_major": 2,
       "version_minor": 0
      },
      "text/plain": [
       "0it [00:00, ?it/s]"
      ]
     },
     "metadata": {},
     "output_type": "display_data"
    },
    {
     "name": "stdout",
     "output_type": "stream",
     "text": [
      "Epoch 18/50, Loss: 0.087164, Supervised Loss: 0.087469, Unsupervised Loss: 0.025439\n",
      "Acc : 65.78525641025641\n",
      "\n",
      "Epoch: 19\n",
      "---------------------\n"
     ]
    },
    {
     "data": {
      "application/vnd.jupyter.widget-view+json": {
       "model_id": "5dcd0bf9747c43c9b41236f4bbb3c045",
       "version_major": 2,
       "version_minor": 0
      },
      "text/plain": [
       "0it [00:00, ?it/s]"
      ]
     },
     "metadata": {},
     "output_type": "display_data"
    },
    {
     "name": "stdout",
     "output_type": "stream",
     "text": [
      "Epoch 19/50, Loss: 0.083590, Supervised Loss: 0.083880, Unsupervised Loss: 0.025324\n",
      "Acc : 68.93028846153847\n",
      "\n",
      "Epoch: 20\n",
      "---------------------\n"
     ]
    },
    {
     "data": {
      "application/vnd.jupyter.widget-view+json": {
       "model_id": "879f20c23b084e1ab456405c8fbe8c7c",
       "version_major": 2,
       "version_minor": 0
      },
      "text/plain": [
       "0it [00:00, ?it/s]"
      ]
     },
     "metadata": {},
     "output_type": "display_data"
    },
    {
     "name": "stdout",
     "output_type": "stream",
     "text": [
      "Epoch 20/50, Loss: 0.080853, Supervised Loss: 0.081128, Unsupervised Loss: 0.025210\n",
      "Acc : 68.53966346153847\n",
      "\n",
      "Epoch: 21\n",
      "---------------------\n"
     ]
    },
    {
     "data": {
      "application/vnd.jupyter.widget-view+json": {
       "model_id": "2c2337211ff84e69b4498c07a694b4e4",
       "version_major": 2,
       "version_minor": 0
      },
      "text/plain": [
       "0it [00:00, ?it/s]"
      ]
     },
     "metadata": {},
     "output_type": "display_data"
    },
    {
     "name": "stdout",
     "output_type": "stream",
     "text": [
      "Epoch 21/50, Loss: 0.077529, Supervised Loss: 0.077791, Unsupervised Loss: 0.025016\n",
      "Acc : 66.33613782051282\n",
      "\n",
      "Epoch: 22\n",
      "---------------------\n"
     ]
    },
    {
     "data": {
      "application/vnd.jupyter.widget-view+json": {
       "model_id": "2a10c709f7d646d297abb8ad1dbf47c3",
       "version_major": 2,
       "version_minor": 0
      },
      "text/plain": [
       "0it [00:00, ?it/s]"
      ]
     },
     "metadata": {},
     "output_type": "display_data"
    },
    {
     "name": "stdout",
     "output_type": "stream",
     "text": [
      "Epoch 22/50, Loss: 0.074760, Supervised Loss: 0.075009, Unsupervised Loss: 0.024907\n",
      "Acc : 68.52964743589743\n",
      "\n",
      "Epoch: 23\n",
      "---------------------\n"
     ]
    },
    {
     "data": {
      "application/vnd.jupyter.widget-view+json": {
       "model_id": "e6f67bac58e243c19be90c943c58cb06",
       "version_major": 2,
       "version_minor": 0
      },
      "text/plain": [
       "0it [00:00, ?it/s]"
      ]
     },
     "metadata": {},
     "output_type": "display_data"
    },
    {
     "name": "stdout",
     "output_type": "stream",
     "text": [
      "Epoch 23/50, Loss: 0.072377, Supervised Loss: 0.072616, Unsupervised Loss: 0.024786\n",
      "Acc : 68.14903846153847\n",
      "\n",
      "Epoch: 24\n",
      "---------------------\n"
     ]
    },
    {
     "data": {
      "application/vnd.jupyter.widget-view+json": {
       "model_id": "d936be923f8f490c9c18ec5762128dc9",
       "version_major": 2,
       "version_minor": 0
      },
      "text/plain": [
       "0it [00:00, ?it/s]"
      ]
     },
     "metadata": {},
     "output_type": "display_data"
    },
    {
     "name": "stdout",
     "output_type": "stream",
     "text": [
      "Epoch 24/50, Loss: 0.070017, Supervised Loss: 0.070247, Unsupervised Loss: 0.024660\n",
      "Acc : 69.86177884615384\n",
      "\n",
      "Epoch: 25\n",
      "---------------------\n"
     ]
    },
    {
     "data": {
      "application/vnd.jupyter.widget-view+json": {
       "model_id": "75db3c55431d46af9506384d3122f527",
       "version_major": 2,
       "version_minor": 0
      },
      "text/plain": [
       "0it [00:00, ?it/s]"
      ]
     },
     "metadata": {},
     "output_type": "display_data"
    },
    {
     "name": "stdout",
     "output_type": "stream",
     "text": [
      "Epoch 25/50, Loss: 0.067319, Supervised Loss: 0.067539, Unsupervised Loss: 0.024454\n",
      "Acc : 68.8301282051282\n",
      "\n",
      "Epoch: 26\n",
      "---------------------\n"
     ]
    },
    {
     "data": {
      "application/vnd.jupyter.widget-view+json": {
       "model_id": "eb143399439741b6b50b3f50f5c900fc",
       "version_major": 2,
       "version_minor": 0
      },
      "text/plain": [
       "0it [00:00, ?it/s]"
      ]
     },
     "metadata": {},
     "output_type": "display_data"
    },
    {
     "name": "stdout",
     "output_type": "stream",
     "text": [
      "Epoch 26/50, Loss: 0.065233, Supervised Loss: 0.065444, Unsupervised Loss: 0.024355\n",
      "Acc : 69.19070512820512\n",
      "\n",
      "Epoch: 27\n",
      "---------------------\n"
     ]
    },
    {
     "data": {
      "application/vnd.jupyter.widget-view+json": {
       "model_id": "87e57d7e255143278c2b28fb280d8ce0",
       "version_major": 2,
       "version_minor": 0
      },
      "text/plain": [
       "0it [00:00, ?it/s]"
      ]
     },
     "metadata": {},
     "output_type": "display_data"
    },
    {
     "name": "stdout",
     "output_type": "stream",
     "text": [
      "Epoch 27/50, Loss: 0.063296, Supervised Loss: 0.063710, Unsupervised Loss: 0.024271\n",
      "Acc : 68.94030448717949\n",
      "\n",
      "Epoch: 28\n",
      "---------------------\n"
     ]
    },
    {
     "data": {
      "application/vnd.jupyter.widget-view+json": {
       "model_id": "84242d7e1d1b437cad32d96867ec0519",
       "version_major": 2,
       "version_minor": 0
      },
      "text/plain": [
       "0it [00:00, ?it/s]"
      ]
     },
     "metadata": {},
     "output_type": "display_data"
    },
    {
     "name": "stdout",
     "output_type": "stream",
     "text": [
      "Epoch 28/50, Loss: 0.061105, Supervised Loss: 0.061503, Unsupervised Loss: 0.024098\n",
      "Acc : 69.76161858974359\n",
      "\n",
      "Epoch: 29\n",
      "---------------------\n"
     ]
    },
    {
     "data": {
      "application/vnd.jupyter.widget-view+json": {
       "model_id": "6656abc3937343bfb363ddc0c1ddbe67",
       "version_major": 2,
       "version_minor": 0
      },
      "text/plain": [
       "0it [00:00, ?it/s]"
      ]
     },
     "metadata": {},
     "output_type": "display_data"
    },
    {
     "name": "stdout",
     "output_type": "stream",
     "text": [
      "Epoch 29/50, Loss: 0.060389, Supervised Loss: 0.060773, Unsupervised Loss: 0.023930\n",
      "Acc : 69.47115384615384\n",
      "\n",
      "Epoch: 30\n",
      "---------------------\n"
     ]
    },
    {
     "data": {
      "application/vnd.jupyter.widget-view+json": {
       "model_id": "e74f9c4a999d415fa1f69674745e59b6",
       "version_major": 2,
       "version_minor": 0
      },
      "text/plain": [
       "0it [00:00, ?it/s]"
      ]
     },
     "metadata": {},
     "output_type": "display_data"
    },
    {
     "name": "stdout",
     "output_type": "stream",
     "text": [
      "Epoch 30/50, Loss: 0.059475, Supervised Loss: 0.059846, Unsupervised Loss: 0.023851\n",
      "Acc : 69.09054487179488\n",
      "\n",
      "Epoch: 31\n",
      "---------------------\n"
     ]
    },
    {
     "data": {
      "application/vnd.jupyter.widget-view+json": {
       "model_id": "5ecd6e9248be4cb4a5ad75dc2c769af9",
       "version_major": 2,
       "version_minor": 0
      },
      "text/plain": [
       "0it [00:00, ?it/s]"
      ]
     },
     "metadata": {},
     "output_type": "display_data"
    },
    {
     "name": "stdout",
     "output_type": "stream",
     "text": [
      "Epoch 31/50, Loss: 0.057572, Supervised Loss: 0.057932, Unsupervised Loss: 0.023758\n",
      "Acc : 69.54126602564102\n",
      "\n",
      "Epoch: 32\n",
      "---------------------\n"
     ]
    },
    {
     "data": {
      "application/vnd.jupyter.widget-view+json": {
       "model_id": "b9389a800c264a1589fd610a2e06c2dd",
       "version_major": 2,
       "version_minor": 0
      },
      "text/plain": [
       "0it [00:00, ?it/s]"
      ]
     },
     "metadata": {},
     "output_type": "display_data"
    },
    {
     "name": "stdout",
     "output_type": "stream",
     "text": [
      "Epoch 32/50, Loss: 0.055794, Supervised Loss: 0.056142, Unsupervised Loss: 0.023630\n",
      "Acc : 69.140625\n",
      "\n",
      "Epoch: 33\n",
      "---------------------\n"
     ]
    },
    {
     "data": {
      "application/vnd.jupyter.widget-view+json": {
       "model_id": "4ed76a53c4b14460aab4db19c357e564",
       "version_major": 2,
       "version_minor": 0
      },
      "text/plain": [
       "0it [00:00, ?it/s]"
      ]
     },
     "metadata": {},
     "output_type": "display_data"
    },
    {
     "name": "stdout",
     "output_type": "stream",
     "text": [
      "Epoch 33/50, Loss: 0.054490, Supervised Loss: 0.054827, Unsupervised Loss: 0.023559\n",
      "Acc : 69.78165064102564\n",
      "\n",
      "Epoch: 34\n",
      "---------------------\n"
     ]
    },
    {
     "data": {
      "application/vnd.jupyter.widget-view+json": {
       "model_id": "a3926922d25d44bd933f3af1941145b9",
       "version_major": 2,
       "version_minor": 0
      },
      "text/plain": [
       "0it [00:00, ?it/s]"
      ]
     },
     "metadata": {},
     "output_type": "display_data"
    },
    {
     "name": "stdout",
     "output_type": "stream",
     "text": [
      "Epoch 34/50, Loss: 0.053216, Supervised Loss: 0.053543, Unsupervised Loss: 0.023442\n",
      "Acc : 69.37099358974359\n",
      "\n",
      "Epoch: 35\n",
      "---------------------\n"
     ]
    },
    {
     "data": {
      "application/vnd.jupyter.widget-view+json": {
       "model_id": "36da891b61f7480a816d423adece26d4",
       "version_major": 2,
       "version_minor": 0
      },
      "text/plain": [
       "0it [00:00, ?it/s]"
      ]
     },
     "metadata": {},
     "output_type": "display_data"
    },
    {
     "name": "stdout",
     "output_type": "stream",
     "text": [
      "Epoch 35/50, Loss: 0.051864, Supervised Loss: 0.052181, Unsupervised Loss: 0.023320\n",
      "Acc : 69.03044871794872\n",
      "\n",
      "Epoch: 36\n",
      "---------------------\n"
     ]
    },
    {
     "data": {
      "application/vnd.jupyter.widget-view+json": {
       "model_id": "1d147f0328774df3b3af061fcb0ca502",
       "version_major": 2,
       "version_minor": 0
      },
      "text/plain": [
       "0it [00:00, ?it/s]"
      ]
     },
     "metadata": {},
     "output_type": "display_data"
    },
    {
     "name": "stdout",
     "output_type": "stream",
     "text": [
      "Epoch 36/50, Loss: 0.050999, Supervised Loss: 0.051308, Unsupervised Loss: 0.023299\n",
      "Acc : 70.08213141025641\n",
      "\n",
      "Epoch: 37\n",
      "---------------------\n"
     ]
    },
    {
     "data": {
      "application/vnd.jupyter.widget-view+json": {
       "model_id": "9e7951587e214f92ab037abf319ac4da",
       "version_major": 2,
       "version_minor": 0
      },
      "text/plain": [
       "0it [00:00, ?it/s]"
      ]
     },
     "metadata": {},
     "output_type": "display_data"
    },
    {
     "name": "stdout",
     "output_type": "stream",
     "text": [
      "Epoch 37/50, Loss: 0.050012, Supervised Loss: 0.050312, Unsupervised Loss: 0.023183\n",
      "Acc : 70.22235576923077\n",
      "\n",
      "Epoch: 38\n",
      "---------------------\n"
     ]
    },
    {
     "data": {
      "application/vnd.jupyter.widget-view+json": {
       "model_id": "3d3753a44ef34da9b646add759e5cc05",
       "version_major": 2,
       "version_minor": 0
      },
      "text/plain": [
       "0it [00:00, ?it/s]"
      ]
     },
     "metadata": {},
     "output_type": "display_data"
    },
    {
     "name": "stdout",
     "output_type": "stream",
     "text": [
      "Epoch 38/50, Loss: 0.048876, Supervised Loss: 0.049178, Unsupervised Loss: 0.023049\n",
      "Acc : 70.13221153846153\n",
      "\n",
      "Epoch: 39\n",
      "---------------------\n"
     ]
    },
    {
     "data": {
      "application/vnd.jupyter.widget-view+json": {
       "model_id": "02eaa6c89cfd4e52b6bf165cd4e1c858",
       "version_major": 2,
       "version_minor": 0
      },
      "text/plain": [
       "0it [00:00, ?it/s]"
      ]
     },
     "metadata": {},
     "output_type": "display_data"
    },
    {
     "name": "stdout",
     "output_type": "stream",
     "text": [
      "Epoch 39/50, Loss: 0.048118, Supervised Loss: 0.048412, Unsupervised Loss: 0.022966\n",
      "Acc : 69.30088141025641\n",
      "\n",
      "Epoch: 40\n",
      "---------------------\n"
     ]
    },
    {
     "data": {
      "application/vnd.jupyter.widget-view+json": {
       "model_id": "645ad769413449a88e87c230f944c90c",
       "version_major": 2,
       "version_minor": 0
      },
      "text/plain": [
       "0it [00:00, ?it/s]"
      ]
     },
     "metadata": {},
     "output_type": "display_data"
    },
    {
     "name": "stdout",
     "output_type": "stream",
     "text": [
      "Epoch 40/50, Loss: 0.047236, Supervised Loss: 0.047524, Unsupervised Loss: 0.022933\n",
      "Acc : 70.65304487179488\n",
      "\n",
      "Epoch: 41\n",
      "---------------------\n"
     ]
    },
    {
     "data": {
      "application/vnd.jupyter.widget-view+json": {
       "model_id": "89e5278663cb45ea917b034a08fa41ac",
       "version_major": 2,
       "version_minor": 0
      },
      "text/plain": [
       "0it [00:00, ?it/s]"
      ]
     },
     "metadata": {},
     "output_type": "display_data"
    },
    {
     "name": "stdout",
     "output_type": "stream",
     "text": [
      "Epoch 41/50, Loss: 0.046530, Supervised Loss: 0.046811, Unsupervised Loss: 0.022831\n",
      "Acc : 70.12219551282051\n",
      "\n",
      "Epoch: 42\n",
      "---------------------\n"
     ]
    },
    {
     "data": {
      "application/vnd.jupyter.widget-view+json": {
       "model_id": "a7519e3e6c4f4f4fb1dfe9267c564da0",
       "version_major": 2,
       "version_minor": 0
      },
      "text/plain": [
       "0it [00:00, ?it/s]"
      ]
     },
     "metadata": {},
     "output_type": "display_data"
    },
    {
     "name": "stdout",
     "output_type": "stream",
     "text": [
      "Epoch 42/50, Loss: 0.045851, Supervised Loss: 0.046125, Unsupervised Loss: 0.022776\n",
      "Acc : 70.54286858974359\n",
      "\n",
      "Epoch: 43\n",
      "---------------------\n"
     ]
    },
    {
     "data": {
      "application/vnd.jupyter.widget-view+json": {
       "model_id": "0690651122da46d983384491027faa67",
       "version_major": 2,
       "version_minor": 0
      },
      "text/plain": [
       "0it [00:00, ?it/s]"
      ]
     },
     "metadata": {},
     "output_type": "display_data"
    },
    {
     "name": "stdout",
     "output_type": "stream",
     "text": [
      "Epoch 43/50, Loss: 0.045289, Supervised Loss: 0.045557, Unsupervised Loss: 0.022736\n",
      "Acc : 70.73317307692308\n",
      "\n",
      "Epoch: 44\n",
      "---------------------\n"
     ]
    },
    {
     "data": {
      "application/vnd.jupyter.widget-view+json": {
       "model_id": "aafee23893cf42adaa493d35ab1ec8a9",
       "version_major": 2,
       "version_minor": 0
      },
      "text/plain": [
       "0it [00:00, ?it/s]"
      ]
     },
     "metadata": {},
     "output_type": "display_data"
    },
    {
     "name": "stdout",
     "output_type": "stream",
     "text": [
      "Epoch 44/50, Loss: 0.044440, Supervised Loss: 0.044702, Unsupervised Loss: 0.022664\n",
      "Acc : 69.95192307692308\n",
      "\n",
      "Epoch: 45\n",
      "---------------------\n"
     ]
    },
    {
     "data": {
      "application/vnd.jupyter.widget-view+json": {
       "model_id": "de009300f4e545bcb8d2b30e5f9867fd",
       "version_major": 2,
       "version_minor": 0
      },
      "text/plain": [
       "0it [00:00, ?it/s]"
      ]
     },
     "metadata": {},
     "output_type": "display_data"
    },
    {
     "name": "stdout",
     "output_type": "stream",
     "text": [
      "Epoch 45/50, Loss: 0.043596, Supervised Loss: 0.043852, Unsupervised Loss: 0.022573\n",
      "Acc : 69.81169871794872\n",
      "\n",
      "Epoch: 46\n",
      "---------------------\n"
     ]
    },
    {
     "data": {
      "application/vnd.jupyter.widget-view+json": {
       "model_id": "98e9eb0a944145d2877d062d82e34b30",
       "version_major": 2,
       "version_minor": 0
      },
      "text/plain": [
       "0it [00:00, ?it/s]"
      ]
     },
     "metadata": {},
     "output_type": "display_data"
    },
    {
     "name": "stdout",
     "output_type": "stream",
     "text": [
      "Epoch 46/50, Loss: 0.042937, Supervised Loss: 0.043187, Unsupervised Loss: 0.022466\n",
      "Acc : 69.79166666666667\n",
      "\n",
      "Epoch: 47\n",
      "---------------------\n"
     ]
    },
    {
     "data": {
      "application/vnd.jupyter.widget-view+json": {
       "model_id": "d4150f3b7b3a46b09cb8f1fa71c8d83e",
       "version_major": 2,
       "version_minor": 0
      },
      "text/plain": [
       "0it [00:00, ?it/s]"
      ]
     },
     "metadata": {},
     "output_type": "display_data"
    },
    {
     "name": "stdout",
     "output_type": "stream",
     "text": [
      "Epoch 47/50, Loss: 0.042859, Supervised Loss: 0.043103, Unsupervised Loss: 0.022341\n",
      "Acc : 70.93349358974359\n",
      "\n",
      "Epoch: 48\n",
      "---------------------\n"
     ]
    },
    {
     "data": {
      "application/vnd.jupyter.widget-view+json": {
       "model_id": "bfde1da4cf4b4172b6b0cbd13b07b662",
       "version_major": 2,
       "version_minor": 0
      },
      "text/plain": [
       "0it [00:00, ?it/s]"
      ]
     },
     "metadata": {},
     "output_type": "display_data"
    },
    {
     "name": "stdout",
     "output_type": "stream",
     "text": [
      "Epoch 48/50, Loss: 0.042025, Supervised Loss: 0.042264, Unsupervised Loss: 0.022204\n",
      "Acc : 69.6514423076923\n",
      "\n",
      "Epoch: 49\n",
      "---------------------\n"
     ]
    },
    {
     "data": {
      "application/vnd.jupyter.widget-view+json": {
       "model_id": "09efdbc048e44b53be0f90f58b802105",
       "version_major": 2,
       "version_minor": 0
      },
      "text/plain": [
       "0it [00:00, ?it/s]"
      ]
     },
     "metadata": {},
     "output_type": "display_data"
    },
    {
     "name": "stdout",
     "output_type": "stream",
     "text": [
      "Epoch 49/50, Loss: 0.041662, Supervised Loss: 0.041896, Unsupervised Loss: 0.022078\n",
      "Acc : 70.17227564102564\n",
      "\n",
      "Epoch: 50\n",
      "---------------------\n"
     ]
    },
    {
     "data": {
      "application/vnd.jupyter.widget-view+json": {
       "model_id": "cda8f297fd4243d4b5ef69e96fe17ac7",
       "version_major": 2,
       "version_minor": 0
      },
      "text/plain": [
       "0it [00:00, ?it/s]"
      ]
     },
     "metadata": {},
     "output_type": "display_data"
    },
    {
     "name": "stdout",
     "output_type": "stream",
     "text": [
      "Epoch 50/50, Loss: 0.041300, Supervised Loss: 0.041529, Unsupervised Loss: 0.022028\n",
      "Acc : 70.46274038461539\n"
     ]
    }
   ],
   "source": [
    "def calc_metrics_temporal(model, loader):\n",
    "    correct = 0\n",
    "    total = 0\n",
    "    for i, (samples, labels) in enumerate(loader):\n",
    "        labels = labels.requires_grad_(False)\n",
    "        outputs = model(samples)\n",
    "        _, predicted = torch.max(outputs.detach(), 1)\n",
    "        total += labels.size(0)\n",
    "        correct += (predicted == labels.detach().view_as(predicted)).sum()\n",
    "    acc = 100 * float(correct) / total\n",
    "    return acc\n",
    "\n",
    "model = CNN_Temporal(batch_size=64, std=0.1)\n",
    "seed = 0\n",
    "k = 100\n",
    "alpha = 0.6\n",
    "lr = 0.002\n",
    "num_epochs = 50\n",
    "batch_size = 64\n",
    "ntrain = len(train_data)\n",
    "n_classes = 10\n",
    "max_epochs = 80\n",
    "max_val = 1.\n",
    "\n",
    "optimizer = torch.optim.Adam(model.parameters(), lr=lr, betas=(0.9, 0.99))\n",
    "\n",
    "Z = torch.zeros(ntrain, n_classes).float()\n",
    "z = torch.zeros(ntrain, n_classes).float()\n",
    "outputs = torch.zeros(ntrain, n_classes).float()\n",
    "\n",
    "losses = []\n",
    "suplosses = []\n",
    "unsuplosses = []\n",
    "best_loss = 30.0\n",
    "for epoch in range(num_epochs):\n",
    "    print(f'\\nEpoch: {epoch+1}')\n",
    "    model.train()\n",
    "    w = weight_scheduler(epoch, max_epochs, max_val, 5, k, 60000)\n",
    "    w = torch.tensor(w, requires_grad=False)\n",
    "    print('---------------------')\n",
    "\n",
    "    for i, (images, labels) in tqdm(enumerate(train_loader)):\n",
    "        batch_size = images.size(0)\n",
    "        labels = labels.requires_grad_(False)\n",
    "\n",
    "        optimizer.zero_grad()\n",
    "        out = model(images)\n",
    "        \n",
    "        zcomp = z[i * batch_size: (i+1) * batch_size]\n",
    "        zcomp.requires_grad_(False)\n",
    "        loss, suploss, unsuploss, nbsup = temporal_losses(out, zcomp, w, labels)\n",
    "\n",
    "        outputs[i * batch_size: (i+1) * batch_size] = out.clone().detach()\n",
    "        losses.append(loss.item())\n",
    "        suplosses.append(nbsup * suploss.item())\n",
    "        unsuplosses.append(unsuploss.item())\n",
    "\n",
    "        loss.backward()\n",
    "        optimizer.step()\n",
    "\n",
    "    loss_mean = np.mean(losses)\n",
    "    supl_mean = np.mean(suplosses)\n",
    "    unsupl_mean = np.mean(unsuplosses)\n",
    "\n",
    "    print(f'Epoch {epoch+1}/{num_epochs}, Loss: {loss_mean:.6f}, Supervised Loss: {supl_mean:.6f}, Unsupervised Loss: {unsupl_mean:.6f}')\n",
    "    Z = alpha * Z + (1. - alpha) * outputs\n",
    "    z = Z * (1. / (1. - alpha ** (epoch + 1)))\n",
    "\n",
    "    if loss_mean < best_loss:\n",
    "        best_loss = loss_mean\n",
    "        torch.save({'state_dict': model.state_dict()}, 'model_best_.pth')\n",
    "\n",
    "    model.eval()\n",
    "    acc = calc_metrics_temporal(model, test_loader)\n",
    "    print(f'Acc : {acc}')"
   ]
  },
  {
   "cell_type": "markdown",
   "metadata": {},
   "source": [
    "Temporal Ensembling 의 학습은 위와 같이 진행된다.\n",
    "Pi-Model 과는 다르게 $Z$ 로 unsupervised loss 를 계산하기 때문에, 첫 epoch 에는 reference 할 $Z$ 가 없어 먼저 0으로 초기화를 해주었다.\n",
    "```\n",
    "Z = torch.zeros(ntrain, n_classes).float()\n",
    "z = torch.zeros(ntrain, n_classes).float()\n",
    "```\n",
    "이후 한 epoch 이 지난 후, $\\alpha Z + (1-\\alpha)z$ 로 $Z$ 를 업데이트 해준 뒤, 다음 epoch 에서 target 으로 사용할 $z$ 를 $Z/(1-\\alpha^t)$ 가중평균으로 업데이트 해주었다.\n",
    "\n",
    "```\n",
    "Z = alpha * Z + (1. - alpha) * outputs\n",
    "z = Z * (1. / (1. - alpha ** (epoch + 1)))\n",
    "```"
   ]
  },
  {
   "cell_type": "markdown",
   "metadata": {},
   "source": [
    "$z$ 의 가중평균 momentum $\\alpha = 0.6$, learning rate 0.002, batch size 64 로 총 50 epoch 동안 학습을 진행하였다.\n",
    "\n",
    "`model.device` 를 따로 할당하지 않고 일반 cpu 에서 학습 한 결과 약 20분이 걸렸으며, 최종적인 Test Accuracy 는 약 70.46 였다."
   ]
  },
  {
   "cell_type": "code",
   "execution_count": 12,
   "metadata": {},
   "outputs": [
    {
     "name": "stdout",
     "output_type": "stream",
     "text": [
      "Testing Accuracy: 70.5\n"
     ]
    }
   ],
   "source": [
    "def evaluation(model, loader):\n",
    "    checkpoint = torch.load('model_best_.pth')\n",
    "    model.load_state_dict(checkpoint['state_dict'])\n",
    "    model.eval()\n",
    "    correct = 0\n",
    "    total = 0\n",
    "    pred_probs = []\n",
    "    true_labels = []\n",
    "    with torch.inference_mode():\n",
    "        for i, (samples, labels) in enumerate(loader):\n",
    "            labels = labels.requires_grad_(False)\n",
    "            outputs = model(samples)\n",
    "            _, predicted = torch.max(outputs.detach(), 1)\n",
    "            total += labels.size(0)\n",
    "            correct += (predicted == labels.detach().view_as(predicted)).sum()\n",
    "            pred_probs.append(predicted)\n",
    "            true_labels.append(labels)\n",
    "        acc = 100 * float(correct) / total\n",
    "        print(f'Testing Accuracy: {acc:.1f}')\n",
    "        pred_probs = torch.cat(pred_probs)\n",
    "        labels = torch.cat(true_labels)\n",
    "    return pred_probs, labels\n",
    "\n",
    "pred_probs, labels = evaluation(model, test_loader)"
   ]
  },
  {
   "cell_type": "code",
   "execution_count": 13,
   "metadata": {},
   "outputs": [
    {
     "data": {
      "image/png": "[encoded data removed]",
      "text/plain": [
       "<Figure size 900x900 with 9 Axes>"
      ]
     },
     "metadata": {},
     "output_type": "display_data"
    }
   ],
   "source": [
    "plt.figure(figsize=(9, 9))\n",
    "nrows = 3\n",
    "ncols = 3\n",
    "for i, sample in enumerate(test_data):\n",
    "    plt.subplot(nrows, ncols, i+1)\n",
    "    plt.imshow(sample[0].squeeze(), cmap=\"gray\")\n",
    "    pred_label = class_names[pred_probs[i]]\n",
    "    truth_label = class_names[labels[i]] \n",
    "    title_text = f\"Pred: {pred_label} | Truth: {truth_label}\"\n",
    "    if pred_label == truth_label:\n",
    "        plt.title(title_text, fontsize=10, c=\"g\")\n",
    "        plt.axis(False);\n",
    "    else:\n",
    "        plt.title(title_text, fontsize=10, c=\"r\")\n",
    "        plt.axis(False);\n",
    "    if i==8:\n",
    "        break"
   ]
  },
  {
   "cell_type": "markdown",
   "metadata": {},
   "source": [
    "Best Model 의 Test 데이터에 대한 Accuracy 는 약 70.5로, 일반적인 classification task 였으면 sub-par 한 성능이였겠지만, **총 60,000개의 학습 샘플 중 100개만 label 이 있다는 것을 감안 한다면 꽤나 준수한 성능을 보인 것을 알 수 있다.**"
   ]
  },
  {
   "cell_type": "code",
   "execution_count": null,
   "metadata": {},
   "outputs": [],
   "source": []
  },
  {
   "cell_type": "code",
   "execution_count": null,
   "metadata": {},
   "outputs": [],
   "source": []
  },
  {
   "cell_type": "code",
   "execution_count": null,
   "metadata": {},
   "outputs": [],
   "source": []
  },
  {
   "cell_type": "code",
   "execution_count": null,
   "metadata": {},
   "outputs": [],
   "source": []
  },
  {
   "cell_type": "code",
   "execution_count": null,
   "metadata": {},
   "outputs": [],
   "source": []
  },
  {
   "cell_type": "code",
   "execution_count": null,
   "metadata": {},
   "outputs": [],
   "source": []
  },
  {
   "cell_type": "code",
   "execution_count": null,
   "metadata": {},
   "outputs": [],
   "source": []
  }
 ],
 "metadata": {
  "kernelspec": {
   "display_name": "Python 3.10.8 ('pythonic')",
   "language": "python",
   "name": "python3"
  },
  "language_info": {
   "codemirror_mode": {
    "name": "ipython",
    "version": 3
   },
   "file_extension": ".py",
   "mimetype": "text/x-python",
   "name": "python",
   "nbconvert_exporter": "python",
   "pygments_lexer": "ipython3",
   "version": "3.10.8"
  },
  "orig_nbformat": 4,
  "vscode": {
   "interpreter": {
    "hash": "d9dfe8649efdebf637683ec0ff4ad50ece43b2e2443eff7ae8d3cefb2bef952f"
   }
  }
 },
 "nbformat": 4,
 "nbformat_minor": 2
}
