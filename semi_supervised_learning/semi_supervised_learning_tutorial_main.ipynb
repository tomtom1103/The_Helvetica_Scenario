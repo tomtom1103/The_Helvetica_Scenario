{
 "cells": [
  {
   "cell_type": "markdown",
   "metadata": {},
   "source": [
    "# Semi-Supervised Learning\n",
    "\n",
    "## Contents\n",
    "- [Introduction](#introduction)\n",
    "- [Consistency Regularization Methods](#consistency-regularization-methods)\n",
    "    - [Pi-Model](#pi-model)\n",
    "        - [Training of the Pi-Model](#training-of-the-pi-model)\n",
    "        - [Pi-Model: Code Implementation](#pi-model-code-implementation)\n",
    "        - [Limitations of the Pi-Model](#limitations-of-the-pi-model)\n",
    "    - [Temporal Ensembling](#temporal-ensembling)\n",
    "    - [Temporal Ensembling: Code Implementation](#temporal-ensembling-code-implementation)\n",
    "\n",
    "The Datasets used for this tutorial can be found here:\n",
    "- [FashionMNIST](https://github.com/zalandoresearch/fashion-mnist)"
   ]
  },
  {
   "cell_type": "markdown",
   "metadata": {},
   "source": [
    "--------"
   ]
  },
  {
   "cell_type": "markdown",
   "metadata": {},
   "source": [
    "## Introduction\n",
    "\n",
    "<p align=\"center\">\n",
    "    <img src=\"semi_supervised_images/ssl1.png\" width=\"400\"/>\n",
    "</p>\n",
    "\n",
    "Semi Supervised Learning, 즉 준지도학습은 적은 양의 labeled 데이터와 많은 양의 unlabeled 데이터가 있다면 unlabeled 데이터 까지 활용하여 모델을 학습하는 방법론들의 집합이다.\n",
    "\n",
    "준지도학습에서는 데이터의 본질적인 특성이 모델링 된다면, 소량의 labeled 데이터를 약간의 가이드 형식으로만 활용하여 전체적인 일반화 성능을 끌어올릴 수 있다는 전제를 두고 있다. 그렇기에 대부분의 준지도학습 모델의 손실함수는 두개의 term 이 결합된 형태이다.\n",
    "\n",
    "$$\n",
    "L = L_{supervised} + L_{unsupervised}\n",
    "$$\n",
    "\n",
    "데이터의 본질적인 특성의 모델링을 통한 성능향상 방법론이기에, 먼저 데이터에 대한 몇가지 가정이 필요하다.\n",
    "\n",
    "1. Smoothness Assumption\n",
    "\n",
    "    만약 데이터스페이스 상에서 두 샘플 $x_1, x_2$ 가 가깝다면, 이에 대응하는 정답 label $y_1, y_2$ 또한 가깝다.\n",
    "\n",
    "2. Cluster Assumption\n",
    "\n",
    "    데이터스페이스에는 높은 density 를 가진 영역과 낮은 density 를 가진 영역이 존재한다. 높은 density 를 가진 영역에는 대게 같은 label 을 가진 샘플들이 군집되어있다.\n",
    "\n",
    "3. Low Density Assumption\n",
    "\n",
    "    두개의 클래스를 구분짓는 분류경계면은 낮은 density region 을 통과한다. SVM 에서 Margin 을 최대화 하는 분류경계면을 최적의 경계면으로 채택하는 개념과 일맥상통한다.\n",
    "\n",
    "4. Manifold Assumption\n",
    "\n",
    "    고차원의 데이터의 특성을 그대로 유지하는 저차원의 manifold 가 존재한다.\n",
    "\n",
    "**이 중에서 가장 중요한 가정을 고르자면 모든 가정을 관통하는 Smoothness Assumption 이다.**"
   ]
  },
  {
   "cell_type": "markdown",
   "metadata": {},
   "source": [
    "## Consistency Regularization Methods\n",
    "\n",
    "준지도학습의 taxonomy 를 확인해보면 GAN based 생성모델 기반 학습, Graph 기반 학습 등 다양한 갈래가 존재하지만, 해당 튜토리얼은 Consistency Regularization Methods 을 다루고자 한다.\n",
    "\n",
    "Consistency Regularization Methods 는 이미지 도메인에서 많이 쓰이는 준지도학습 방법론들이며, unlabeled 샘플에 작은 perturbation 을 주어도 모델 자체의 예측은 일관성이 있을 거라는 가정 하에 출발한다.\n",
    "\n",
    "그렇기에 labeled 샘플에 대해서는 일반적으로 잘 맞추도록 학습되며, unlabeled 샘플에 대해서는 약간의 perturbation 을 준 샘플과 차이가 크지 않도록 학습이 된다. 이때 labeled 샘플에 대해서는 cross entropy 와 같은 일반적인 지도학습 손실함수가 사용되며, unlabeled 샘플에 대해서는 MSE, KL Divergence, Jensen Shannon Divergence 등 minimizing term 손실함수가 사용된다."
   ]
  },
  {
   "cell_type": "markdown",
   "metadata": {},
   "source": [
    "### Pi-Model\n",
    "\n",
    "\n",
    "<p align=\"center\">\n",
    "    <img src=\"semi_supervised_images/piarchitecture.png\" width=\"400\"/>\n",
    "</p>\n",
    "\n",
    "Pi Model 은 2017년 ICLR 에서 소개된 방법론이며, Consistency Regularization 의 큰 개념을 설명하는데 가장 적합하다 판단하여 먼저 다루고자 한다.\n",
    "\n",
    "> 본 논문에서는 특이하게도 output 을 $z_i$ 라고 표기하며, 샘플 $x_i$ 에 대한 정답 label 을 $y_i$ 로 표기한다. Perturbation 이 가해진 객체는 $\\tilde{z}$ 로 표기한다.\n",
    "\n",
    "네트워크 구조는 위와 같으며, 인풋 샘플에 대해 주는 stochastic augmentation (perturbation) 이 핵심이다. 각 Batch 기준으로 모델이 학습되는 원리는 다음과 같다."
   ]
  },
  {
   "cell_type": "markdown",
   "metadata": {},
   "source": [
    "#### Training of the Pi-Model\n",
    "\n",
    "1. 하나의 샘플에 대해 아주 작은 perturbation 을 준 두개의 샘플을 생성한다.\n",
    "2. 두개의 샘플을 같은 네트워크에 통과시킨다. 이때, 네트워크는 하나이지만 (같은 parameter) 각 샘플이 통과될 때 다른 dropout 이 적용된다.\n",
    "3. 두개의 샘플에 대한 두개의 모델의 예측 pair $(x_i, z_i), (\\tilde{x_i}, \\tilde{z_i})$ 을 생성한다.\n",
    "4. 둘중 아무 쌍 $(x_i, z_i)$ 이나 이용해서 supervised loss 를 계산하고, 두 쌍의 output $(z_i, \\tilde{z_i})$ 을 통해 unsupervised loss 를 계산한 뒤, parameter 을 업데이트 한다. 이때 supervised loss 는 해당 batch 안에 있는 labeled 샘플에 대해서만 계산이 되며 ($B \\cap L$), unsupervised loss 는 batch 속 모든 샘플에 대해서 계산이 된다.\n",
    "\n",
    "<p align=\"center\">\n",
    "    <img src=\"semi_supervised_images/pialg.png\" width=\"400\"/>\n",
    "</p>\n",
    "\n",
    "이때 supervised loss 는 cross entropy 를 사용하며, unsupervised loss 는 MSE 를 사용한다.\n",
    "\n",
    "실제로 loss 가 계산되는 term 을 확인해보면 cross entropy 와 MSE 의 결합으로 계산되는데, unsupervised weigth ramp up function $w(t)$ 이라는 term 이 MSE를 scaling 하는 것을 확인 할 수 있다. 이 weight ramp up function 은 단조증가하는 임의의 함수이며, 학습 시작점에선 0에 근접한다.\n",
    "\n",
    "다른 dropout 과 perturbation (gaussian) 을 사용했기 때문에 두개의 output $(z_i, \\tilde{z_i})$ 은 다르지만, 실제론 굉장히 가깝기에 MSE 를 계산하는것이 일리가 있다."
   ]
  },
  {
   "cell_type": "markdown",
   "metadata": {},
   "source": [
    "#### Pi-Model: Code Implementation"
   ]
  },
  {
   "cell_type": "code",
   "execution_count": 1,
   "metadata": {},
   "outputs": [
    {
     "name": "stdout",
     "output_type": "stream",
     "text": [
      "Operating system: Darwin, Device: mps\n"
     ]
    }
   ],
   "source": [
    "import os\n",
    "import platform\n",
    "import torch\n",
    "import torch.nn as nn\n",
    "import numpy as np\n",
    "import matplotlib.pyplot as plt\n",
    "import torch\n",
    "import torch.nn as nn\n",
    "import torch.nn.functional as F\n",
    "import torchvision\n",
    "import scienceplots\n",
    "from torchvision import datasets\n",
    "from torchvision import transforms\n",
    "from torch.utils.data import DataLoader\n",
    "from tqdm.notebook import tqdm\n",
    "\n",
    "plt.style.use(['science', 'notebook', 'grid'])\n",
    "\n",
    "if platform.system() == 'Darwin':\n",
    "    device = 'mps' if torch.backends.mps.is_available() else 'cpu'\n",
    "else:\n",
    "    device = 'cuda' if torch.cuda.is_available() else 'cpu'\n",
    "print(f'Operating system: {platform.system()}, Device: {device}')"
   ]
  },
  {
   "cell_type": "code",
   "execution_count": 2,
   "metadata": {},
   "outputs": [
    {
     "name": "stdout",
     "output_type": "stream",
     "text": [
      "{'T-shirt/top': 0, 'Trouser': 1, 'Pullover': 2, 'Dress': 3, 'Coat': 4, 'Sandal': 5, 'Shirt': 6, 'Sneaker': 7, 'Bag': 8, 'Ankle boot': 9}\n"
     ]
    },
    {
     "data": {
      "image/png": "[encoded data removed]",
      "text/plain": [
       "<Figure size 200x200 with 1 Axes>"
      ]
     },
     "metadata": {},
     "output_type": "display_data"
    }
   ],
   "source": [
    "transform = transforms.Compose([\n",
    "    transforms.ToTensor(),\n",
    "    transforms.Normalize((0.1307,), (0.3081,))\n",
    "])\n",
    "\n",
    "train_data = datasets.FashionMNIST(\n",
    "    root='data',\n",
    "    train=True,\n",
    "    download=True,\n",
    "    transform=transform,\n",
    "    target_transform=None\n",
    ")\n",
    "\n",
    "test_data = datasets.FashionMNIST(\n",
    "    root='data',\n",
    "    train=False,\n",
    "    download=True,\n",
    "    transform=transform\n",
    ")\n",
    "\n",
    "sample_img = train_data[0][0]\n",
    "plt.figure(figsize=(2,2))\n",
    "plt.imshow(sample_img.permute(1,2,0), cmap='gray');\n",
    "\n",
    "class_names = train_data.classes\n",
    "class_dict = train_data.class_to_idx\n",
    "print(class_dict)"
   ]
  },
  {
   "cell_type": "markdown",
   "metadata": {},
   "source": [
    "사용한 데이터셋은 10개의 패션 아이템을 모아둔 FashionMNIST다. MNIST 와 동일하게 60,000개의 train 샘플, 10,000개의 test sample 로 이루어져 있으며 이미지는 동일하게 28 by 28 차원이다."
   ]
  },
  {
   "cell_type": "code",
   "execution_count": 3,
   "metadata": {},
   "outputs": [
    {
     "name": "stderr",
     "output_type": "stream",
     "text": [
      "/Users/jonghyunlee/miniforge3/envs/pythonic/lib/python3.10/site-packages/torchvision/datasets/mnist.py:65: UserWarning: train_labels has been renamed targets\n",
      "  warnings.warn(\"train_labels has been renamed targets\")\n"
     ]
    }
   ],
   "source": [
    "n = len(train_data)\n",
    "rrng = np.random.RandomState(42)\n",
    "indices = torch.zeros(100)\n",
    "others = torch.zeros(n - 100)\n",
    "card = 100 // len(class_names)\n",
    "cpt = 0\n",
    "\n",
    "for i in range(len(class_names)):\n",
    "    class_items = (train_data.train_labels == i).nonzero()\n",
    "    n_class = len(class_items)\n",
    "    rd = rrng.permutation(np.arange(n_class))\n",
    "    indices[i * card: (i+1) * card] = torch.squeeze(class_items[rd[:card]])\n",
    "    others[cpt: cpt+n_class-card] = torch.squeeze(class_items[rd[card:]])\n",
    "    cpt += (n_class-card)\n",
    "\n",
    "others = others.long()\n",
    "train_data.train_labels[others] = -1\n",
    "\n",
    "train_loader = torch.utils.data.DataLoader(dataset=train_data,\n",
    "                                            batch_size=64,\n",
    "                                            num_workers=0,\n",
    "                                            shuffle=False)\n",
    "\n",
    "test_loader = torch.utils.data.DataLoader(dataset=test_data,\n",
    "                                            batch_size=64,\n",
    "                                            num_workers=0,\n",
    "                                            shuffle=False,\n",
    "                                            drop_last=True)"
   ]
  },
  {
   "cell_type": "code",
   "execution_count": 4,
   "metadata": {},
   "outputs": [
    {
     "name": "stdout",
     "output_type": "stream",
     "text": [
      "Number of unlabeled samples in train data: 59900\n",
      "Number of unlabeled samples in test data: 0\n"
     ]
    }
   ],
   "source": [
    "no_label_train = [i for i in train_data.targets if i == -1]\n",
    "no_label_test = [i for i in test_data.targets if i == -1]\n",
    "print(f'Number of unlabeled samples in train data: {len(no_label_train)}')\n",
    "print(f'Number of unlabeled samples in test data: {len(no_label_test)}')"
   ]
  },
  {
   "cell_type": "markdown",
   "metadata": {},
   "source": [
    "FashionMNIST 데이터는 60,000개의 학습 샘플과 10,000개의 테스트 샘플을 가지고 있다. 기본적으로 모든 샘플들에는 레이블이 존재하기 때문에, 임의로 학습 샘플 중 100개의 샘플만 남겨두고 나머지 59,900 개의 샘플들의 레이블을 `-1`, 즉 unlabeled 데이터로 변환하였다."
   ]
  },
  {
   "cell_type": "code",
   "execution_count": 5,
   "metadata": {},
   "outputs": [
    {
     "data": {
      "image/png": "[encoded data removed]",
      "text/plain": [
       "<Figure size 200x200 with 1 Axes>"
      ]
     },
     "metadata": {},
     "output_type": "display_data"
    }
   ],
   "source": [
    "class GaussianNoise(nn.Module):\n",
    "    def __init__(self, batch_size, input_shape, std):\n",
    "        super(GaussianNoise, self).__init__()\n",
    "        self.shape = (batch_size, ) + input_shape\n",
    "        self.std = std\n",
    "        self.noise = torch.zeros(self.shape)\n",
    "\n",
    "    def forward(self, x):\n",
    "        self.noise.normal_(mean=0, std=self.std)\n",
    "        return x + self.noise\n",
    "gn = GaussianNoise(1, (1, 28, 28), 0.1)\n",
    "sample_perturbed_img = gn(sample_img).squeeze()\n",
    "plt.figure(figsize=(2,2))\n",
    "plt.imshow(sample_perturbed_img, cmap='gray');"
   ]
  },
  {
   "cell_type": "markdown",
   "metadata": {},
   "source": [
    "각 input sample 에 가우시안 perturbation 을 줄 class 를 정의하였다."
   ]
  },
  {
   "cell_type": "code",
   "execution_count": 6,
   "metadata": {},
   "outputs": [],
   "source": [
    "def mse_loss(out1, out2):\n",
    "    quad_diff = torch.sum((F.softmax(out1, dim=1) - F.softmax(out2, dim=1)) ** 2)\n",
    "    return quad_diff / out1.data.nelement()\n",
    "\n",
    "def masked_crossentropy(out, labels):\n",
    "    cond = (labels >= 0)\n",
    "    nnz = torch.nonzero(cond)\n",
    "    nbsup = len(nnz)\n",
    "    if nbsup > 0:\n",
    "        masked_outputs = torch.index_select(out, 0, nnz.view(nbsup))\n",
    "        masked_labels = labels[cond]\n",
    "        loss = F.cross_entropy(masked_outputs, masked_labels)\n",
    "        return loss, nbsup\n",
    "    loss = torch.tensor([0.], requires_grad=False)\n",
    "    return loss, 0\n",
    "\n",
    "def temporal_losses(out1, out2, w, labels):\n",
    "    sup_loss, nbsup = masked_crossentropy(out1, labels)\n",
    "    unsup_loss = mse_loss(out1, out2)\n",
    "    total_loss = sup_loss + w * unsup_loss\n",
    "    return total_loss, sup_loss, unsup_loss, nbsup"
   ]
  },
  {
   "cell_type": "markdown",
   "metadata": {},
   "source": [
    "함수 `temporal_losses` 는 supervised loss 인 `masked_crossentropy` unsupervised loss 인 `mse_loss` 와  의 wrapper 함수이다.\n",
    "\n",
    "$$\n",
    "\\begin{aligned}\n",
    "& \\frac{1}{|B|} \\sum_{i \\in(B \\cap L)} \\log z_i\\left[y_i\\right] +w(t) \\frac{1}{C|B|} \\sum_{i \\in B}\\left\\|z_i-\\tilde{z}_i\\right\\|^2\n",
    "\\end{aligned}\n",
    "$$\n",
    "\n",
    "이때 `temporal_losses` 는 `w` 를 인자로 받는데, 이는 unsupervised weight ramp up function 이다."
   ]
  },
  {
   "cell_type": "code",
   "execution_count": 7,
   "metadata": {},
   "outputs": [
    {
     "data": {
      "image/png": "[encoded data removed]",
      "text/plain": [
       "<Figure size 700x500 with 1 Axes>"
      ]
     },
     "metadata": {},
     "output_type": "display_data"
    }
   ],
   "source": [
    "def weight_scheduler(epoch, max_epochs, max_val, mult, n_labeled, n_samples):\n",
    "    max_val = max_val * (float(n_labeled) / n_samples)\n",
    "    if epoch == 0:\n",
    "        return 0.\n",
    "    elif epoch >= max_epochs:\n",
    "        pass\n",
    "    return max_val * np.exp(-mult * (1. - float(epoch) / max_epochs) ** 2)\n",
    "    \n",
    "max_epochs = 100\n",
    "max_val = 1.\n",
    "mult = 5\n",
    "\n",
    "x = np.arange(0, 100)\n",
    "y = [weight_scheduler(i, max_epochs, max_val, mult, 100, 60000) for i in x]\n",
    "plt.figure(figsize=(7, 5))\n",
    "plt.plot(x, y)\n",
    "plt.xlabel('Epoch')\n",
    "plt.ylabel('Weight')\n",
    "plt.title('Weight scheduler');"
   ]
  },
  {
   "cell_type": "markdown",
   "metadata": {},
   "source": [
    "Weight ramp up function 은 시작을 0으로 Epoch 이 진행될수록 단조증가하는 함수이다. \n",
    "\n",
    "$\\exp(-(1 - \\frac{epoch}{maxepochs})^2)$"
   ]
  },
  {
   "cell_type": "code",
   "execution_count": 8,
   "metadata": {},
   "outputs": [],
   "source": [
    "class CNN_pi(nn.Module):\n",
    "    def __init__(self, batch_size, std, input_shape=(1, 28, 28), p=0.5, fm1=16, fm2=32):\n",
    "        super(CNN_pi, self).__init__()\n",
    "        self.std = std\n",
    "        self.p = p\n",
    "        self.fm1 = fm1\n",
    "        self.fm2 = fm2\n",
    "        self.input_shape = input_shape\n",
    "        self.conv_block1 = nn.Sequential(nn.Conv2d(1, self.fm1, 3, stride=1, padding=1),\n",
    "                                        nn.BatchNorm2d(self.fm1), \n",
    "                                        nn.ReLU(),\n",
    "                                        nn.MaxPool2d(3, stride=2, padding=1)\n",
    "                                      )\n",
    "        \n",
    "        self.conv_block2 = nn.Sequential(nn.Conv2d(self.fm1, self.fm2, 3, stride=1, padding=1),\n",
    "                                        nn.BatchNorm2d(self.fm2), \n",
    "                                        nn.ReLU(),\n",
    "                                        nn.MaxPool2d(3, stride=2, padding=1)\n",
    "                                      )\n",
    "        self.drop = nn.Dropout(self.p)\n",
    "        self.fc = nn.Linear(self.fm2 * 7 * 7, 10)\n",
    "\n",
    "    def forward(self, x):\n",
    "        if self.training:\n",
    "            b = x.size(0)\n",
    "            gn = GaussianNoise(b, self.input_shape, self.std)\n",
    "            x_2 = x.clone()\n",
    "            x = gn(x)\n",
    "            x_2 = gn(x_2)\n",
    "\n",
    "        else:\n",
    "            x_2 = x.clone()\n",
    "\n",
    "        x = self.conv_block1(x)\n",
    "        x = self.conv_block2(x)\n",
    "        x = x.reshape(-1, self.fm2 * 7 * 7)\n",
    "        x = self.fc(self.drop(x))\n",
    "        x_2 = self.conv_block1(x_2)\n",
    "        x_2 = self.conv_block2(x_2)\n",
    "        x_2 = x_2.reshape(-1, self.fm2 * 7 * 7)\n",
    "        x_2 = self.fc(self.drop(x_2))\n",
    "        return x, x_2"
   ]
  },
  {
   "cell_type": "markdown",
   "metadata": {},
   "source": [
    "실제로 학습할 모델 구조는 이미지 데이터에 걸맞는 CNN 구조를 선택하였다. 각 샘플에 대해 이전에 정의한 `GaussianNoise` 클래스를 통해 perturbation 을 주입하기 위한 인자 `std` 와, 마지막 affine층에 dropout 확률을 조절할 수 있는 인자 `p` 를 정의하였다.\n",
    "\n",
    "모델 구조는 2개의 convolutional block 과 1개의 affine layer 로 구성되어 있으며, 각 convolutional block 은 2차원 convolution, batch normalization, ReLU 활성화, 그리고 2차원 max pooling 으로 구성하였다.\n",
    "\n",
    "학습 시에는 input 데이터를 복제 한 뒤, 각각 가우시안 perturbation 을 준 뒤, 순전파를 거친다."
   ]
  },
  {
   "cell_type": "code",
   "execution_count": 38,
   "metadata": {},
   "outputs": [
    {
     "name": "stdout",
     "output_type": "stream",
     "text": [
      "Cosine similarity: tensor([0.7822], grad_fn=<SumBackward1>)\n"
     ]
    }
   ],
   "source": [
    "sample_model = CNN_pi(64, 0.1)\n",
    "sample_out, sample_out_2 = sample_model(sample_img)\n",
    "cos_sim = F.cosine_similarity(sample_out, sample_out_2, dim=1)\n",
    "print(f'Cosine similarity: {cos_sim}')"
   ]
  },
  {
   "cell_type": "markdown",
   "metadata": {},
   "source": [
    "실제로 sample image 를 순전파 하여 $z_i, \\tilde{z_i}$ 가 초기에 얼마나 다른지 코사인 유사도로 확인 해 본 결과, 서로 꽤나 다른 perturbation 이 가해진 것을 볼 수 있다."
   ]
  },
  {
   "cell_type": "code",
   "execution_count": 39,
   "metadata": {},
   "outputs": [],
   "source": [
    "model = CNN_pi(batch_size=64, std=0.1)\n",
    "k = 100\n",
    "lr = 0.002\n",
    "num_epochs = 50\n",
    "batch_size = 64\n",
    "n_classes = 10\n",
    "max_epochs = 80\n",
    "max_val = 1.\n",
    "optimizer = torch.optim.Adam(model.parameters(), lr=lr, betas=(0.9, 0.99))"
   ]
  },
  {
   "cell_type": "markdown",
   "metadata": {},
   "source": [
    "학습을 위한 모델 파라미터는 위와 같이 설정하였다. 본 논문에서 사용 한 것 처럼 ADAM 을 optimizer 로 사용하였으며, 50 epoch 을 학습 기간으로 설정하였다."
   ]
  },
  {
   "cell_type": "code",
   "execution_count": 41,
   "metadata": {},
   "outputs": [
    {
     "name": "stdout",
     "output_type": "stream",
     "text": [
      "\n",
      "Epoch: 1\n",
      "---------------------\n"
     ]
    },
    {
     "data": {
      "application/vnd.jupyter.widget-view+json": {
       "model_id": "81e8a6ca085e4492af78d6c7b2fce11a",
       "version_major": 2,
       "version_minor": 0
      },
      "text/plain": [
       "0it [00:00, ?it/s]"
      ]
     },
     "metadata": {},
     "output_type": "display_data"
    },
    {
     "name": "stdout",
     "output_type": "stream",
     "text": [
      "Epoch 1/50, Loss: 0.254788, Supervised Loss: 0.254788, Unsupervised Loss: 0.016013\n",
      "Acc : 47.81650641025641\n",
      "\n",
      "Epoch: 2\n",
      "---------------------\n"
     ]
    },
    {
     "data": {
      "application/vnd.jupyter.widget-view+json": {
       "model_id": "4824bf0bd1a54bcd95f0c73b8775a0e7",
       "version_major": 2,
       "version_minor": 0
      },
      "text/plain": [
       "0it [00:00, ?it/s]"
      ]
     },
     "metadata": {},
     "output_type": "display_data"
    },
    {
     "name": "stdout",
     "output_type": "stream",
     "text": [
      "Epoch 2/50, Loss: 0.202058, Supervised Loss: 0.202058, Unsupervised Loss: 0.015643\n",
      "Acc : 56.08974358974359\n",
      "\n",
      "Epoch: 3\n",
      "---------------------\n"
     ]
    },
    {
     "data": {
      "application/vnd.jupyter.widget-view+json": {
       "model_id": "8cf67c48411a4f23bcebe5ff8305dff8",
       "version_major": 2,
       "version_minor": 0
      },
      "text/plain": [
       "0it [00:00, ?it/s]"
      ]
     },
     "metadata": {},
     "output_type": "display_data"
    },
    {
     "name": "stdout",
     "output_type": "stream",
     "text": [
      "Epoch 3/50, Loss: 0.167951, Supervised Loss: 0.167951, Unsupervised Loss: 0.015668\n",
      "Acc : 61.05769230769231\n",
      "\n",
      "Epoch: 4\n",
      "---------------------\n"
     ]
    },
    {
     "data": {
      "application/vnd.jupyter.widget-view+json": {
       "model_id": "6302213d798d40ea89be658fce465929",
       "version_major": 2,
       "version_minor": 0
      },
      "text/plain": [
       "0it [00:00, ?it/s]"
      ]
     },
     "metadata": {},
     "output_type": "display_data"
    },
    {
     "name": "stdout",
     "output_type": "stream",
     "text": [
      "Epoch 4/50, Loss: 0.150627, Supervised Loss: 0.150627, Unsupervised Loss: 0.015632\n",
      "Acc : 61.50841346153846\n",
      "\n",
      "Epoch: 5\n",
      "---------------------\n"
     ]
    },
    {
     "data": {
      "application/vnd.jupyter.widget-view+json": {
       "model_id": "67b5d046ee5e47738bf1e6728d5372f1",
       "version_major": 2,
       "version_minor": 0
      },
      "text/plain": [
       "0it [00:00, ?it/s]"
      ]
     },
     "metadata": {},
     "output_type": "display_data"
    },
    {
     "name": "stdout",
     "output_type": "stream",
     "text": [
      "Epoch 5/50, Loss: 0.135137, Supervised Loss: 0.135137, Unsupervised Loss: 0.015824\n",
      "Acc : 58.78405448717949\n",
      "\n",
      "Epoch: 6\n",
      "---------------------\n"
     ]
    },
    {
     "data": {
      "application/vnd.jupyter.widget-view+json": {
       "model_id": "9430e8cd69ca4df7ae0824d964da4802",
       "version_major": 2,
       "version_minor": 0
      },
      "text/plain": [
       "0it [00:00, ?it/s]"
      ]
     },
     "metadata": {},
     "output_type": "display_data"
    },
    {
     "name": "stdout",
     "output_type": "stream",
     "text": [
      "Epoch 6/50, Loss: 0.122791, Supervised Loss: 0.122791, Unsupervised Loss: 0.016102\n",
      "Acc : 62.760416666666664\n",
      "\n",
      "Epoch: 7\n",
      "---------------------\n"
     ]
    },
    {
     "data": {
      "application/vnd.jupyter.widget-view+json": {
       "model_id": "aace23929cf54f77bc76f253a879f2c5",
       "version_major": 2,
       "version_minor": 0
      },
      "text/plain": [
       "0it [00:00, ?it/s]"
      ]
     },
     "metadata": {},
     "output_type": "display_data"
    },
    {
     "name": "stdout",
     "output_type": "stream",
     "text": [
      "Epoch 7/50, Loss: 0.113928, Supervised Loss: 0.113928, Unsupervised Loss: 0.016442\n",
      "Acc : 61.83894230769231\n",
      "\n",
      "Epoch: 8\n",
      "---------------------\n"
     ]
    },
    {
     "data": {
      "application/vnd.jupyter.widget-view+json": {
       "model_id": "819e1d2c581c430cad547bd4c10ef8b1",
       "version_major": 2,
       "version_minor": 0
      },
      "text/plain": [
       "0it [00:00, ?it/s]"
      ]
     },
     "metadata": {},
     "output_type": "display_data"
    },
    {
     "name": "stdout",
     "output_type": "stream",
     "text": [
      "Epoch 8/50, Loss: 0.105258, Supervised Loss: 0.105258, Unsupervised Loss: 0.016501\n",
      "Acc : 65.25440705128206\n",
      "\n",
      "Epoch: 9\n",
      "---------------------\n"
     ]
    },
    {
     "data": {
      "application/vnd.jupyter.widget-view+json": {
       "model_id": "5a0a51fdde68477b90fe851554d99d50",
       "version_major": 2,
       "version_minor": 0
      },
      "text/plain": [
       "0it [00:00, ?it/s]"
      ]
     },
     "metadata": {},
     "output_type": "display_data"
    },
    {
     "name": "stdout",
     "output_type": "stream",
     "text": [
      "Epoch 9/50, Loss: 0.101505, Supervised Loss: 0.101504, Unsupervised Loss: 0.016562\n",
      "Acc : 65.69511217948718\n",
      "\n",
      "Epoch: 10\n",
      "---------------------\n"
     ]
    },
    {
     "data": {
      "application/vnd.jupyter.widget-view+json": {
       "model_id": "f60a45fc11a94c0895411c2255c87269",
       "version_major": 2,
       "version_minor": 0
      },
      "text/plain": [
       "0it [00:00, ?it/s]"
      ]
     },
     "metadata": {},
     "output_type": "display_data"
    },
    {
     "name": "stdout",
     "output_type": "stream",
     "text": [
      "Epoch 10/50, Loss: 0.098282, Supervised Loss: 0.098281, Unsupervised Loss: 0.016737\n",
      "Acc : 62.91065705128205\n",
      "\n",
      "Epoch: 11\n",
      "---------------------\n"
     ]
    },
    {
     "data": {
      "application/vnd.jupyter.widget-view+json": {
       "model_id": "777b01c347e7478da64c4705590d79e9",
       "version_major": 2,
       "version_minor": 0
      },
      "text/plain": [
       "0it [00:00, ?it/s]"
      ]
     },
     "metadata": {},
     "output_type": "display_data"
    },
    {
     "name": "stdout",
     "output_type": "stream",
     "text": [
      "Epoch 11/50, Loss: 0.092882, Supervised Loss: 0.092882, Unsupervised Loss: 0.016960\n",
      "Acc : 64.9238782051282\n",
      "\n",
      "Epoch: 12\n",
      "---------------------\n"
     ]
    },
    {
     "data": {
      "application/vnd.jupyter.widget-view+json": {
       "model_id": "0c1cad5bd254473fa128449a43178ca2",
       "version_major": 2,
       "version_minor": 0
      },
      "text/plain": [
       "0it [00:00, ?it/s]"
      ]
     },
     "metadata": {},
     "output_type": "display_data"
    },
    {
     "name": "stdout",
     "output_type": "stream",
     "text": [
      "Epoch 12/50, Loss: 0.088415, Supervised Loss: 0.088414, Unsupervised Loss: 0.017134\n",
      "Acc : 66.56650641025641\n",
      "\n",
      "Epoch: 13\n",
      "---------------------\n"
     ]
    },
    {
     "data": {
      "application/vnd.jupyter.widget-view+json": {
       "model_id": "e41a8aaf749242da8d6e8ebe443f1fa6",
       "version_major": 2,
       "version_minor": 0
      },
      "text/plain": [
       "0it [00:00, ?it/s]"
      ]
     },
     "metadata": {},
     "output_type": "display_data"
    },
    {
     "name": "stdout",
     "output_type": "stream",
     "text": [
      "Epoch 13/50, Loss: 0.084237, Supervised Loss: 0.084237, Unsupervised Loss: 0.017370\n",
      "Acc : 67.98878205128206\n",
      "\n",
      "Epoch: 14\n",
      "---------------------\n"
     ]
    },
    {
     "data": {
      "application/vnd.jupyter.widget-view+json": {
       "model_id": "70c1feb2680b40ef9a2eca1d1e63dac0",
       "version_major": 2,
       "version_minor": 0
      },
      "text/plain": [
       "0it [00:00, ?it/s]"
      ]
     },
     "metadata": {},
     "output_type": "display_data"
    },
    {
     "name": "stdout",
     "output_type": "stream",
     "text": [
      "Epoch 14/50, Loss: 0.081133, Supervised Loss: 0.081133, Unsupervised Loss: 0.017570\n",
      "Acc : 65.5048076923077\n",
      "\n",
      "Epoch: 15\n",
      "---------------------\n"
     ]
    },
    {
     "data": {
      "application/vnd.jupyter.widget-view+json": {
       "model_id": "94966461af5c4aa68e5e2b821816f201",
       "version_major": 2,
       "version_minor": 0
      },
      "text/plain": [
       "0it [00:00, ?it/s]"
      ]
     },
     "metadata": {},
     "output_type": "display_data"
    },
    {
     "name": "stdout",
     "output_type": "stream",
     "text": [
      "Epoch 15/50, Loss: 0.076974, Supervised Loss: 0.076973, Unsupervised Loss: 0.017819\n",
      "Acc : 66.53645833333333\n",
      "\n",
      "Epoch: 16\n",
      "---------------------\n"
     ]
    },
    {
     "data": {
      "application/vnd.jupyter.widget-view+json": {
       "model_id": "432231d629b34ff6ab202e259b52b705",
       "version_major": 2,
       "version_minor": 0
      },
      "text/plain": [
       "0it [00:00, ?it/s]"
      ]
     },
     "metadata": {},
     "output_type": "display_data"
    },
    {
     "name": "stdout",
     "output_type": "stream",
     "text": [
      "Epoch 16/50, Loss: 0.074353, Supervised Loss: 0.074352, Unsupervised Loss: 0.017953\n",
      "Acc : 65.07411858974359\n",
      "\n",
      "Epoch: 17\n",
      "---------------------\n"
     ]
    },
    {
     "data": {
      "application/vnd.jupyter.widget-view+json": {
       "model_id": "80a4eb14a7844e07b7b32b63d0d880b8",
       "version_major": 2,
       "version_minor": 0
      },
      "text/plain": [
       "0it [00:00, ?it/s]"
      ]
     },
     "metadata": {},
     "output_type": "display_data"
    },
    {
     "name": "stdout",
     "output_type": "stream",
     "text": [
      "Epoch 17/50, Loss: 0.071113, Supervised Loss: 0.071112, Unsupervised Loss: 0.018152\n",
      "Acc : 66.65665064102564\n",
      "\n",
      "Epoch: 18\n",
      "---------------------\n"
     ]
    },
    {
     "data": {
      "application/vnd.jupyter.widget-view+json": {
       "model_id": "9af7da2a6cf347128c7295ff6f9de24b",
       "version_major": 2,
       "version_minor": 0
      },
      "text/plain": [
       "0it [00:00, ?it/s]"
      ]
     },
     "metadata": {},
     "output_type": "display_data"
    },
    {
     "name": "stdout",
     "output_type": "stream",
     "text": [
      "Epoch 18/50, Loss: 0.068794, Supervised Loss: 0.068794, Unsupervised Loss: 0.018209\n",
      "Acc : 67.62820512820512\n",
      "\n",
      "Epoch: 19\n",
      "---------------------\n"
     ]
    },
    {
     "data": {
      "application/vnd.jupyter.widget-view+json": {
       "model_id": "98cbb76845ec4bda9ea27820eb77e648",
       "version_major": 2,
       "version_minor": 0
      },
      "text/plain": [
       "0it [00:00, ?it/s]"
      ]
     },
     "metadata": {},
     "output_type": "display_data"
    },
    {
     "name": "stdout",
     "output_type": "stream",
     "text": [
      "Epoch 19/50, Loss: 0.065649, Supervised Loss: 0.065648, Unsupervised Loss: 0.018335\n",
      "Acc : 67.6181891025641\n",
      "\n",
      "Epoch: 20\n",
      "---------------------\n"
     ]
    },
    {
     "data": {
      "application/vnd.jupyter.widget-view+json": {
       "model_id": "443879bc64fb43f3a5000db2a2354139",
       "version_major": 2,
       "version_minor": 0
      },
      "text/plain": [
       "0it [00:00, ?it/s]"
      ]
     },
     "metadata": {},
     "output_type": "display_data"
    },
    {
     "name": "stdout",
     "output_type": "stream",
     "text": [
      "Epoch 20/50, Loss: 0.063223, Supervised Loss: 0.063223, Unsupervised Loss: 0.018488\n",
      "Acc : 63.45152243589744\n",
      "\n",
      "Epoch: 21\n",
      "---------------------\n"
     ]
    },
    {
     "data": {
      "application/vnd.jupyter.widget-view+json": {
       "model_id": "e0b97ec4594e40b89dc6b0a242c5fd4d",
       "version_major": 2,
       "version_minor": 0
      },
      "text/plain": [
       "0it [00:00, ?it/s]"
      ]
     },
     "metadata": {},
     "output_type": "display_data"
    },
    {
     "name": "stdout",
     "output_type": "stream",
     "text": [
      "Epoch 21/50, Loss: 0.061402, Supervised Loss: 0.061401, Unsupervised Loss: 0.018578\n",
      "Acc : 69.2608173076923\n",
      "\n",
      "Epoch: 22\n",
      "---------------------\n"
     ]
    },
    {
     "data": {
      "application/vnd.jupyter.widget-view+json": {
       "model_id": "6e6410715e5e4d959c6737f2d1b6ef7e",
       "version_major": 2,
       "version_minor": 0
      },
      "text/plain": [
       "0it [00:00, ?it/s]"
      ]
     },
     "metadata": {},
     "output_type": "display_data"
    },
    {
     "name": "stdout",
     "output_type": "stream",
     "text": [
      "Epoch 22/50, Loss: 0.058907, Supervised Loss: 0.058906, Unsupervised Loss: 0.018655\n",
      "Acc : 68.71995192307692\n",
      "\n",
      "Epoch: 23\n",
      "---------------------\n"
     ]
    },
    {
     "data": {
      "application/vnd.jupyter.widget-view+json": {
       "model_id": "ba0a916c70754ed4bb1151e971654911",
       "version_major": 2,
       "version_minor": 0
      },
      "text/plain": [
       "0it [00:00, ?it/s]"
      ]
     },
     "metadata": {},
     "output_type": "display_data"
    },
    {
     "name": "stdout",
     "output_type": "stream",
     "text": [
      "Epoch 23/50, Loss: 0.056794, Supervised Loss: 0.056793, Unsupervised Loss: 0.018751\n",
      "Acc : 66.46634615384616\n",
      "\n",
      "Epoch: 24\n",
      "---------------------\n"
     ]
    },
    {
     "data": {
      "application/vnd.jupyter.widget-view+json": {
       "model_id": "e01e52bdc5164105ac6f822527bb1c0e",
       "version_major": 2,
       "version_minor": 0
      },
      "text/plain": [
       "0it [00:00, ?it/s]"
      ]
     },
     "metadata": {},
     "output_type": "display_data"
    },
    {
     "name": "stdout",
     "output_type": "stream",
     "text": [
      "Epoch 24/50, Loss: 0.054647, Supervised Loss: 0.054646, Unsupervised Loss: 0.018837\n",
      "Acc : 68.76001602564102\n",
      "\n",
      "Epoch: 25\n",
      "---------------------\n"
     ]
    },
    {
     "data": {
      "application/vnd.jupyter.widget-view+json": {
       "model_id": "afd99c12701d482a8767ca92cd61c591",
       "version_major": 2,
       "version_minor": 0
      },
      "text/plain": [
       "0it [00:00, ?it/s]"
      ]
     },
     "metadata": {},
     "output_type": "display_data"
    },
    {
     "name": "stdout",
     "output_type": "stream",
     "text": [
      "Epoch 25/50, Loss: 0.052977, Supervised Loss: 0.052976, Unsupervised Loss: 0.018880\n",
      "Acc : 67.71834935897436\n",
      "\n",
      "Epoch: 26\n",
      "---------------------\n"
     ]
    },
    {
     "data": {
      "application/vnd.jupyter.widget-view+json": {
       "model_id": "4640c4f95d6343a6b897d7a649117037",
       "version_major": 2,
       "version_minor": 0
      },
      "text/plain": [
       "0it [00:00, ?it/s]"
      ]
     },
     "metadata": {},
     "output_type": "display_data"
    },
    {
     "name": "stdout",
     "output_type": "stream",
     "text": [
      "Epoch 26/50, Loss: 0.051546, Supervised Loss: 0.051545, Unsupervised Loss: 0.018896\n",
      "Acc : 67.78846153846153\n",
      "\n",
      "Epoch: 27\n",
      "---------------------\n"
     ]
    },
    {
     "data": {
      "application/vnd.jupyter.widget-view+json": {
       "model_id": "7af17930c3bc4a7b878b837ff3c37161",
       "version_major": 2,
       "version_minor": 0
      },
      "text/plain": [
       "0it [00:00, ?it/s]"
      ]
     },
     "metadata": {},
     "output_type": "display_data"
    },
    {
     "name": "stdout",
     "output_type": "stream",
     "text": [
      "Epoch 27/50, Loss: 0.049656, Supervised Loss: 0.049654, Unsupervised Loss: 0.018901\n",
      "Acc : 68.40945512820512\n",
      "\n",
      "Epoch: 28\n",
      "---------------------\n"
     ]
    },
    {
     "data": {
      "application/vnd.jupyter.widget-view+json": {
       "model_id": "41fb4aa0c96f4e20ac018456e7ee4c2b",
       "version_major": 2,
       "version_minor": 0
      },
      "text/plain": [
       "0it [00:00, ?it/s]"
      ]
     },
     "metadata": {},
     "output_type": "display_data"
    },
    {
     "name": "stdout",
     "output_type": "stream",
     "text": [
      "Epoch 28/50, Loss: 0.048693, Supervised Loss: 0.048691, Unsupervised Loss: 0.018926\n",
      "Acc : 68.19911858974359\n",
      "\n",
      "Epoch: 29\n",
      "---------------------\n"
     ]
    },
    {
     "data": {
      "application/vnd.jupyter.widget-view+json": {
       "model_id": "8640d9cd537641de8bd340337250ae3d",
       "version_major": 2,
       "version_minor": 0
      },
      "text/plain": [
       "0it [00:00, ?it/s]"
      ]
     },
     "metadata": {},
     "output_type": "display_data"
    },
    {
     "name": "stdout",
     "output_type": "stream",
     "text": [
      "Epoch 29/50, Loss: 0.047355, Supervised Loss: 0.047353, Unsupervised Loss: 0.018950\n",
      "Acc : 69.89182692307692\n",
      "\n",
      "Epoch: 30\n",
      "---------------------\n"
     ]
    },
    {
     "data": {
      "application/vnd.jupyter.widget-view+json": {
       "model_id": "e57d11a39e8a4d379f2ceba670639345",
       "version_major": 2,
       "version_minor": 0
      },
      "text/plain": [
       "0it [00:00, ?it/s]"
      ]
     },
     "metadata": {},
     "output_type": "display_data"
    },
    {
     "name": "stdout",
     "output_type": "stream",
     "text": [
      "Epoch 30/50, Loss: 0.045927, Supervised Loss: 0.045926, Unsupervised Loss: 0.018974\n",
      "Acc : 70.02203525641026\n",
      "\n",
      "Epoch: 31\n",
      "---------------------\n"
     ]
    },
    {
     "data": {
      "application/vnd.jupyter.widget-view+json": {
       "model_id": "b93fe3a8997140e6acce7c911240aa48",
       "version_major": 2,
       "version_minor": 0
      },
      "text/plain": [
       "0it [00:00, ?it/s]"
      ]
     },
     "metadata": {},
     "output_type": "display_data"
    },
    {
     "name": "stdout",
     "output_type": "stream",
     "text": [
      "Epoch 31/50, Loss: 0.044793, Supervised Loss: 0.044791, Unsupervised Loss: 0.018997\n",
      "Acc : 69.71153846153847\n",
      "\n",
      "Epoch: 32\n",
      "---------------------\n"
     ]
    },
    {
     "data": {
      "application/vnd.jupyter.widget-view+json": {
       "model_id": "8fff973338214e2b98b28b9dd9a789df",
       "version_major": 2,
       "version_minor": 0
      },
      "text/plain": [
       "0it [00:00, ?it/s]"
      ]
     },
     "metadata": {},
     "output_type": "display_data"
    },
    {
     "name": "stdout",
     "output_type": "stream",
     "text": [
      "Epoch 32/50, Loss: 0.044000, Supervised Loss: 0.043999, Unsupervised Loss: 0.019014\n",
      "Acc : 67.76842948717949\n",
      "\n",
      "Epoch: 33\n",
      "---------------------\n"
     ]
    },
    {
     "data": {
      "application/vnd.jupyter.widget-view+json": {
       "model_id": "ef1d68c955b14137992862b8e44a97ee",
       "version_major": 2,
       "version_minor": 0
      },
      "text/plain": [
       "0it [00:00, ?it/s]"
      ]
     },
     "metadata": {},
     "output_type": "display_data"
    },
    {
     "name": "stdout",
     "output_type": "stream",
     "text": [
      "Epoch 33/50, Loss: 0.043246, Supervised Loss: 0.043244, Unsupervised Loss: 0.019035\n",
      "Acc : 67.4979967948718\n",
      "\n",
      "Epoch: 34\n",
      "---------------------\n"
     ]
    },
    {
     "data": {
      "application/vnd.jupyter.widget-view+json": {
       "model_id": "cda6b1b5f2c841889ed2f3865d792ca1",
       "version_major": 2,
       "version_minor": 0
      },
      "text/plain": [
       "0it [00:00, ?it/s]"
      ]
     },
     "metadata": {},
     "output_type": "display_data"
    },
    {
     "name": "stdout",
     "output_type": "stream",
     "text": [
      "Epoch 34/50, Loss: 0.042505, Supervised Loss: 0.042503, Unsupervised Loss: 0.019038\n",
      "Acc : 67.55809294871794\n",
      "\n",
      "Epoch: 35\n",
      "---------------------\n"
     ]
    },
    {
     "data": {
      "application/vnd.jupyter.widget-view+json": {
       "model_id": "05417546fb7f421e89c7c37ae0daead5",
       "version_major": 2,
       "version_minor": 0
      },
      "text/plain": [
       "0it [00:00, ?it/s]"
      ]
     },
     "metadata": {},
     "output_type": "display_data"
    },
    {
     "name": "stdout",
     "output_type": "stream",
     "text": [
      "Epoch 35/50, Loss: 0.041951, Supervised Loss: 0.041949, Unsupervised Loss: 0.019070\n",
      "Acc : 69.79166666666667\n",
      "\n",
      "Epoch: 36\n",
      "---------------------\n"
     ]
    },
    {
     "data": {
      "application/vnd.jupyter.widget-view+json": {
       "model_id": "b18e55fc6a7f4aff9a0623b579ae6c53",
       "version_major": 2,
       "version_minor": 0
      },
      "text/plain": [
       "0it [00:00, ?it/s]"
      ]
     },
     "metadata": {},
     "output_type": "display_data"
    },
    {
     "name": "stdout",
     "output_type": "stream",
     "text": [
      "Epoch 36/50, Loss: 0.040788, Supervised Loss: 0.040786, Unsupervised Loss: 0.019065\n",
      "Acc : 69.1005608974359\n",
      "\n",
      "Epoch: 37\n",
      "---------------------\n"
     ]
    },
    {
     "data": {
      "application/vnd.jupyter.widget-view+json": {
       "model_id": "d469a26f9a1d49f9adfc7884102d9fc5",
       "version_major": 2,
       "version_minor": 0
      },
      "text/plain": [
       "0it [00:00, ?it/s]"
      ]
     },
     "metadata": {},
     "output_type": "display_data"
    },
    {
     "name": "stdout",
     "output_type": "stream",
     "text": [
      "Epoch 37/50, Loss: 0.040455, Supervised Loss: 0.040453, Unsupervised Loss: 0.019080\n",
      "Acc : 70.50280448717949\n",
      "\n",
      "Epoch: 38\n",
      "---------------------\n"
     ]
    },
    {
     "data": {
      "application/vnd.jupyter.widget-view+json": {
       "model_id": "bb796f21b46541daa74b969b3340164a",
       "version_major": 2,
       "version_minor": 0
      },
      "text/plain": [
       "0it [00:00, ?it/s]"
      ]
     },
     "metadata": {},
     "output_type": "display_data"
    },
    {
     "name": "stdout",
     "output_type": "stream",
     "text": [
      "Epoch 38/50, Loss: 0.039619, Supervised Loss: 0.039617, Unsupervised Loss: 0.019073\n",
      "Acc : 70.6630608974359\n",
      "\n",
      "Epoch: 39\n",
      "---------------------\n"
     ]
    },
    {
     "data": {
      "application/vnd.jupyter.widget-view+json": {
       "model_id": "ed6925423b884b4bae925d0db2cd9d81",
       "version_major": 2,
       "version_minor": 0
      },
      "text/plain": [
       "0it [00:00, ?it/s]"
      ]
     },
     "metadata": {},
     "output_type": "display_data"
    },
    {
     "name": "stdout",
     "output_type": "stream",
     "text": [
      "Epoch 39/50, Loss: 0.039425, Supervised Loss: 0.039423, Unsupervised Loss: 0.019071\n",
      "Acc : 69.94190705128206\n",
      "\n",
      "Epoch: 40\n",
      "---------------------\n"
     ]
    },
    {
     "data": {
      "application/vnd.jupyter.widget-view+json": {
       "model_id": "c269078332cd4504be6be5162dd41c13",
       "version_major": 2,
       "version_minor": 0
      },
      "text/plain": [
       "0it [00:00, ?it/s]"
      ]
     },
     "metadata": {},
     "output_type": "display_data"
    },
    {
     "name": "stdout",
     "output_type": "stream",
     "text": [
      "Epoch 40/50, Loss: 0.038492, Supervised Loss: 0.038489, Unsupervised Loss: 0.019084\n",
      "Acc : 69.55128205128206\n",
      "\n",
      "Epoch: 41\n",
      "---------------------\n"
     ]
    },
    {
     "data": {
      "application/vnd.jupyter.widget-view+json": {
       "model_id": "ef3772cb952240ecadd534c0203394cf",
       "version_major": 2,
       "version_minor": 0
      },
      "text/plain": [
       "0it [00:00, ?it/s]"
      ]
     },
     "metadata": {},
     "output_type": "display_data"
    },
    {
     "name": "stdout",
     "output_type": "stream",
     "text": [
      "Epoch 41/50, Loss: 0.038497, Supervised Loss: 0.038494, Unsupervised Loss: 0.019082\n",
      "Acc : 69.58133012820512\n",
      "\n",
      "Epoch: 42\n",
      "---------------------\n"
     ]
    },
    {
     "data": {
      "application/vnd.jupyter.widget-view+json": {
       "model_id": "161ff64990304113a18517969c4df475",
       "version_major": 2,
       "version_minor": 0
      },
      "text/plain": [
       "0it [00:00, ?it/s]"
      ]
     },
     "metadata": {},
     "output_type": "display_data"
    },
    {
     "name": "stdout",
     "output_type": "stream",
     "text": [
      "Epoch 42/50, Loss: 0.037783, Supervised Loss: 0.037780, Unsupervised Loss: 0.019047\n",
      "Acc : 69.2207532051282\n",
      "\n",
      "Epoch: 43\n",
      "---------------------\n"
     ]
    },
    {
     "data": {
      "application/vnd.jupyter.widget-view+json": {
       "model_id": "ff3ba02b91e64b42b68fef1e4a2a085b",
       "version_major": 2,
       "version_minor": 0
      },
      "text/plain": [
       "0it [00:00, ?it/s]"
      ]
     },
     "metadata": {},
     "output_type": "display_data"
    },
    {
     "name": "stdout",
     "output_type": "stream",
     "text": [
      "Epoch 43/50, Loss: 0.037192, Supervised Loss: 0.037189, Unsupervised Loss: 0.018993\n",
      "Acc : 68.16907051282051\n",
      "\n",
      "Epoch: 44\n",
      "---------------------\n"
     ]
    },
    {
     "data": {
      "application/vnd.jupyter.widget-view+json": {
       "model_id": "05950ae3904045e486858f2da5f59570",
       "version_major": 2,
       "version_minor": 0
      },
      "text/plain": [
       "0it [00:00, ?it/s]"
      ]
     },
     "metadata": {},
     "output_type": "display_data"
    },
    {
     "name": "stdout",
     "output_type": "stream",
     "text": [
      "Epoch 44/50, Loss: 0.036358, Supervised Loss: 0.036354, Unsupervised Loss: 0.018956\n",
      "Acc : 67.51802884615384\n",
      "\n",
      "Epoch: 45\n",
      "---------------------\n"
     ]
    },
    {
     "data": {
      "application/vnd.jupyter.widget-view+json": {
       "model_id": "76258247b0044beb81b6cbbe94229a0d",
       "version_major": 2,
       "version_minor": 0
      },
      "text/plain": [
       "0it [00:00, ?it/s]"
      ]
     },
     "metadata": {},
     "output_type": "display_data"
    },
    {
     "name": "stdout",
     "output_type": "stream",
     "text": [
      "Epoch 45/50, Loss: 0.035684, Supervised Loss: 0.035680, Unsupervised Loss: 0.018955\n",
      "Acc : 68.17908653846153\n",
      "\n",
      "Epoch: 46\n",
      "---------------------\n"
     ]
    },
    {
     "data": {
      "application/vnd.jupyter.widget-view+json": {
       "model_id": "e0fd149967334e228a41b143c6405754",
       "version_major": 2,
       "version_minor": 0
      },
      "text/plain": [
       "0it [00:00, ?it/s]"
      ]
     },
     "metadata": {},
     "output_type": "display_data"
    },
    {
     "name": "stdout",
     "output_type": "stream",
     "text": [
      "Epoch 46/50, Loss: 0.035076, Supervised Loss: 0.035072, Unsupervised Loss: 0.018963\n",
      "Acc : 68.95032051282051\n",
      "\n",
      "Epoch: 47\n",
      "---------------------\n"
     ]
    },
    {
     "data": {
      "application/vnd.jupyter.widget-view+json": {
       "model_id": "7c3d1e8dfdb8476b897873a43404df42",
       "version_major": 2,
       "version_minor": 0
      },
      "text/plain": [
       "0it [00:00, ?it/s]"
      ]
     },
     "metadata": {},
     "output_type": "display_data"
    },
    {
     "name": "stdout",
     "output_type": "stream",
     "text": [
      "Epoch 47/50, Loss: 0.034475, Supervised Loss: 0.034471, Unsupervised Loss: 0.018916\n",
      "Acc : 67.97876602564102\n",
      "\n",
      "Epoch: 48\n",
      "---------------------\n"
     ]
    },
    {
     "data": {
      "application/vnd.jupyter.widget-view+json": {
       "model_id": "976bd21d78d5404bb45207d2e800417d",
       "version_major": 2,
       "version_minor": 0
      },
      "text/plain": [
       "0it [00:00, ?it/s]"
      ]
     },
     "metadata": {},
     "output_type": "display_data"
    },
    {
     "name": "stdout",
     "output_type": "stream",
     "text": [
      "Epoch 48/50, Loss: 0.034165, Supervised Loss: 0.034161, Unsupervised Loss: 0.018924\n",
      "Acc : 69.42107371794872\n",
      "\n",
      "Epoch: 49\n",
      "---------------------\n"
     ]
    },
    {
     "data": {
      "application/vnd.jupyter.widget-view+json": {
       "model_id": "1f7bb6063838401890e937cbac53bafd",
       "version_major": 2,
       "version_minor": 0
      },
      "text/plain": [
       "0it [00:00, ?it/s]"
      ]
     },
     "metadata": {},
     "output_type": "display_data"
    },
    {
     "name": "stdout",
     "output_type": "stream",
     "text": [
      "Epoch 49/50, Loss: 0.034334, Supervised Loss: 0.034330, Unsupervised Loss: 0.018927\n",
      "Acc : 69.4911858974359\n",
      "\n",
      "Epoch: 50\n",
      "---------------------\n"
     ]
    },
    {
     "data": {
      "application/vnd.jupyter.widget-view+json": {
       "model_id": "b7a34ba264c340889d2db8b55354292a",
       "version_major": 2,
       "version_minor": 0
      },
      "text/plain": [
       "0it [00:00, ?it/s]"
      ]
     },
     "metadata": {},
     "output_type": "display_data"
    },
    {
     "name": "stdout",
     "output_type": "stream",
     "text": [
      "Epoch 50/50, Loss: 0.034173, Supervised Loss: 0.034169, Unsupervised Loss: 0.018897\n",
      "Acc : 68.95032051282051\n"
     ]
    }
   ],
   "source": [
    "def calc_metrics_pi(model, loader):\n",
    "    correct = 0\n",
    "    total = 0\n",
    "    for i, (samples, labels) in enumerate(loader):\n",
    "        labels = labels.requires_grad_(False)\n",
    "        _, outputs = model(samples)\n",
    "        _, predicted = torch.max(outputs.detach(), 1)\n",
    "        total += labels.size(0)\n",
    "        correct += (predicted == labels.detach().view_as(predicted)).sum()\n",
    "    acc = 100 * float(correct) / total\n",
    "    return acc\n",
    "\n",
    "losses = []\n",
    "suplosses = []\n",
    "unsuplosses = []\n",
    "accuracies = []\n",
    "best_loss = 30.0\n",
    "\n",
    "for epoch in range(num_epochs):\n",
    "    print(f'\\nEpoch: {epoch+1}')\n",
    "    model.train()\n",
    "    w = weight_scheduler(epoch, max_epochs, max_val, 5, k, 60000)\n",
    "    w = torch.tensor(w, requires_grad=False)\n",
    "\n",
    "    print('---------------------')\n",
    "    for i, (images, labels) in tqdm(enumerate(train_loader)):\n",
    "        batch_size = images.size(0)\n",
    "        labels = labels.requires_grad_(False)\n",
    "        optimizer.zero_grad()\n",
    "        outputs, outputs_2 = model(images)\n",
    "        loss, sup_loss, unsup_loss, nbsup = temporal_losses(outputs, outputs_2, w, labels)\n",
    "\n",
    "        losses.append(loss.item())\n",
    "        suplosses.append(sup_loss.item())\n",
    "        unsuplosses.append(unsup_loss.item())\n",
    "\n",
    "        loss.backward()\n",
    "        optimizer.step()\n",
    "\n",
    "    loss_mean = np.mean(losses)\n",
    "    supl_mean = np.mean(suplosses)\n",
    "    unsupl_mean = np.mean(unsuplosses)\n",
    "    print(f'Epoch {epoch+1}/{num_epochs}, Loss: {loss_mean:.6f}, Supervised Loss: {supl_mean:.6f}, Unsupervised Loss: {unsupl_mean:.6f}')\n",
    "    if loss_mean < best_loss:\n",
    "        best_loss = loss_mean\n",
    "        torch.save({'state_dict': model.state_dict()}, 'model_best_pi.pth')\n",
    "\n",
    "    model.eval()\n",
    "    acc = calc_metrics_pi(model, test_loader)\n",
    "    accuracies.append(acc)\n",
    "    print(f'Acc : {acc}')"
   ]
  },
  {
   "cell_type": "markdown",
   "metadata": {},
   "source": [
    "`model.device` 를 따로 할당하지 않고 일반 cpu 에서 학습 한 결과 약 40분이 걸렸으며, 최종적인 Test Accuracy 는 약 68.95 였다."
   ]
  },
  {
   "cell_type": "code",
   "execution_count": 54,
   "metadata": {},
   "outputs": [
    {
     "data": {
      "image/png": "[encoded data removed]",
      "text/plain": [
       "<Figure size 700x500 with 1 Axes>"
      ]
     },
     "metadata": {},
     "output_type": "display_data"
    }
   ],
   "source": [
    "plt.figure(figsize=(7, 5))\n",
    "plt.plot(accuracies)\n",
    "plt.xlabel('Epoch')\n",
    "plt.ylabel('Accuracy')\n",
    "plt.title('Accuracy vs Epoch');"
   ]
  },
  {
   "cell_type": "markdown",
   "metadata": {},
   "source": [
    "#### Limitations of the Pi-Model"
   ]
  },
  {
   "cell_type": "code",
   "execution_count": 70,
   "metadata": {},
   "outputs": [
    {
     "data": {
      "image/png": "[encoded data removed]",
      "text/plain": [
       "<Figure size 2000x500 with 1 Axes>"
      ]
     },
     "metadata": {},
     "output_type": "display_data"
    }
   ],
   "source": [
    "plt.figure(figsize=(20, 5))\n",
    "plt.plot(unsuplosses, linewidth=0.3)\n",
    "plt.xlabel('Epoch')\n",
    "plt.ylabel('Unsupervised Loss')\n",
    "plt.title('Unsupervised Loss vs Epoch');"
   ]
  },
  {
   "cell_type": "markdown",
   "metadata": {},
   "source": [
    "Unsupervised loss 는 모델의 두 output $(z_i, \\tilde{z_i})$ 에 대해 계산된다. 하지만 해당 output 은 단 한번의 evaluation 을 통해 생성되기 때문에 (초기엔 더더욱) noisy 하다는 단점이 있다. 그렇기에 Pi-Model 의 저자들이 동 논문에서 단점들을 보완한 Temporal Ensembling 을 제안한다."
   ]
  },
  {
   "cell_type": "markdown",
   "metadata": {},
   "source": [
    "### Temporal Ensembling"
   ]
  },
  {
   "cell_type": "markdown",
   "metadata": {},
   "source": [
    "<p align=\"center\">\n",
    "    <img src=\"semi_supervised_images/tempensarchitecture.png\" width=\"400\"/>\n",
    "</p>\n",
    "\n",
    "\n",
    "Temporal Ensembling 과 Pi-Model 의 차이점은 unsupervised loss 를 계산하는 방법에서 확인 할 수 있다. Pi-Model 은 하나의 샘플에 대해 두번의 perturbation 을 주어 두개의 output $(z_i, \\tilde{z_i})$ 사이의 loss 를 계산하지만, **Temporal Ensembling 은 해당 단계의 output $z_i$ 를 이전 단계들에서 구한 $z_i$ 의 가중합 사이의 loss 를 계산한다.**\n",
    "\n",
    "즉, 특정 단계에서 MSE 를 구할 땐 해당 단계에서의 output $z_i$ 와, 이전 단계들에서 누적된 $Z$ 사이의 차이를 계산한다.\n",
    "\n",
    "이때, $Z$ 는 $Z \\leftarrow \\alpha Z + (1-\\alpha)z$ 로 누적되며, $\\alpha$ 는 momentum term 으로, 본 논문에선 $\\alpha=0.6$ 으로 설정된다.\n",
    "\n",
    "<p align=\"center\">\n",
    "    <img src=\"semi_supervised_images/tempensalg.png\" width=\"400\"/>\n",
    "</p>\n"
   ]
  },
  {
   "cell_type": "markdown",
   "metadata": {},
   "source": [
    "#### Temporal Ensembling: Code Implementation"
   ]
  },
  {
   "cell_type": "markdown",
   "metadata": {},
   "source": [
    "Pi-Model 과의 성능 비교를 위해 Pi-Model 을 학습하는데 사용한 FashionMNIST 데이터로더를 사용하였다."
   ]
  },
  {
   "cell_type": "code",
   "execution_count": 71,
   "metadata": {},
   "outputs": [],
   "source": [
    "class CNN_Temporal(nn.Module):\n",
    "    def __init__(self, batch_size, std, input_shape=(1, 28, 28), p=0.5, fm1=16, fm2=32):\n",
    "        super(CNN_Temporal, self).__init__()\n",
    "        self.std = std\n",
    "        self.p = p\n",
    "        self.fm1 = fm1\n",
    "        self.fm2 = fm2\n",
    "        self.input_shape = input_shape\n",
    "        self.conv_block1 = nn.Sequential(nn.Conv2d(1, self.fm1, 3, stride=1, padding=1),\n",
    "                                        nn.BatchNorm2d(self.fm1), \n",
    "                                        nn.ReLU(),\n",
    "                                        nn.MaxPool2d(3, stride=2, padding=1)\n",
    "                                      )\n",
    "        \n",
    "        self.conv_block2 = nn.Sequential(nn.Conv2d(self.fm1, self.fm2, 3, stride=1, padding=1),\n",
    "                                        nn.BatchNorm2d(self.fm2), \n",
    "                                        nn.ReLU(),\n",
    "                                        nn.MaxPool2d(3, stride=2, padding=1)\n",
    "                                      )\n",
    "        self.drop = nn.Dropout(self.p)\n",
    "        self.fc = nn.Linear(self.fm2 * 7 * 7, 10)\n",
    "\n",
    "    def forward(self, x):\n",
    "        if self.training:\n",
    "            b = x.size(0)\n",
    "            gn = GaussianNoise(b, self.input_shape, self.std)\n",
    "            x = gn(x)\n",
    "\n",
    "        x = self.conv_block1(x)\n",
    "        x = self.conv_block2(x)\n",
    "        x = x.view(-1, self.fm2 * 7 * 7)\n",
    "        x = self.fc(self.drop(x))\n",
    "        return x"
   ]
  },
  {
   "cell_type": "markdown",
   "metadata": {},
   "source": [
    "모델 구조는 Pi-Model 과 크게 다르진 않지만, 두개의 output 이 필요 없다는 점에서 단 하나의 output 에 perturbation 을 가해준 뒤, 동일한 구조에 데이터를 통과시켜 순전파를 거친다."
   ]
  },
  {
   "cell_type": "code",
   "execution_count": 72,
   "metadata": {},
   "outputs": [
    {
     "name": "stdout",
     "output_type": "stream",
     "text": [
      "\n",
      "Epoch: 1\n",
      "---------------------\n"
     ]
    },
    {
     "data": {
      "application/vnd.jupyter.widget-view+json": {
       "model_id": "c19079456eb64b96b03653096325cdc7",
       "version_major": 2,
       "version_minor": 0
      },
      "text/plain": [
       "0it [00:00, ?it/s]"
      ]
     },
     "metadata": {},
     "output_type": "display_data"
    },
    {
     "name": "stdout",
     "output_type": "stream",
     "text": [
      "Epoch 1/50, Loss: 0.532475, Supervised Loss: 0.534732, Unsupervised Loss: 0.058099\n",
      "Acc : 51.432291666666664\n",
      "\n",
      "Epoch: 2\n",
      "---------------------\n"
     ]
    },
    {
     "data": {
      "application/vnd.jupyter.widget-view+json": {
       "model_id": "a2e9d8c9eaa142a39dd4019320eaa48d",
       "version_major": 2,
       "version_minor": 0
      },
      "text/plain": [
       "0it [00:00, ?it/s]"
      ]
     },
     "metadata": {},
     "output_type": "display_data"
    },
    {
     "name": "stdout",
     "output_type": "stream",
     "text": [
      "Epoch 2/50, Loss: 0.392608, Supervised Loss: 0.393787, Unsupervised Loss: 0.055671\n",
      "Acc : 52.49399038461539\n",
      "\n",
      "Epoch: 3\n",
      "---------------------\n"
     ]
    },
    {
     "data": {
      "application/vnd.jupyter.widget-view+json": {
       "model_id": "343170f76f3e47e9931c7097d4ecd8d8",
       "version_major": 2,
       "version_minor": 0
      },
      "text/plain": [
       "0it [00:00, ?it/s]"
      ]
     },
     "metadata": {},
     "output_type": "display_data"
    },
    {
     "name": "stdout",
     "output_type": "stream",
     "text": [
      "Epoch 3/50, Loss: 0.319754, Supervised Loss: 0.320553, Unsupervised Loss: 0.048168\n",
      "Acc : 59.60536858974359\n",
      "\n",
      "Epoch: 4\n",
      "---------------------\n"
     ]
    },
    {
     "data": {
      "application/vnd.jupyter.widget-view+json": {
       "model_id": "c372f9dceec8434fa89cd837726bd625",
       "version_major": 2,
       "version_minor": 0
      },
      "text/plain": [
       "0it [00:00, ?it/s]"
      ]
     },
     "metadata": {},
     "output_type": "display_data"
    },
    {
     "name": "stdout",
     "output_type": "stream",
     "text": [
      "Epoch 4/50, Loss: 0.272051, Supervised Loss: 0.272690, Unsupervised Loss: 0.042733\n",
      "Acc : 59.75560897435897\n",
      "\n",
      "Epoch: 5\n",
      "---------------------\n"
     ]
    },
    {
     "data": {
      "application/vnd.jupyter.widget-view+json": {
       "model_id": "faf6ab9d9f524f83935c94f911580480",
       "version_major": 2,
       "version_minor": 0
      },
      "text/plain": [
       "0it [00:00, ?it/s]"
      ]
     },
     "metadata": {},
     "output_type": "display_data"
    },
    {
     "name": "stdout",
     "output_type": "stream",
     "text": [
      "Epoch 5/50, Loss: 0.235627, Supervised Loss: 0.236200, Unsupervised Loss: 0.038613\n",
      "Acc : 63.3213141025641\n",
      "\n",
      "Epoch: 6\n",
      "---------------------\n"
     ]
    },
    {
     "data": {
      "application/vnd.jupyter.widget-view+json": {
       "model_id": "7daf3543f7c64303b8be7be9d6dee530",
       "version_major": 2,
       "version_minor": 0
      },
      "text/plain": [
       "0it [00:00, ?it/s]"
      ]
     },
     "metadata": {},
     "output_type": "display_data"
    },
    {
     "name": "stdout",
     "output_type": "stream",
     "text": [
      "Epoch 6/50, Loss: 0.207151, Supervised Loss: 0.207635, Unsupervised Loss: 0.035305\n",
      "Acc : 64.09254807692308\n",
      "\n",
      "Epoch: 7\n",
      "---------------------\n"
     ]
    },
    {
     "data": {
      "application/vnd.jupyter.widget-view+json": {
       "model_id": "ae5a25b04efa49819b9b1f925511c705",
       "version_major": 2,
       "version_minor": 0
      },
      "text/plain": [
       "0it [00:00, ?it/s]"
      ]
     },
     "metadata": {},
     "output_type": "display_data"
    },
    {
     "name": "stdout",
     "output_type": "stream",
     "text": [
      "Epoch 7/50, Loss: 0.187701, Supervised Loss: 0.188116, Unsupervised Loss: 0.033361\n",
      "Acc : 59.485176282051285\n",
      "\n",
      "Epoch: 8\n",
      "---------------------\n"
     ]
    },
    {
     "data": {
      "application/vnd.jupyter.widget-view+json": {
       "model_id": "d66f38e6d1404b0e8596aca741a927b9",
       "version_major": 2,
       "version_minor": 0
      },
      "text/plain": [
       "0it [00:00, ?it/s]"
      ]
     },
     "metadata": {},
     "output_type": "display_data"
    },
    {
     "name": "stdout",
     "output_type": "stream",
     "text": [
      "Epoch 8/50, Loss: 0.170388, Supervised Loss: 0.170752, Unsupervised Loss: 0.032042\n",
      "Acc : 66.66666666666667\n",
      "\n",
      "Epoch: 9\n",
      "---------------------\n"
     ]
    },
    {
     "data": {
      "application/vnd.jupyter.widget-view+json": {
       "model_id": "9b66170162b4414bb18f3d12026a323e",
       "version_major": 2,
       "version_minor": 0
      },
      "text/plain": [
       "0it [00:00, ?it/s]"
      ]
     },
     "metadata": {},
     "output_type": "display_data"
    },
    {
     "name": "stdout",
     "output_type": "stream",
     "text": [
      "Epoch 9/50, Loss: 0.157087, Supervised Loss: 0.157470, Unsupervised Loss: 0.030693\n",
      "Acc : 64.66346153846153\n",
      "\n",
      "Epoch: 10\n",
      "---------------------\n"
     ]
    },
    {
     "data": {
      "application/vnd.jupyter.widget-view+json": {
       "model_id": "342181cd8b0a4b30896709122614c751",
       "version_major": 2,
       "version_minor": 0
      },
      "text/plain": [
       "0it [00:00, ?it/s]"
      ]
     },
     "metadata": {},
     "output_type": "display_data"
    },
    {
     "name": "stdout",
     "output_type": "stream",
     "text": [
      "Epoch 10/50, Loss: 0.146792, Supervised Loss: 0.147138, Unsupervised Loss: 0.029294\n",
      "Acc : 65.22435897435898\n",
      "\n",
      "Epoch: 11\n",
      "---------------------\n"
     ]
    },
    {
     "data": {
      "application/vnd.jupyter.widget-view+json": {
       "model_id": "523ec27e2bbe4af5ab9468ce39793bae",
       "version_major": 2,
       "version_minor": 0
      },
      "text/plain": [
       "0it [00:00, ?it/s]"
      ]
     },
     "metadata": {},
     "output_type": "display_data"
    },
    {
     "name": "stdout",
     "output_type": "stream",
     "text": [
      "Epoch 11/50, Loss: 0.136083, Supervised Loss: 0.136398, Unsupervised Loss: 0.028435\n",
      "Acc : 65.69511217948718\n",
      "\n",
      "Epoch: 12\n",
      "---------------------\n"
     ]
    },
    {
     "data": {
      "application/vnd.jupyter.widget-view+json": {
       "model_id": "57042bc464a242c88de9a307506a075a",
       "version_major": 2,
       "version_minor": 0
      },
      "text/plain": [
       "0it [00:00, ?it/s]"
      ]
     },
     "metadata": {},
     "output_type": "display_data"
    },
    {
     "name": "stdout",
     "output_type": "stream",
     "text": [
      "Epoch 12/50, Loss: 0.127577, Supervised Loss: 0.127865, Unsupervised Loss: 0.027735\n",
      "Acc : 64.62339743589743\n",
      "\n",
      "Epoch: 13\n",
      "---------------------\n"
     ]
    },
    {
     "data": {
      "application/vnd.jupyter.widget-view+json": {
       "model_id": "f7e49568e44644ad8546e13662bf0a4a",
       "version_major": 2,
       "version_minor": 0
      },
      "text/plain": [
       "0it [00:00, ?it/s]"
      ]
     },
     "metadata": {},
     "output_type": "display_data"
    },
    {
     "name": "stdout",
     "output_type": "stream",
     "text": [
      "Epoch 13/50, Loss: 0.119966, Supervised Loss: 0.120278, Unsupervised Loss: 0.027142\n",
      "Acc : 67.3076923076923\n",
      "\n",
      "Epoch: 14\n",
      "---------------------\n"
     ]
    },
    {
     "data": {
      "application/vnd.jupyter.widget-view+json": {
       "model_id": "b04f08c7347c465ba56e64b61b264435",
       "version_major": 2,
       "version_minor": 0
      },
      "text/plain": [
       "0it [00:00, ?it/s]"
      ]
     },
     "metadata": {},
     "output_type": "display_data"
    },
    {
     "name": "stdout",
     "output_type": "stream",
     "text": [
      "Epoch 14/50, Loss: 0.113181, Supervised Loss: 0.113470, Unsupervised Loss: 0.026770\n",
      "Acc : 66.96714743589743\n",
      "\n",
      "Epoch: 15\n",
      "---------------------\n"
     ]
    },
    {
     "data": {
      "application/vnd.jupyter.widget-view+json": {
       "model_id": "2077d65d248b4e9bb29d2e86d044b201",
       "version_major": 2,
       "version_minor": 0
      },
      "text/plain": [
       "0it [00:00, ?it/s]"
      ]
     },
     "metadata": {},
     "output_type": "display_data"
    },
    {
     "name": "stdout",
     "output_type": "stream",
     "text": [
      "Epoch 15/50, Loss: 0.106382, Supervised Loss: 0.106652, Unsupervised Loss: 0.026235\n",
      "Acc : 69.82171474358974\n",
      "\n",
      "Epoch: 16\n",
      "---------------------\n"
     ]
    },
    {
     "data": {
      "application/vnd.jupyter.widget-view+json": {
       "model_id": "0582604098a24f5a82d052a085a76429",
       "version_major": 2,
       "version_minor": 0
      },
      "text/plain": [
       "0it [00:00, ?it/s]"
      ]
     },
     "metadata": {},
     "output_type": "display_data"
    },
    {
     "name": "stdout",
     "output_type": "stream",
     "text": [
      "Epoch 16/50, Loss: 0.101620, Supervised Loss: 0.101873, Unsupervised Loss: 0.025850\n",
      "Acc : 70.38261217948718\n",
      "\n",
      "Epoch: 17\n",
      "---------------------\n"
     ]
    },
    {
     "data": {
      "application/vnd.jupyter.widget-view+json": {
       "model_id": "8f3172bb6afc4158bc383d611baba207",
       "version_major": 2,
       "version_minor": 0
      },
      "text/plain": [
       "0it [00:00, ?it/s]"
      ]
     },
     "metadata": {},
     "output_type": "display_data"
    },
    {
     "name": "stdout",
     "output_type": "stream",
     "text": [
      "Epoch 17/50, Loss: 0.096616, Supervised Loss: 0.096855, Unsupervised Loss: 0.025603\n",
      "Acc : 68.37940705128206\n",
      "\n",
      "Epoch: 18\n",
      "---------------------\n"
     ]
    },
    {
     "data": {
      "application/vnd.jupyter.widget-view+json": {
       "model_id": "543790a7692f41b2820e6df5a614d285",
       "version_major": 2,
       "version_minor": 0
      },
      "text/plain": [
       "0it [00:00, ?it/s]"
      ]
     },
     "metadata": {},
     "output_type": "display_data"
    },
    {
     "name": "stdout",
     "output_type": "stream",
     "text": [
      "Epoch 18/50, Loss: 0.092417, Supervised Loss: 0.092642, Unsupervised Loss: 0.025347\n",
      "Acc : 68.11899038461539\n",
      "\n",
      "Epoch: 19\n",
      "---------------------\n"
     ]
    },
    {
     "data": {
      "application/vnd.jupyter.widget-view+json": {
       "model_id": "b90ac79696bc419182cae522265443a3",
       "version_major": 2,
       "version_minor": 0
      },
      "text/plain": [
       "0it [00:00, ?it/s]"
      ]
     },
     "metadata": {},
     "output_type": "display_data"
    },
    {
     "name": "stdout",
     "output_type": "stream",
     "text": [
      "Epoch 19/50, Loss: 0.087667, Supervised Loss: 0.087880, Unsupervised Loss: 0.025118\n",
      "Acc : 67.29767628205128\n",
      "\n",
      "Epoch: 20\n",
      "---------------------\n"
     ]
    },
    {
     "data": {
      "application/vnd.jupyter.widget-view+json": {
       "model_id": "72f9aa0156ec41a189e3fb204ee12024",
       "version_major": 2,
       "version_minor": 0
      },
      "text/plain": [
       "0it [00:00, ?it/s]"
      ]
     },
     "metadata": {},
     "output_type": "display_data"
    },
    {
     "name": "stdout",
     "output_type": "stream",
     "text": [
      "Epoch 20/50, Loss: 0.083787, Supervised Loss: 0.083989, Unsupervised Loss: 0.024905\n",
      "Acc : 65.59495192307692\n",
      "\n",
      "Epoch: 21\n",
      "---------------------\n"
     ]
    },
    {
     "data": {
      "application/vnd.jupyter.widget-view+json": {
       "model_id": "ae0402a78c7d4e798a23aaf91238150d",
       "version_major": 2,
       "version_minor": 0
      },
      "text/plain": [
       "0it [00:00, ?it/s]"
      ]
     },
     "metadata": {},
     "output_type": "display_data"
    },
    {
     "name": "stdout",
     "output_type": "stream",
     "text": [
      "Epoch 21/50, Loss: 0.080846, Supervised Loss: 0.081038, Unsupervised Loss: 0.024868\n",
      "Acc : 68.26923076923077\n",
      "\n",
      "Epoch: 22\n",
      "---------------------\n"
     ]
    },
    {
     "data": {
      "application/vnd.jupyter.widget-view+json": {
       "model_id": "28320f8b88e44cc898c888d6f5fe322c",
       "version_major": 2,
       "version_minor": 0
      },
      "text/plain": [
       "0it [00:00, ?it/s]"
      ]
     },
     "metadata": {},
     "output_type": "display_data"
    },
    {
     "name": "stdout",
     "output_type": "stream",
     "text": [
      "Epoch 22/50, Loss: 0.078186, Supervised Loss: 0.078370, Unsupervised Loss: 0.024968\n",
      "Acc : 67.89863782051282\n",
      "\n",
      "Epoch: 23\n",
      "---------------------\n"
     ]
    },
    {
     "data": {
      "application/vnd.jupyter.widget-view+json": {
       "model_id": "70446736449f4b0485cc58f1ce2ae98e",
       "version_major": 2,
       "version_minor": 0
      },
      "text/plain": [
       "0it [00:00, ?it/s]"
      ]
     },
     "metadata": {},
     "output_type": "display_data"
    },
    {
     "name": "stdout",
     "output_type": "stream",
     "text": [
      "Epoch 23/50, Loss: 0.075332, Supervised Loss: 0.075600, Unsupervised Loss: 0.024834\n",
      "Acc : 69.86177884615384\n",
      "\n",
      "Epoch: 24\n",
      "---------------------\n"
     ]
    },
    {
     "data": {
      "application/vnd.jupyter.widget-view+json": {
       "model_id": "cc95bd426b394d9d9b28310c5ee30bbc",
       "version_major": 2,
       "version_minor": 0
      },
      "text/plain": [
       "0it [00:00, ?it/s]"
      ]
     },
     "metadata": {},
     "output_type": "display_data"
    },
    {
     "name": "stdout",
     "output_type": "stream",
     "text": [
      "Epoch 24/50, Loss: 0.072690, Supervised Loss: 0.072946, Unsupervised Loss: 0.024677\n",
      "Acc : 66.49639423076923\n",
      "\n",
      "Epoch: 25\n",
      "---------------------\n"
     ]
    },
    {
     "data": {
      "application/vnd.jupyter.widget-view+json": {
       "model_id": "7ca1ac20bad94c64a2a67f7984c8b7fd",
       "version_major": 2,
       "version_minor": 0
      },
      "text/plain": [
       "0it [00:00, ?it/s]"
      ]
     },
     "metadata": {},
     "output_type": "display_data"
    },
    {
     "name": "stdout",
     "output_type": "stream",
     "text": [
      "Epoch 25/50, Loss: 0.070138, Supervised Loss: 0.070384, Unsupervised Loss: 0.024507\n",
      "Acc : 67.66826923076923\n",
      "\n",
      "Epoch: 26\n",
      "---------------------\n"
     ]
    },
    {
     "data": {
      "application/vnd.jupyter.widget-view+json": {
       "model_id": "b23b0cc999934eecb46d2ed327f5bbfb",
       "version_major": 2,
       "version_minor": 0
      },
      "text/plain": [
       "0it [00:00, ?it/s]"
      ]
     },
     "metadata": {},
     "output_type": "display_data"
    },
    {
     "name": "stdout",
     "output_type": "stream",
     "text": [
      "Epoch 26/50, Loss: 0.069347, Supervised Loss: 0.069583, Unsupervised Loss: 0.024451\n",
      "Acc : 69.32091346153847\n",
      "\n",
      "Epoch: 27\n",
      "---------------------\n"
     ]
    },
    {
     "data": {
      "application/vnd.jupyter.widget-view+json": {
       "model_id": "726e8a0ae13d4385b9ce98f310ce4c32",
       "version_major": 2,
       "version_minor": 0
      },
      "text/plain": [
       "0it [00:00, ?it/s]"
      ]
     },
     "metadata": {},
     "output_type": "display_data"
    },
    {
     "name": "stdout",
     "output_type": "stream",
     "text": [
      "Epoch 27/50, Loss: 0.067067, Supervised Loss: 0.067295, Unsupervised Loss: 0.024465\n",
      "Acc : 67.0673076923077\n",
      "\n",
      "Epoch: 28\n",
      "---------------------\n"
     ]
    },
    {
     "data": {
      "application/vnd.jupyter.widget-view+json": {
       "model_id": "98645247c0044edda988b9c4acfbc49e",
       "version_major": 2,
       "version_minor": 0
      },
      "text/plain": [
       "0it [00:00, ?it/s]"
      ]
     },
     "metadata": {},
     "output_type": "display_data"
    },
    {
     "name": "stdout",
     "output_type": "stream",
     "text": [
      "Epoch 28/50, Loss: 0.065151, Supervised Loss: 0.065370, Unsupervised Loss: 0.024413\n",
      "Acc : 70.3926282051282\n",
      "\n",
      "Epoch: 29\n",
      "---------------------\n"
     ]
    },
    {
     "data": {
      "application/vnd.jupyter.widget-view+json": {
       "model_id": "09730856d26e43c987cb3dfdce62de4f",
       "version_major": 2,
       "version_minor": 0
      },
      "text/plain": [
       "0it [00:00, ?it/s]"
      ]
     },
     "metadata": {},
     "output_type": "display_data"
    },
    {
     "name": "stdout",
     "output_type": "stream",
     "text": [
      "Epoch 29/50, Loss: 0.063431, Supervised Loss: 0.063643, Unsupervised Loss: 0.024322\n",
      "Acc : 67.04727564102564\n",
      "\n",
      "Epoch: 30\n",
      "---------------------\n"
     ]
    },
    {
     "data": {
      "application/vnd.jupyter.widget-view+json": {
       "model_id": "5211ef696fac454c91aac4f1a6fb8751",
       "version_major": 2,
       "version_minor": 0
      },
      "text/plain": [
       "0it [00:00, ?it/s]"
      ]
     },
     "metadata": {},
     "output_type": "display_data"
    },
    {
     "name": "stdout",
     "output_type": "stream",
     "text": [
      "Epoch 30/50, Loss: 0.062168, Supervised Loss: 0.062373, Unsupervised Loss: 0.024244\n",
      "Acc : 69.77163461538461\n",
      "\n",
      "Epoch: 31\n",
      "---------------------\n"
     ]
    },
    {
     "data": {
      "application/vnd.jupyter.widget-view+json": {
       "model_id": "ceec0804a6374bd4be43536c1ba48a8c",
       "version_major": 2,
       "version_minor": 0
      },
      "text/plain": [
       "0it [00:00, ?it/s]"
      ]
     },
     "metadata": {},
     "output_type": "display_data"
    },
    {
     "name": "stdout",
     "output_type": "stream",
     "text": [
      "Epoch 31/50, Loss: 0.060468, Supervised Loss: 0.060666, Unsupervised Loss: 0.024157\n",
      "Acc : 68.21915064102564\n",
      "\n",
      "Epoch: 32\n",
      "---------------------\n"
     ]
    },
    {
     "data": {
      "application/vnd.jupyter.widget-view+json": {
       "model_id": "4d8ff3564ed145c58599fe1d39fe4bd0",
       "version_major": 2,
       "version_minor": 0
      },
      "text/plain": [
       "0it [00:00, ?it/s]"
      ]
     },
     "metadata": {},
     "output_type": "display_data"
    },
    {
     "name": "stdout",
     "output_type": "stream",
     "text": [
      "Epoch 32/50, Loss: 0.058675, Supervised Loss: 0.058866, Unsupervised Loss: 0.024028\n",
      "Acc : 67.0673076923077\n",
      "\n",
      "Epoch: 33\n",
      "---------------------\n"
     ]
    },
    {
     "data": {
      "application/vnd.jupyter.widget-view+json": {
       "model_id": "6d6ae7ce81bb48358f30ae612e2a2a7e",
       "version_major": 2,
       "version_minor": 0
      },
      "text/plain": [
       "0it [00:00, ?it/s]"
      ]
     },
     "metadata": {},
     "output_type": "display_data"
    },
    {
     "name": "stdout",
     "output_type": "stream",
     "text": [
      "Epoch 33/50, Loss: 0.057151, Supervised Loss: 0.057336, Unsupervised Loss: 0.023904\n",
      "Acc : 68.37940705128206\n",
      "\n",
      "Epoch: 34\n",
      "---------------------\n"
     ]
    },
    {
     "data": {
      "application/vnd.jupyter.widget-view+json": {
       "model_id": "0a1df071ba2f4c69af0876f7e08359b5",
       "version_major": 2,
       "version_minor": 0
      },
      "text/plain": [
       "0it [00:00, ?it/s]"
      ]
     },
     "metadata": {},
     "output_type": "display_data"
    },
    {
     "name": "stdout",
     "output_type": "stream",
     "text": [
      "Epoch 34/50, Loss: 0.055489, Supervised Loss: 0.055669, Unsupervised Loss: 0.023772\n",
      "Acc : 70.13221153846153\n",
      "\n",
      "Epoch: 35\n",
      "---------------------\n"
     ]
    },
    {
     "data": {
      "application/vnd.jupyter.widget-view+json": {
       "model_id": "e59d557228864d0b93576337dcc0983c",
       "version_major": 2,
       "version_minor": 0
      },
      "text/plain": [
       "0it [00:00, ?it/s]"
      ]
     },
     "metadata": {},
     "output_type": "display_data"
    },
    {
     "name": "stdout",
     "output_type": "stream",
     "text": [
      "Epoch 35/50, Loss: 0.053999, Supervised Loss: 0.054173, Unsupervised Loss: 0.023722\n",
      "Acc : 69.94190705128206\n",
      "\n",
      "Epoch: 36\n",
      "---------------------\n"
     ]
    },
    {
     "data": {
      "application/vnd.jupyter.widget-view+json": {
       "model_id": "306b401e71514eda9286bf6316b6ddf8",
       "version_major": 2,
       "version_minor": 0
      },
      "text/plain": [
       "0it [00:00, ?it/s]"
      ]
     },
     "metadata": {},
     "output_type": "display_data"
    },
    {
     "name": "stdout",
     "output_type": "stream",
     "text": [
      "Epoch 36/50, Loss: 0.052809, Supervised Loss: 0.052978, Unsupervised Loss: 0.023670\n",
      "Acc : 68.48958333333333\n",
      "\n",
      "Epoch: 37\n",
      "---------------------\n"
     ]
    },
    {
     "data": {
      "application/vnd.jupyter.widget-view+json": {
       "model_id": "fe231aba5ec34aad8adf8c46003b59b3",
       "version_major": 2,
       "version_minor": 0
      },
      "text/plain": [
       "0it [00:00, ?it/s]"
      ]
     },
     "metadata": {},
     "output_type": "display_data"
    },
    {
     "name": "stdout",
     "output_type": "stream",
     "text": [
      "Epoch 37/50, Loss: 0.051528, Supervised Loss: 0.051692, Unsupervised Loss: 0.023582\n",
      "Acc : 69.75160256410257\n",
      "\n",
      "Epoch: 38\n",
      "---------------------\n"
     ]
    },
    {
     "data": {
      "application/vnd.jupyter.widget-view+json": {
       "model_id": "e2253843c4a54ccb910dc09b526e7ff5",
       "version_major": 2,
       "version_minor": 0
      },
      "text/plain": [
       "0it [00:00, ?it/s]"
      ]
     },
     "metadata": {},
     "output_type": "display_data"
    },
    {
     "name": "stdout",
     "output_type": "stream",
     "text": [
      "Epoch 38/50, Loss: 0.050207, Supervised Loss: 0.050367, Unsupervised Loss: 0.023546\n",
      "Acc : 70.77323717948718\n",
      "\n",
      "Epoch: 39\n",
      "---------------------\n"
     ]
    },
    {
     "data": {
      "application/vnd.jupyter.widget-view+json": {
       "model_id": "e5cbcafbf06b493baebc6f66000eb807",
       "version_major": 2,
       "version_minor": 0
      },
      "text/plain": [
       "0it [00:00, ?it/s]"
      ]
     },
     "metadata": {},
     "output_type": "display_data"
    },
    {
     "name": "stdout",
     "output_type": "stream",
     "text": [
      "Epoch 39/50, Loss: 0.049321, Supervised Loss: 0.049476, Unsupervised Loss: 0.023497\n",
      "Acc : 70.92347756410257\n",
      "\n",
      "Epoch: 40\n",
      "---------------------\n"
     ]
    },
    {
     "data": {
      "application/vnd.jupyter.widget-view+json": {
       "model_id": "ad42b38e1ffa42c0882f2b30bf414193",
       "version_major": 2,
       "version_minor": 0
      },
      "text/plain": [
       "0it [00:00, ?it/s]"
      ]
     },
     "metadata": {},
     "output_type": "display_data"
    },
    {
     "name": "stdout",
     "output_type": "stream",
     "text": [
      "Epoch 40/50, Loss: 0.048092, Supervised Loss: 0.048244, Unsupervised Loss: 0.023374\n",
      "Acc : 70.89342948717949\n",
      "\n",
      "Epoch: 41\n",
      "---------------------\n"
     ]
    },
    {
     "data": {
      "application/vnd.jupyter.widget-view+json": {
       "model_id": "6ece0e78ef874c6b8c2bc4295347a2ba",
       "version_major": 2,
       "version_minor": 0
      },
      "text/plain": [
       "0it [00:00, ?it/s]"
      ]
     },
     "metadata": {},
     "output_type": "display_data"
    },
    {
     "name": "stdout",
     "output_type": "stream",
     "text": [
      "Epoch 41/50, Loss: 0.047595, Supervised Loss: 0.047743, Unsupervised Loss: 0.023246\n",
      "Acc : 70.1923076923077\n",
      "\n",
      "Epoch: 42\n",
      "---------------------\n"
     ]
    },
    {
     "data": {
      "application/vnd.jupyter.widget-view+json": {
       "model_id": "3f014f21f7be4f6584e4b69ec15d5fce",
       "version_major": 2,
       "version_minor": 0
      },
      "text/plain": [
       "0it [00:00, ?it/s]"
      ]
     },
     "metadata": {},
     "output_type": "display_data"
    },
    {
     "name": "stdout",
     "output_type": "stream",
     "text": [
      "Epoch 42/50, Loss: 0.046885, Supervised Loss: 0.047029, Unsupervised Loss: 0.023146\n",
      "Acc : 69.63141025641026\n",
      "\n",
      "Epoch: 43\n",
      "---------------------\n"
     ]
    },
    {
     "data": {
      "application/vnd.jupyter.widget-view+json": {
       "model_id": "557c35811c4e446ea12a3b1b846bae33",
       "version_major": 2,
       "version_minor": 0
      },
      "text/plain": [
       "0it [00:00, ?it/s]"
      ]
     },
     "metadata": {},
     "output_type": "display_data"
    },
    {
     "name": "stdout",
     "output_type": "stream",
     "text": [
      "Epoch 43/50, Loss: 0.045882, Supervised Loss: 0.046022, Unsupervised Loss: 0.023059\n",
      "Acc : 69.68149038461539\n",
      "\n",
      "Epoch: 44\n",
      "---------------------\n"
     ]
    },
    {
     "data": {
      "application/vnd.jupyter.widget-view+json": {
       "model_id": "c23b11c4e98f478fbe68a1fb2ddaac0d",
       "version_major": 2,
       "version_minor": 0
      },
      "text/plain": [
       "0it [00:00, ?it/s]"
      ]
     },
     "metadata": {},
     "output_type": "display_data"
    },
    {
     "name": "stdout",
     "output_type": "stream",
     "text": [
      "Epoch 44/50, Loss: 0.045327, Supervised Loss: 0.045463, Unsupervised Loss: 0.022934\n",
      "Acc : 70.41266025641026\n",
      "\n",
      "Epoch: 45\n",
      "---------------------\n"
     ]
    },
    {
     "data": {
      "application/vnd.jupyter.widget-view+json": {
       "model_id": "6d55cf5590ed4762a288e9d0c7f3a9ae",
       "version_major": 2,
       "version_minor": 0
      },
      "text/plain": [
       "0it [00:00, ?it/s]"
      ]
     },
     "metadata": {},
     "output_type": "display_data"
    },
    {
     "name": "stdout",
     "output_type": "stream",
     "text": [
      "Epoch 45/50, Loss: 0.044507, Supervised Loss: 0.044641, Unsupervised Loss: 0.022854\n",
      "Acc : 68.68990384615384\n",
      "\n",
      "Epoch: 46\n",
      "---------------------\n"
     ]
    },
    {
     "data": {
      "application/vnd.jupyter.widget-view+json": {
       "model_id": "c665ee5d82204981bdcac18055da484b",
       "version_major": 2,
       "version_minor": 0
      },
      "text/plain": [
       "0it [00:00, ?it/s]"
      ]
     },
     "metadata": {},
     "output_type": "display_data"
    },
    {
     "name": "stdout",
     "output_type": "stream",
     "text": [
      "Epoch 46/50, Loss: 0.043618, Supervised Loss: 0.043749, Unsupervised Loss: 0.022820\n",
      "Acc : 70.28245192307692\n",
      "\n",
      "Epoch: 47\n",
      "---------------------\n"
     ]
    },
    {
     "data": {
      "application/vnd.jupyter.widget-view+json": {
       "model_id": "19b6bc5f8740488381a2751f534cc1e9",
       "version_major": 2,
       "version_minor": 0
      },
      "text/plain": [
       "0it [00:00, ?it/s]"
      ]
     },
     "metadata": {},
     "output_type": "display_data"
    },
    {
     "name": "stdout",
     "output_type": "stream",
     "text": [
      "Epoch 47/50, Loss: 0.042809, Supervised Loss: 0.042937, Unsupervised Loss: 0.022781\n",
      "Acc : 71.06370192307692\n",
      "\n",
      "Epoch: 48\n",
      "---------------------\n"
     ]
    },
    {
     "data": {
      "application/vnd.jupyter.widget-view+json": {
       "model_id": "5a1601fd62164ab3953c8c4cf0b5cc33",
       "version_major": 2,
       "version_minor": 0
      },
      "text/plain": [
       "0it [00:00, ?it/s]"
      ]
     },
     "metadata": {},
     "output_type": "display_data"
    },
    {
     "name": "stdout",
     "output_type": "stream",
     "text": [
      "Epoch 48/50, Loss: 0.043129, Supervised Loss: 0.043254, Unsupervised Loss: 0.022704\n",
      "Acc : 71.04366987179488\n",
      "\n",
      "Epoch: 49\n",
      "---------------------\n"
     ]
    },
    {
     "data": {
      "application/vnd.jupyter.widget-view+json": {
       "model_id": "bc0e1a8e59a64ff4b22c1dbf835d80df",
       "version_major": 2,
       "version_minor": 0
      },
      "text/plain": [
       "0it [00:00, ?it/s]"
      ]
     },
     "metadata": {},
     "output_type": "display_data"
    },
    {
     "name": "stdout",
     "output_type": "stream",
     "text": [
      "Epoch 49/50, Loss: 0.042542, Supervised Loss: 0.042664, Unsupervised Loss: 0.022659\n",
      "Acc : 68.82011217948718\n",
      "\n",
      "Epoch: 50\n",
      "---------------------\n"
     ]
    },
    {
     "data": {
      "application/vnd.jupyter.widget-view+json": {
       "model_id": "3a5bf60aa02544de9f9ef5a41cbeb3f2",
       "version_major": 2,
       "version_minor": 0
      },
      "text/plain": [
       "0it [00:00, ?it/s]"
      ]
     },
     "metadata": {},
     "output_type": "display_data"
    },
    {
     "name": "stdout",
     "output_type": "stream",
     "text": [
      "Epoch 50/50, Loss: 0.041720, Supervised Loss: 0.041840, Unsupervised Loss: 0.022612\n",
      "Acc : 70.63301282051282\n"
     ]
    }
   ],
   "source": [
    "def calc_metrics_temporal(model, loader):\n",
    "    correct = 0\n",
    "    total = 0\n",
    "    for i, (samples, labels) in enumerate(loader):\n",
    "        labels = labels.requires_grad_(False)\n",
    "        outputs = model(samples)\n",
    "        _, predicted = torch.max(outputs.detach(), 1)\n",
    "        total += labels.size(0)\n",
    "        correct += (predicted == labels.detach().view_as(predicted)).sum()\n",
    "    acc = 100 * float(correct) / total\n",
    "    return acc\n",
    "\n",
    "model = CNN_Temporal(batch_size=64, std=0.1)\n",
    "seed = 0\n",
    "k = 100\n",
    "alpha = 0.6\n",
    "lr = 0.002\n",
    "num_epochs = 50\n",
    "batch_size = 64\n",
    "ntrain = len(train_data)\n",
    "n_classes = 10\n",
    "max_epochs = 80\n",
    "max_val = 1.\n",
    "\n",
    "optimizer = torch.optim.Adam(model.parameters(), lr=lr, betas=(0.9, 0.99))\n",
    "\n",
    "Z = torch.zeros(ntrain, n_classes).float()\n",
    "z = torch.zeros(ntrain, n_classes).float()\n",
    "outputs = torch.zeros(ntrain, n_classes).float()\n",
    "\n",
    "losses_temporal = []\n",
    "suplosses_temporal = []\n",
    "unsuplosses_temporal = []\n",
    "accuracies_temporal = []\n",
    "best_loss = 30.0\n",
    "for epoch in range(num_epochs):\n",
    "    print(f'\\nEpoch: {epoch+1}')\n",
    "    model.train()\n",
    "    w = weight_scheduler(epoch, max_epochs, max_val, 5, k, 60000)\n",
    "    w = torch.tensor(w, requires_grad=False)\n",
    "    print('---------------------')\n",
    "\n",
    "    for i, (images, labels) in tqdm(enumerate(train_loader)):\n",
    "        batch_size = images.size(0)\n",
    "        labels = labels.requires_grad_(False)\n",
    "\n",
    "        optimizer.zero_grad()\n",
    "        out = model(images)\n",
    "        \n",
    "        zcomp = z[i * batch_size: (i+1) * batch_size]\n",
    "        zcomp.requires_grad_(False)\n",
    "        loss, suploss, unsuploss, nbsup = temporal_losses(out, zcomp, w, labels)\n",
    "\n",
    "        outputs[i * batch_size: (i+1) * batch_size] = out.clone().detach()\n",
    "        losses_temporal.append(loss.item())\n",
    "        suplosses_temporal.append(nbsup * suploss.item())\n",
    "        unsuplosses_temporal.append(unsuploss.item())\n",
    "\n",
    "        loss.backward()\n",
    "        optimizer.step()\n",
    "\n",
    "    loss_mean = np.mean(losses_temporal)\n",
    "    supl_mean = np.mean(suplosses_temporal)\n",
    "    unsupl_mean = np.mean(unsuplosses_temporal)\n",
    "\n",
    "    print(f'Epoch {epoch+1}/{num_epochs}, Loss: {loss_mean:.6f}, Supervised Loss: {supl_mean:.6f}, Unsupervised Loss: {unsupl_mean:.6f}')\n",
    "    Z = alpha * Z + (1. - alpha) * outputs\n",
    "    z = Z * (1. / (1. - alpha ** (epoch + 1)))\n",
    "\n",
    "    if loss_mean < best_loss:\n",
    "        best_loss = loss_mean\n",
    "        torch.save({'state_dict': model.state_dict()}, 'model_best_temporal.pth')\n",
    "\n",
    "    model.eval()\n",
    "    acc = calc_metrics_temporal(model, test_loader)\n",
    "    accuracies_temporal.append(acc)\n",
    "    print(f'Acc : {acc}')"
   ]
  },
  {
   "cell_type": "markdown",
   "metadata": {},
   "source": [
    "Temporal Ensembling 의 학습은 위와 같이 진행된다.\n",
    "Pi-Model 과는 다르게 $Z$ 로 unsupervised loss 를 계산하기 때문에, 첫 epoch 에는 reference 할 $Z$ 가 없어 먼저 0으로 초기화를 해주었다.\n",
    "```\n",
    "Z = torch.zeros(ntrain, n_classes).float()\n",
    "z = torch.zeros(ntrain, n_classes).float()\n",
    "```\n",
    "이후 한 epoch 이 지난 후, $\\alpha Z + (1-\\alpha)z$ 로 $Z$ 를 업데이트 해준 뒤, 다음 epoch 에서 target 으로 사용할 $z$ 를 $Z/(1-\\alpha^t)$ 가중평균으로 업데이트 해주었다.\n",
    "\n",
    "```\n",
    "Z = alpha * Z + (1. - alpha) * outputs\n",
    "z = Z * (1. / (1. - alpha ** (epoch + 1)))\n",
    "```"
   ]
  },
  {
   "cell_type": "markdown",
   "metadata": {},
   "source": [
    "$z$ 의 가중평균 momentum $\\alpha = 0.6$, learning rate 0.002, batch size 64 로 총 50 epoch 동안 학습을 진행하였다.\n",
    "\n",
    "`model.device` 를 따로 할당하지 않고 일반 cpu 에서 학습 한 결과 약 20분이 걸렸으며, 최종적인 Test Accuracy 는 약 70.63 이였다."
   ]
  },
  {
   "cell_type": "code",
   "execution_count": 78,
   "metadata": {},
   "outputs": [
    {
     "data": {
      "image/png": "[encoded data removed]",
      "text/plain": [
       "<Figure size 700x500 with 1 Axes>"
      ]
     },
     "metadata": {},
     "output_type": "display_data"
    }
   ],
   "source": [
    "plt.figure(figsize=(7, 5))\n",
    "plt.plot(accuracies)\n",
    "plt.plot(accuracies_temporal)\n",
    "plt.xlabel('Epoch')\n",
    "plt.ylabel('Accuracy')\n",
    "plt.legend(['Pi', 'Temporal'])\n",
    "plt.title('Accuracy vs Epoch');"
   ]
  },
  {
   "cell_type": "code",
   "execution_count": 88,
   "metadata": {},
   "outputs": [
    {
     "data": {
      "image/png": "[encoded data removed]",
      "text/plain": [
       "<Figure size 2000x500 with 1 Axes>"
      ]
     },
     "metadata": {},
     "output_type": "display_data"
    }
   ],
   "source": [
    "plt.figure(figsize=(20, 5))\n",
    "plt.plot(unsuplosses_temporal, linewidth=0.3)\n",
    "plt.xlabel('Epoch')\n",
    "plt.ylabel('Unsupervised Loss')\n",
    "plt.title('Unsupervised Loss vs Epoch');"
   ]
  },
  {
   "cell_type": "code",
   "execution_count": 90,
   "metadata": {},
   "outputs": [
    {
     "name": "stdout",
     "output_type": "stream",
     "text": [
      "Testing Accuracy: 70.6\n"
     ]
    }
   ],
   "source": [
    "def evaluation(model, loader):\n",
    "    checkpoint = torch.load('model_best_temporal.pth')\n",
    "    model.load_state_dict(checkpoint['state_dict'])\n",
    "    model.eval()\n",
    "    correct = 0\n",
    "    total = 0\n",
    "    pred_probs = []\n",
    "    true_labels = []\n",
    "    with torch.inference_mode():\n",
    "        for i, (samples, labels) in enumerate(loader):\n",
    "            labels = labels.requires_grad_(False)\n",
    "            outputs = model(samples)\n",
    "            _, predicted = torch.max(outputs.detach(), 1)\n",
    "            total += labels.size(0)\n",
    "            correct += (predicted == labels.detach().view_as(predicted)).sum()\n",
    "            pred_probs.append(predicted)\n",
    "            true_labels.append(labels)\n",
    "        acc = 100 * float(correct) / total\n",
    "        print(f'Testing Accuracy: {acc:.1f}')\n",
    "        pred_probs = torch.cat(pred_probs)\n",
    "        labels = torch.cat(true_labels)\n",
    "    return pred_probs, labels\n",
    "\n",
    "pred_probs, labels = evaluation(model, test_loader)"
   ]
  },
  {
   "cell_type": "markdown",
   "metadata": {},
   "source": [
    "Best Model 의 Test 데이터에 대한 Accuracy 는 약 70.6으로, 일반적인 classification task 였으면 sub-par 한 성능이였겠지만,\n",
    "\n",
    "**총 60,000개의 학습 샘플 중 100개만 label 이 있다는 것을 감안 한다면 꽤나 준수한 성능을 보인 것을 알 수 있다.**"
   ]
  },
  {
   "cell_type": "code",
   "execution_count": 91,
   "metadata": {},
   "outputs": [
    {
     "data": {
      "image/png": "[encoded data removed]",
      "text/plain": [
       "<Figure size 900x900 with 9 Axes>"
      ]
     },
     "metadata": {},
     "output_type": "display_data"
    }
   ],
   "source": [
    "plt.figure(figsize=(9, 9))\n",
    "nrows = 3\n",
    "ncols = 3\n",
    "for i, sample in enumerate(test_data):\n",
    "    plt.subplot(nrows, ncols, i+1)\n",
    "    plt.imshow(sample[0].squeeze(), cmap=\"gray\")\n",
    "    pred_label = class_names[pred_probs[i]]\n",
    "    truth_label = class_names[labels[i]] \n",
    "    title_text = f\"Pred: {pred_label} | Truth: {truth_label}\"\n",
    "    if pred_label == truth_label:\n",
    "        plt.title(title_text, fontsize=10, c=\"g\")\n",
    "        plt.axis(False);\n",
    "    else:\n",
    "        plt.title(title_text, fontsize=10, c=\"r\")\n",
    "        plt.axis(False);\n",
    "    if i==8:\n",
    "        break"
   ]
  },
  {
   "cell_type": "markdown",
   "metadata": {},
   "source": [
    "test data 에 대한 모델의 prediction 과 실제 label 을 시각화 한 결과, `Anlke boot`, `sandal`, `trouser` 같이 명확한 shape 이 있는 샘플에 대해서는 예측을 잘 하는 것을 볼 수 있다. 하지만 모양이 얼추 비슷한 `coat`, `pullover`, `shirt` 같은 상의는 분류를 잘 못하였다.\n",
    "\n",
    "Pi-Model 을 학습하는데는 일반 `cpu` 로 약 40분, Temporal Ensembling Model 을 학습하는데 20분으로 약 2배 빨랐다. 이는 Temporal Ensembling Model은 한번의 perturbation 에 한번 evaluation 을 거친다는 장점 덕분이다.\n",
    "\n",
    "하지만 Temporal Ensembling 의 단점으론 메모리에 $Z$ 를 할당할 공간이 필요하다는 점이 있다. FashionMNIST 는 비교적 작은 데이터셋이므로 큰 memory load 는 없었지만, Pi-Model 에 비해 더 memory intensive 하다. 또한 새로운 가중평균 hyperparameter $\\alpha$ 가 추가되기 때문에, model tuning 시 고려해야 하는 경우의 수가 늘어난다."
   ]
  }
 ],
 "metadata": {
  "kernelspec": {
   "display_name": "Python 3.10.8 ('pythonic')",
   "language": "python",
   "name": "python3"
  },
  "language_info": {
   "codemirror_mode": {
    "name": "ipython",
    "version": 3
   },
   "file_extension": ".py",
   "mimetype": "text/x-python",
   "name": "python",
   "nbconvert_exporter": "python",
   "pygments_lexer": "ipython3",
   "version": "3.10.8"
  },
  "orig_nbformat": 4,
  "vscode": {
   "interpreter": {
    "hash": "d9dfe8649efdebf637683ec0ff4ad50ece43b2e2443eff7ae8d3cefb2bef952f"
   }
  }
 },
 "nbformat": 4,
 "nbformat_minor": 2
}
